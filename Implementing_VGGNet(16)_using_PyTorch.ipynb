{
  "nbformat": 4,
  "nbformat_minor": 0,
  "metadata": {
    "colab": {
      "provenance": [],
      "gpuType": "T4",
      "authorship_tag": "ABX9TyNyoQrotTLWEt9TI7f4ZBvj",
      "include_colab_link": true
    },
    "kernelspec": {
      "name": "python3",
      "display_name": "Python 3"
    },
    "language_info": {
      "name": "python"
    },
    "accelerator": "GPU"
  },
  "cells": [
    {
      "cell_type": "markdown",
      "metadata": {
        "id": "view-in-github",
        "colab_type": "text"
      },
      "source": [
        "<a href=\"https://colab.research.google.com/github/povashraful/Learning_MLDL/blob/main/Implementing_VGGNet(16)_using_PyTorch.ipynb\" target=\"_parent\"><img src=\"https://colab.research.google.com/assets/colab-badge.svg\" alt=\"Open In Colab\"/></a>"
      ]
    },
    {
      "cell_type": "code",
      "source": [
        "import torch\n",
        "import torch.nn as nn"
      ],
      "metadata": {
        "id": "R85PdhPXbjkj"
      },
      "execution_count": 7,
      "outputs": []
    },
    {
      "cell_type": "code",
      "execution_count": 18,
      "metadata": {
        "id": "AkDTJxqmZmsJ"
      },
      "outputs": [],
      "source": [
        "import torch.nn as nn\n",
        "\n",
        "class VGGNet(nn.Module):\n",
        "    def __init__(self, in_channels=3, output=1000):\n",
        "        super().__init__()\n",
        "\n",
        "        # Conv Block 1\n",
        "        self.layer1 = nn.Conv2d(in_channels, 64, kernel_size=3, padding=1)\n",
        "        self.layer2 = nn.Conv2d(64, 64, kernel_size=3, padding=1)\n",
        "\n",
        "        # Conv Block 2\n",
        "        self.layer3 = nn.Conv2d(64, 128, kernel_size=3, padding=1)\n",
        "        self.layer4 = nn.Conv2d(128, 128, kernel_size=3, padding=1)\n",
        "\n",
        "        # Conv Block 3\n",
        "        self.layer5 = nn.Conv2d(128, 256, kernel_size=3, padding=1)\n",
        "        self.layer6 = nn.Conv2d(256, 256, kernel_size=3, padding=1)\n",
        "        self.layer7 = nn.Conv2d(256, 256, kernel_size=3, padding=1)\n",
        "\n",
        "        # Conv Block 4\n",
        "        self.layer8 = nn.Conv2d(256, 512, kernel_size=3, padding=1)\n",
        "        self.layer9 = nn.Conv2d(512, 512, kernel_size=3, padding=1)\n",
        "        self.layer10 = nn.Conv2d(512, 512, kernel_size=3, padding=1)\n",
        "\n",
        "        # Conv Block 5\n",
        "        self.layer11 = nn.Conv2d(512, 512, kernel_size=3, padding=1)\n",
        "        self.layer12 = nn.Conv2d(512, 512, kernel_size=3, padding=1)\n",
        "        self.layer13 = nn.Conv2d(512, 512, kernel_size=3, padding=1)\n",
        "\n",
        "        # Fully Connected\n",
        "        self.fcn1 = nn.Linear(7 * 7 * 512, 4096)\n",
        "        self.fcn2 = nn.Linear(4096, 4096)\n",
        "        self.fcn3 = nn.Linear(4096, output)\n",
        "\n",
        "        self.flatten = nn.Flatten()\n",
        "        self.maxpooling = nn.MaxPool2d(kernel_size=2, stride=2)\n",
        "        self.activation = nn.ReLU()\n",
        "        self.dropout = nn.Dropout(0.5)\n",
        "\n",
        "\n",
        "\n",
        "    def forward(self, x):\n",
        "        # Conv Block 1\n",
        "        x = self.activation(self.layer1(x))\n",
        "        x = self.activation(self.layer2(x))\n",
        "        x = self.maxpooling(x)\n",
        "\n",
        "        # Conv Block 2\n",
        "        x = self.activation(self.layer3(x))\n",
        "        x = self.activation(self.layer4(x))\n",
        "        x = self.maxpooling(x)\n",
        "\n",
        "        # Conv Block 3\n",
        "        x = self.activation(self.layer5(x))\n",
        "        x = self.activation(self.layer6(x))\n",
        "        x = self.activation(self.layer7(x))\n",
        "        x = self.maxpooling(x)\n",
        "\n",
        "        # Conv Block 4\n",
        "        x = self.activation(self.layer8(x))\n",
        "        x = self.activation(self.layer9(x))\n",
        "        x = self.activation(self.layer10(x))\n",
        "        x = self.maxpooling(x)\n",
        "\n",
        "        # Conv Block 5\n",
        "        x = self.activation(self.layer11(x))\n",
        "        x = self.activation(self.layer12(x))\n",
        "        x = self.activation(self.layer13(x))\n",
        "        x = self.maxpooling(x)\n",
        "\n",
        "        # Fully Connected\n",
        "        x = self.flatten(x)\n",
        "        x = self.activation(self.fcn1(x))\n",
        "        x = self.dropout(x)\n",
        "        x = self.activation(self.fcn2(x))\n",
        "        x = self.dropout(x)\n",
        "        return self.fcn3(x)\n",
        "\n",
        ""
      ]
    },
    {
      "cell_type": "code",
      "source": [
        "!pip install torchinfo\n",
        "from torchinfo import summary"
      ],
      "metadata": {
        "id": "tunQLJ_OpCUk",
        "outputId": "a9e52e45-70e8-4b8b-bc84-13c46006b19f",
        "colab": {
          "base_uri": "https://localhost:8080/"
        }
      },
      "execution_count": 15,
      "outputs": [
        {
          "output_type": "stream",
          "name": "stdout",
          "text": [
            "Requirement already satisfied: torchinfo in /usr/local/lib/python3.11/dist-packages (1.8.0)\n"
          ]
        }
      ]
    },
    {
      "cell_type": "code",
      "source": [
        "model = VGGNet(output=1000)\n",
        "print(model)"
      ],
      "metadata": {
        "colab": {
          "base_uri": "https://localhost:8080/"
        },
        "id": "kxtB8B4q3aI-",
        "outputId": "729f61ed-e105-4a0b-9cc2-70fcf96635c5"
      },
      "execution_count": 19,
      "outputs": [
        {
          "output_type": "stream",
          "name": "stdout",
          "text": [
            "VGGNet(\n",
            "  (layer1): Conv2d(3, 64, kernel_size=(3, 3), stride=(1, 1), padding=(1, 1))\n",
            "  (layer2): Conv2d(64, 64, kernel_size=(3, 3), stride=(1, 1), padding=(1, 1))\n",
            "  (layer3): Conv2d(64, 128, kernel_size=(3, 3), stride=(1, 1), padding=(1, 1))\n",
            "  (layer4): Conv2d(128, 128, kernel_size=(3, 3), stride=(1, 1), padding=(1, 1))\n",
            "  (layer5): Conv2d(128, 256, kernel_size=(3, 3), stride=(1, 1), padding=(1, 1))\n",
            "  (layer6): Conv2d(256, 256, kernel_size=(3, 3), stride=(1, 1), padding=(1, 1))\n",
            "  (layer7): Conv2d(256, 256, kernel_size=(3, 3), stride=(1, 1), padding=(1, 1))\n",
            "  (layer8): Conv2d(256, 512, kernel_size=(3, 3), stride=(1, 1), padding=(1, 1))\n",
            "  (layer9): Conv2d(512, 512, kernel_size=(3, 3), stride=(1, 1), padding=(1, 1))\n",
            "  (layer10): Conv2d(512, 512, kernel_size=(3, 3), stride=(1, 1), padding=(1, 1))\n",
            "  (layer11): Conv2d(512, 512, kernel_size=(3, 3), stride=(1, 1), padding=(1, 1))\n",
            "  (layer12): Conv2d(512, 512, kernel_size=(3, 3), stride=(1, 1), padding=(1, 1))\n",
            "  (layer13): Conv2d(512, 512, kernel_size=(3, 3), stride=(1, 1), padding=(1, 1))\n",
            "  (fcn1): Linear(in_features=25088, out_features=4096, bias=True)\n",
            "  (fcn2): Linear(in_features=4096, out_features=4096, bias=True)\n",
            "  (fcn3): Linear(in_features=4096, out_features=1000, bias=True)\n",
            "  (flatten): Flatten(start_dim=1, end_dim=-1)\n",
            "  (maxpooling): MaxPool2d(kernel_size=2, stride=2, padding=0, dilation=1, ceil_mode=False)\n",
            "  (activation): ReLU()\n",
            "  (dropout): Dropout(p=0.5, inplace=False)\n",
            ")\n"
          ]
        }
      ]
    },
    {
      "cell_type": "code",
      "source": [
        "model = VGGNet(output=1000)\n",
        "summary(model, input_size=(1, 3, 224, 224)) #(batch_size, channels, height, width)"
      ],
      "metadata": {
        "colab": {
          "base_uri": "https://localhost:8080/"
        },
        "id": "25sHj7-wwKLW",
        "outputId": "8969e737-790c-4da0-be1f-dc882f42bd56"
      },
      "execution_count": 20,
      "outputs": [
        {
          "output_type": "execute_result",
          "data": {
            "text/plain": [
              "==========================================================================================\n",
              "Layer (type:depth-idx)                   Output Shape              Param #\n",
              "==========================================================================================\n",
              "VGGNet                                   [1, 1000]                 --\n",
              "├─Conv2d: 1-1                            [1, 64, 224, 224]         1,792\n",
              "├─ReLU: 1-2                              [1, 64, 224, 224]         --\n",
              "├─Conv2d: 1-3                            [1, 64, 224, 224]         36,928\n",
              "├─ReLU: 1-4                              [1, 64, 224, 224]         --\n",
              "├─MaxPool2d: 1-5                         [1, 64, 112, 112]         --\n",
              "├─Conv2d: 1-6                            [1, 128, 112, 112]        73,856\n",
              "├─ReLU: 1-7                              [1, 128, 112, 112]        --\n",
              "├─Conv2d: 1-8                            [1, 128, 112, 112]        147,584\n",
              "├─ReLU: 1-9                              [1, 128, 112, 112]        --\n",
              "├─MaxPool2d: 1-10                        [1, 128, 56, 56]          --\n",
              "├─Conv2d: 1-11                           [1, 256, 56, 56]          295,168\n",
              "├─ReLU: 1-12                             [1, 256, 56, 56]          --\n",
              "├─Conv2d: 1-13                           [1, 256, 56, 56]          590,080\n",
              "├─ReLU: 1-14                             [1, 256, 56, 56]          --\n",
              "├─Conv2d: 1-15                           [1, 256, 56, 56]          590,080\n",
              "├─ReLU: 1-16                             [1, 256, 56, 56]          --\n",
              "├─MaxPool2d: 1-17                        [1, 256, 28, 28]          --\n",
              "├─Conv2d: 1-18                           [1, 512, 28, 28]          1,180,160\n",
              "├─ReLU: 1-19                             [1, 512, 28, 28]          --\n",
              "├─Conv2d: 1-20                           [1, 512, 28, 28]          2,359,808\n",
              "├─ReLU: 1-21                             [1, 512, 28, 28]          --\n",
              "├─Conv2d: 1-22                           [1, 512, 28, 28]          2,359,808\n",
              "├─ReLU: 1-23                             [1, 512, 28, 28]          --\n",
              "├─MaxPool2d: 1-24                        [1, 512, 14, 14]          --\n",
              "├─Conv2d: 1-25                           [1, 512, 14, 14]          2,359,808\n",
              "├─ReLU: 1-26                             [1, 512, 14, 14]          --\n",
              "├─Conv2d: 1-27                           [1, 512, 14, 14]          2,359,808\n",
              "├─ReLU: 1-28                             [1, 512, 14, 14]          --\n",
              "├─Conv2d: 1-29                           [1, 512, 14, 14]          2,359,808\n",
              "├─ReLU: 1-30                             [1, 512, 14, 14]          --\n",
              "├─MaxPool2d: 1-31                        [1, 512, 7, 7]            --\n",
              "├─Flatten: 1-32                          [1, 25088]                --\n",
              "├─Linear: 1-33                           [1, 4096]                 102,764,544\n",
              "├─ReLU: 1-34                             [1, 4096]                 --\n",
              "├─Dropout: 1-35                          [1, 4096]                 --\n",
              "├─Linear: 1-36                           [1, 4096]                 16,781,312\n",
              "├─ReLU: 1-37                             [1, 4096]                 --\n",
              "├─Dropout: 1-38                          [1, 4096]                 --\n",
              "├─Linear: 1-39                           [1, 1000]                 4,097,000\n",
              "==========================================================================================\n",
              "Total params: 138,357,544\n",
              "Trainable params: 138,357,544\n",
              "Non-trainable params: 0\n",
              "Total mult-adds (Units.GIGABYTES): 15.48\n",
              "==========================================================================================\n",
              "Input size (MB): 0.60\n",
              "Forward/backward pass size (MB): 108.45\n",
              "Params size (MB): 553.43\n",
              "Estimated Total Size (MB): 662.49\n",
              "=========================================================================================="
            ]
          },
          "metadata": {},
          "execution_count": 20
        }
      ]
    }
  ]
}
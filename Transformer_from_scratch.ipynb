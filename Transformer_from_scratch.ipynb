{
  "nbformat": 4,
  "nbformat_minor": 0,
  "metadata": {
    "colab": {
      "provenance": [],
      "authorship_tag": "ABX9TyO+m/4VQLWmE7zUMiP9zAQ4",
      "include_colab_link": true
    },
    "kernelspec": {
      "name": "python3",
      "display_name": "Python 3"
    },
    "language_info": {
      "name": "python"
    }
  },
  "cells": [
    {
      "cell_type": "markdown",
      "metadata": {
        "id": "view-in-github",
        "colab_type": "text"
      },
      "source": [
        "<a href=\"https://colab.research.google.com/github/povashraful/Research_paper_implementation/blob/main/Transformer_from_scratch.ipynb\" target=\"_parent\"><img src=\"https://colab.research.google.com/assets/colab-badge.svg\" alt=\"Open In Colab\"/></a>"
      ]
    },
    {
      "cell_type": "code",
      "source": [
        "!pip install datasets"
      ],
      "metadata": {
        "colab": {
          "base_uri": "https://localhost:8080/"
        },
        "id": "Tih4gHqd4RV-",
        "outputId": "942e00ff-61bb-4427-94a1-f48ca2ff2d64"
      },
      "execution_count": 1117,
      "outputs": [
        {
          "output_type": "stream",
          "name": "stdout",
          "text": [
            "Requirement already satisfied: datasets in /usr/local/lib/python3.11/dist-packages (4.0.0)\n",
            "Requirement already satisfied: filelock in /usr/local/lib/python3.11/dist-packages (from datasets) (3.18.0)\n",
            "Requirement already satisfied: numpy>=1.17 in /usr/local/lib/python3.11/dist-packages (from datasets) (2.0.2)\n",
            "Requirement already satisfied: pyarrow>=15.0.0 in /usr/local/lib/python3.11/dist-packages (from datasets) (18.1.0)\n",
            "Requirement already satisfied: dill<0.3.9,>=0.3.0 in /usr/local/lib/python3.11/dist-packages (from datasets) (0.3.8)\n",
            "Requirement already satisfied: pandas in /usr/local/lib/python3.11/dist-packages (from datasets) (2.2.2)\n",
            "Requirement already satisfied: requests>=2.32.2 in /usr/local/lib/python3.11/dist-packages (from datasets) (2.32.3)\n",
            "Requirement already satisfied: tqdm>=4.66.3 in /usr/local/lib/python3.11/dist-packages (from datasets) (4.67.1)\n",
            "Requirement already satisfied: xxhash in /usr/local/lib/python3.11/dist-packages (from datasets) (3.5.0)\n",
            "Requirement already satisfied: multiprocess<0.70.17 in /usr/local/lib/python3.11/dist-packages (from datasets) (0.70.16)\n",
            "Requirement already satisfied: fsspec<=2025.3.0,>=2023.1.0 in /usr/local/lib/python3.11/dist-packages (from fsspec[http]<=2025.3.0,>=2023.1.0->datasets) (2025.3.0)\n",
            "Requirement already satisfied: huggingface-hub>=0.24.0 in /usr/local/lib/python3.11/dist-packages (from datasets) (0.34.1)\n",
            "Requirement already satisfied: packaging in /usr/local/lib/python3.11/dist-packages (from datasets) (25.0)\n",
            "Requirement already satisfied: pyyaml>=5.1 in /usr/local/lib/python3.11/dist-packages (from datasets) (6.0.2)\n",
            "Requirement already satisfied: aiohttp!=4.0.0a0,!=4.0.0a1 in /usr/local/lib/python3.11/dist-packages (from fsspec[http]<=2025.3.0,>=2023.1.0->datasets) (3.12.14)\n",
            "Requirement already satisfied: typing-extensions>=3.7.4.3 in /usr/local/lib/python3.11/dist-packages (from huggingface-hub>=0.24.0->datasets) (4.14.1)\n",
            "Requirement already satisfied: hf-xet<2.0.0,>=1.1.3 in /usr/local/lib/python3.11/dist-packages (from huggingface-hub>=0.24.0->datasets) (1.1.5)\n",
            "Requirement already satisfied: charset-normalizer<4,>=2 in /usr/local/lib/python3.11/dist-packages (from requests>=2.32.2->datasets) (3.4.2)\n",
            "Requirement already satisfied: idna<4,>=2.5 in /usr/local/lib/python3.11/dist-packages (from requests>=2.32.2->datasets) (3.10)\n",
            "Requirement already satisfied: urllib3<3,>=1.21.1 in /usr/local/lib/python3.11/dist-packages (from requests>=2.32.2->datasets) (2.5.0)\n",
            "Requirement already satisfied: certifi>=2017.4.17 in /usr/local/lib/python3.11/dist-packages (from requests>=2.32.2->datasets) (2025.7.14)\n",
            "Requirement already satisfied: python-dateutil>=2.8.2 in /usr/local/lib/python3.11/dist-packages (from pandas->datasets) (2.9.0.post0)\n",
            "Requirement already satisfied: pytz>=2020.1 in /usr/local/lib/python3.11/dist-packages (from pandas->datasets) (2025.2)\n",
            "Requirement already satisfied: tzdata>=2022.7 in /usr/local/lib/python3.11/dist-packages (from pandas->datasets) (2025.2)\n",
            "Requirement already satisfied: aiohappyeyeballs>=2.5.0 in /usr/local/lib/python3.11/dist-packages (from aiohttp!=4.0.0a0,!=4.0.0a1->fsspec[http]<=2025.3.0,>=2023.1.0->datasets) (2.6.1)\n",
            "Requirement already satisfied: aiosignal>=1.4.0 in /usr/local/lib/python3.11/dist-packages (from aiohttp!=4.0.0a0,!=4.0.0a1->fsspec[http]<=2025.3.0,>=2023.1.0->datasets) (1.4.0)\n",
            "Requirement already satisfied: attrs>=17.3.0 in /usr/local/lib/python3.11/dist-packages (from aiohttp!=4.0.0a0,!=4.0.0a1->fsspec[http]<=2025.3.0,>=2023.1.0->datasets) (25.3.0)\n",
            "Requirement already satisfied: frozenlist>=1.1.1 in /usr/local/lib/python3.11/dist-packages (from aiohttp!=4.0.0a0,!=4.0.0a1->fsspec[http]<=2025.3.0,>=2023.1.0->datasets) (1.7.0)\n",
            "Requirement already satisfied: multidict<7.0,>=4.5 in /usr/local/lib/python3.11/dist-packages (from aiohttp!=4.0.0a0,!=4.0.0a1->fsspec[http]<=2025.3.0,>=2023.1.0->datasets) (6.6.3)\n",
            "Requirement already satisfied: propcache>=0.2.0 in /usr/local/lib/python3.11/dist-packages (from aiohttp!=4.0.0a0,!=4.0.0a1->fsspec[http]<=2025.3.0,>=2023.1.0->datasets) (0.3.2)\n",
            "Requirement already satisfied: yarl<2.0,>=1.17.0 in /usr/local/lib/python3.11/dist-packages (from aiohttp!=4.0.0a0,!=4.0.0a1->fsspec[http]<=2025.3.0,>=2023.1.0->datasets) (1.20.1)\n",
            "Requirement already satisfied: six>=1.5 in /usr/local/lib/python3.11/dist-packages (from python-dateutil>=2.8.2->pandas->datasets) (1.17.0)\n"
          ]
        }
      ]
    },
    {
      "cell_type": "markdown",
      "source": [
        "# Input Embeddings\n"
      ],
      "metadata": {
        "id": "HN56mmXkh_30"
      }
    },
    {
      "cell_type": "markdown",
      "source": [
        "## org"
      ],
      "metadata": {
        "id": "riZ01JiYxztJ"
      }
    },
    {
      "cell_type": "code",
      "source": [
        "# all the important liberires from pytorch\n",
        "import torch\n",
        "import torch.nn as nn\n",
        "from torch.utils.data import Dataset,DataLoader, random_split\n",
        "from torch.utils.tensorboard import SummaryWriter\n",
        "\n",
        "\n",
        "import math\n",
        "\n",
        "\n",
        "#HuggingFace linraries\n",
        "from datasets import load_dataset\n",
        "from tokenizers import Tokenizer\n",
        "from tokenizers.models import WordLevel\n",
        "from tokenizers.trainers import WordLevelTrainer\n",
        "from tokenizers.pre_tokenizers import Whitespace\n",
        "\n",
        "\n",
        "#pathlib\n",
        "from pathlib import Path\n",
        "\n",
        "\n",
        "#typing\n",
        "from typing import Any\n",
        "\n",
        "#Library for progress bars in loops\n",
        "from tqdm import tqdm\n",
        "\n",
        "\n",
        "#importing library of warnings\n",
        "import warnings"
      ],
      "metadata": {
        "id": "Bqk9jbyV4f9D"
      },
      "execution_count": 1118,
      "outputs": []
    },
    {
      "cell_type": "code",
      "execution_count": 1119,
      "metadata": {
        "id": "CkrVJf_Hn1hw"
      },
      "outputs": [],
      "source": [
        "class InputEmbedding(nn.Module):\n",
        "    def __init__(self, d_model:int, vocab_size:int):\n",
        "        super().__init__()\n",
        "        self.d_model = d_model\n",
        "        self.vocab_size = vocab_size\n",
        "        self.embedding = nn.Embedding(vocab_size, d_model)\n",
        "\n",
        "    def forward(self, x):\n",
        "        return self.embedding(x) * math.sqrt(self.d_model)"
      ]
    },
    {
      "cell_type": "markdown",
      "source": [
        "## my code"
      ],
      "metadata": {
        "id": "xPUb09P_xY7g"
      }
    },
    {
      "cell_type": "code",
      "source": [
        " ## May delete later :\n",
        "\n",
        "##trying the code by myself *using the logic*\n",
        "\n",
        "\n",
        "# 1-  we initialize a class and we assigned InputEmbeddings as class name- we can name it whatever we like but it is best to name it according to the block names\n",
        "# 2- we then call our super instructor where we give three parameters - self, d_model (dimentions of the model) and vocab size (total unique words present in the data)\n",
        "\n",
        "class InputEmbeddings (nn.Module):\n",
        "  def __init__(self, d_model, vocab_size):\n",
        "    super().__init__()\n",
        "    self.d_model = d_model\n",
        "    self.vocab_size = vocab_size\n",
        "    self.embedding = nn.embedding(d_model, vocab_size)\n",
        "\n",
        "\n",
        "  def forward(self, x):\n",
        "    return self.embedding(x) * math.sqrt(self.d_model)\n"
      ],
      "metadata": {
        "id": "BXL0aZUwqx_M"
      },
      "execution_count": 1120,
      "outputs": []
    },
    {
      "cell_type": "markdown",
      "source": [
        "Let us see an overview of how this works"
      ],
      "metadata": {
        "id": "V5Al3hu5uzM7"
      }
    },
    {
      "cell_type": "code",
      "source": [
        "import torch\n",
        "import torch.nn as nn\n",
        "import math\n",
        "\n",
        "# Step 1: define vocabulary size and embedding dimension\n",
        "vocab_size = 4\n",
        "d_model = 4\n",
        "\n",
        "# Step 2: Create embedding layer (randomly initialized)\n",
        "embedding_layer = nn.Embedding(vocab_size, d_model)\n",
        "\n",
        "# Step 3: Input word IDs (e.g., 'cat' = 0, 'dog' = 1)\n",
        "input_ids = torch.tensor([0, 1, 2, 3])  # batch of 4 words\n",
        "\n",
        "# Step 4: Get their vectors\n",
        "embeddings = embedding_layer(input_ids) * math.sqrt(d_model)\n",
        "\n",
        "print(\"Input IDs:\", input_ids)\n",
        "print(\"Embedding vectors:\\n\", embeddings)\n"
      ],
      "metadata": {
        "id": "9ydwD_xyDbNq",
        "outputId": "c6b85fd3-9470-4221-a499-7a8fed069d5d",
        "colab": {
          "base_uri": "https://localhost:8080/"
        }
      },
      "execution_count": 1121,
      "outputs": [
        {
          "output_type": "stream",
          "name": "stdout",
          "text": [
            "Input IDs: tensor([0, 1, 2, 3])\n",
            "Embedding vectors:\n",
            " tensor([[-0.5462, -3.3705,  0.4288, -1.5553],\n",
            "        [-0.1022,  1.7158, -3.2650,  2.1695],\n",
            "        [-1.8142,  0.7808,  0.1239, -2.9398],\n",
            "        [ 1.1793, -1.1614,  0.2403, -0.3262]], grad_fn=<MulBackward0>)\n"
          ]
        }
      ]
    },
    {
      "cell_type": "code",
      "source": [
        "embedding_layer"
      ],
      "metadata": {
        "colab": {
          "base_uri": "https://localhost:8080/"
        },
        "id": "n_1ZYtKeu_V7",
        "outputId": "c883604f-a7fb-46a6-9063-15879ad24039"
      },
      "execution_count": 1122,
      "outputs": [
        {
          "output_type": "execute_result",
          "data": {
            "text/plain": [
              "Embedding(4, 4)"
            ]
          },
          "metadata": {},
          "execution_count": 1122
        }
      ]
    },
    {
      "cell_type": "markdown",
      "source": [
        "# Positional Endocoding"
      ],
      "metadata": {
        "id": "AYzHfPlw3j9h"
      }
    },
    {
      "cell_type": "markdown",
      "source": [
        "## my code\n"
      ],
      "metadata": {
        "id": "CynVsKzbwPIf"
      }
    },
    {
      "cell_type": "code",
      "source": [
        "import torch\n",
        "import torch.nn as nn\n",
        "import math"
      ],
      "metadata": {
        "id": "slfLZpXXxMxP"
      },
      "execution_count": 1123,
      "outputs": []
    },
    {
      "cell_type": "code",
      "source": [
        "d_model = 6\n",
        "max_sequence_length=11"
      ],
      "metadata": {
        "id": "1aeRoXtewQAb"
      },
      "execution_count": 1124,
      "outputs": []
    },
    {
      "cell_type": "code",
      "source": [
        "# lets create a matrix\n",
        "\n",
        "pe = torch.zeros(max_sequence_length, d_model) # rows, col"
      ],
      "metadata": {
        "id": "3MHyoUm0w28s"
      },
      "execution_count": 1125,
      "outputs": []
    },
    {
      "cell_type": "code",
      "source": [
        "pe # this is for embeddings position"
      ],
      "metadata": {
        "colab": {
          "base_uri": "https://localhost:8080/"
        },
        "id": "81wIwmVcxPNq",
        "outputId": "0f5049d7-26da-4732-fa6f-f6164e5b9de4"
      },
      "execution_count": 1126,
      "outputs": [
        {
          "output_type": "execute_result",
          "data": {
            "text/plain": [
              "tensor([[0., 0., 0., 0., 0., 0.],\n",
              "        [0., 0., 0., 0., 0., 0.],\n",
              "        [0., 0., 0., 0., 0., 0.],\n",
              "        [0., 0., 0., 0., 0., 0.],\n",
              "        [0., 0., 0., 0., 0., 0.],\n",
              "        [0., 0., 0., 0., 0., 0.],\n",
              "        [0., 0., 0., 0., 0., 0.],\n",
              "        [0., 0., 0., 0., 0., 0.],\n",
              "        [0., 0., 0., 0., 0., 0.],\n",
              "        [0., 0., 0., 0., 0., 0.],\n",
              "        [0., 0., 0., 0., 0., 0.]])"
            ]
          },
          "metadata": {},
          "execution_count": 1126
        }
      ]
    },
    {
      "cell_type": "code",
      "source": [
        "pos = torch.arange(max_sequence_length, dtype=torch.float)"
      ],
      "metadata": {
        "id": "QHBHZGAixPkO"
      },
      "execution_count": 1127,
      "outputs": []
    },
    {
      "cell_type": "code",
      "source": [
        "pos # this is for words position"
      ],
      "metadata": {
        "colab": {
          "base_uri": "https://localhost:8080/"
        },
        "id": "JpPeVggmyUYs",
        "outputId": "c43d342a-d9d4-4237-8b9e-bf4a3b2bcd1c"
      },
      "execution_count": 1128,
      "outputs": [
        {
          "output_type": "execute_result",
          "data": {
            "text/plain": [
              "tensor([ 0.,  1.,  2.,  3.,  4.,  5.,  6.,  7.,  8.,  9., 10.])"
            ]
          },
          "metadata": {},
          "execution_count": 1128
        }
      ]
    },
    {
      "cell_type": "code",
      "source": [
        "pos = pos.reshape(max_sequence_length, 1)"
      ],
      "metadata": {
        "id": "VguNsL3EykOu"
      },
      "execution_count": 1129,
      "outputs": []
    },
    {
      "cell_type": "code",
      "source": [
        "pos"
      ],
      "metadata": {
        "colab": {
          "base_uri": "https://localhost:8080/"
        },
        "id": "AKkFFYiDiDdW",
        "outputId": "9e35a28c-1937-4fcd-bd08-44abdc2d2413"
      },
      "execution_count": 1130,
      "outputs": [
        {
          "output_type": "execute_result",
          "data": {
            "text/plain": [
              "tensor([[ 0.],\n",
              "        [ 1.],\n",
              "        [ 2.],\n",
              "        [ 3.],\n",
              "        [ 4.],\n",
              "        [ 5.],\n",
              "        [ 6.],\n",
              "        [ 7.],\n",
              "        [ 8.],\n",
              "        [ 9.],\n",
              "        [10.]])"
            ]
          },
          "metadata": {},
          "execution_count": 1130
        }
      ]
    },
    {
      "cell_type": "code",
      "source": [
        "pos = pos.unsqueeze(1) # better than reshape\n",
        "pos"
      ],
      "metadata": {
        "colab": {
          "base_uri": "https://localhost:8080/"
        },
        "id": "ga39EMVJ7zWK",
        "outputId": "1e38b13d-7e40-4314-eeb8-1a6fed6638fd"
      },
      "execution_count": 1131,
      "outputs": [
        {
          "output_type": "execute_result",
          "data": {
            "text/plain": [
              "tensor([[[ 0.]],\n",
              "\n",
              "        [[ 1.]],\n",
              "\n",
              "        [[ 2.]],\n",
              "\n",
              "        [[ 3.]],\n",
              "\n",
              "        [[ 4.]],\n",
              "\n",
              "        [[ 5.]],\n",
              "\n",
              "        [[ 6.]],\n",
              "\n",
              "        [[ 7.]],\n",
              "\n",
              "        [[ 8.]],\n",
              "\n",
              "        [[ 9.]],\n",
              "\n",
              "        [[10.]]])"
            ]
          },
          "metadata": {},
          "execution_count": 1131
        }
      ]
    },
    {
      "cell_type": "code",
      "source": [
        "# so now, we have  6 (d_model) x   11 (embeddings)"
      ],
      "metadata": {
        "id": "uz54WO5cyxiy"
      },
      "execution_count": 1132,
      "outputs": []
    },
    {
      "cell_type": "code",
      "source": [
        "even_i = torch.arange(0,d_model,2)\n",
        "\n",
        "# so it will work this numbers from 0 to the range of (d_model-1), which is 5.\n",
        "#In addition, we have given step size = 2\n",
        "# so, - 0,1,2,3,4,5   -> 0,2,4\n",
        "#"
      ],
      "metadata": {
        "id": "Ykd_ehAzaZgo"
      },
      "execution_count": 1133,
      "outputs": []
    },
    {
      "cell_type": "code",
      "source": [
        "even_i"
      ],
      "metadata": {
        "colab": {
          "base_uri": "https://localhost:8080/"
        },
        "id": "aAFo-s2VbIPs",
        "outputId": "38164f6f-a06f-4c1a-df19-aeaf8e0e0236"
      },
      "execution_count": 1134,
      "outputs": [
        {
          "output_type": "execute_result",
          "data": {
            "text/plain": [
              "tensor([0, 2, 4])"
            ]
          },
          "metadata": {},
          "execution_count": 1134
        }
      ]
    },
    {
      "cell_type": "code",
      "source": [
        "even_denominator = torch.pow(10000, even_i/d_model)"
      ],
      "metadata": {
        "id": "0U-teFYTcz-v"
      },
      "execution_count": 1135,
      "outputs": []
    },
    {
      "cell_type": "code",
      "source": [
        "even_denominator"
      ],
      "metadata": {
        "colab": {
          "base_uri": "https://localhost:8080/"
        },
        "id": "qjceX9IOdEBm",
        "outputId": "0e17ac73-bc58-4fd1-94ea-97e451f4603c"
      },
      "execution_count": 1136,
      "outputs": [
        {
          "output_type": "execute_result",
          "data": {
            "text/plain": [
              "tensor([  1.0000,  21.5443, 464.1590])"
            ]
          },
          "metadata": {},
          "execution_count": 1136
        }
      ]
    },
    {
      "cell_type": "code",
      "source": [
        "odd_i = torch.arange(1, d_model, 2)\n",
        "odd_i"
      ],
      "metadata": {
        "colab": {
          "base_uri": "https://localhost:8080/"
        },
        "id": "edphbQVOexBN",
        "outputId": "ff16f759-1c56-4bd2-d7dc-231bd9910cb1"
      },
      "execution_count": 1137,
      "outputs": [
        {
          "output_type": "execute_result",
          "data": {
            "text/plain": [
              "tensor([1, 3, 5])"
            ]
          },
          "metadata": {},
          "execution_count": 1137
        }
      ]
    },
    {
      "cell_type": "code",
      "source": [
        "odd_donominator = torch.pow(10000, (odd_i-1)/d_model)\n",
        "odd_donominator"
      ],
      "metadata": {
        "colab": {
          "base_uri": "https://localhost:8080/"
        },
        "id": "NT5M-lTwe4zv",
        "outputId": "132d7f94-b911-472f-dff8-282a704255dd"
      },
      "execution_count": 1138,
      "outputs": [
        {
          "output_type": "execute_result",
          "data": {
            "text/plain": [
              "tensor([  1.0000,  21.5443, 464.1590])"
            ]
          },
          "metadata": {},
          "execution_count": 1138
        }
      ]
    },
    {
      "cell_type": "markdown",
      "source": [
        "If we notice, the output of both dominators (even and odd) are the same- So, we can use either one or we can rename them as just dominator"
      ],
      "metadata": {
        "id": "TuIXhb1bfvGk"
      }
    },
    {
      "cell_type": "code",
      "source": [
        "donominator = torch.pow(10000, even_i/d_model)"
      ],
      "metadata": {
        "id": "oxZdTxEQf6av"
      },
      "execution_count": 1139,
      "outputs": []
    },
    {
      "cell_type": "code",
      "source": [
        "donominator"
      ],
      "metadata": {
        "colab": {
          "base_uri": "https://localhost:8080/"
        },
        "id": "7nP7-NnOgEG6",
        "outputId": "3e2fab68-2f5a-421b-90de-dd0e0cfd0132"
      },
      "execution_count": 1140,
      "outputs": [
        {
          "output_type": "execute_result",
          "data": {
            "text/plain": [
              "tensor([  1.0000,  21.5443, 464.1590])"
            ]
          },
          "metadata": {},
          "execution_count": 1140
        }
      ]
    },
    {
      "cell_type": "code",
      "source": [
        "even_PE = torch.sin (pos/donominator)\n",
        "even_PE"
      ],
      "metadata": {
        "colab": {
          "base_uri": "https://localhost:8080/"
        },
        "id": "kbMAp-2whhQu",
        "outputId": "201ebeda-63db-4a8c-dfa9-b84214805e03"
      },
      "execution_count": 1141,
      "outputs": [
        {
          "output_type": "execute_result",
          "data": {
            "text/plain": [
              "tensor([[[ 0.0000,  0.0000,  0.0000]],\n",
              "\n",
              "        [[ 0.8415,  0.0464,  0.0022]],\n",
              "\n",
              "        [[ 0.9093,  0.0927,  0.0043]],\n",
              "\n",
              "        [[ 0.1411,  0.1388,  0.0065]],\n",
              "\n",
              "        [[-0.7568,  0.1846,  0.0086]],\n",
              "\n",
              "        [[-0.9589,  0.2300,  0.0108]],\n",
              "\n",
              "        [[-0.2794,  0.2749,  0.0129]],\n",
              "\n",
              "        [[ 0.6570,  0.3192,  0.0151]],\n",
              "\n",
              "        [[ 0.9894,  0.3629,  0.0172]],\n",
              "\n",
              "        [[ 0.4121,  0.4057,  0.0194]],\n",
              "\n",
              "        [[-0.5440,  0.4477,  0.0215]]])"
            ]
          },
          "metadata": {},
          "execution_count": 1141
        }
      ]
    },
    {
      "cell_type": "code",
      "source": [
        "even_PE.shape"
      ],
      "metadata": {
        "colab": {
          "base_uri": "https://localhost:8080/"
        },
        "id": "r_u0alLMiSk4",
        "outputId": "544f2f9a-3b84-470a-ea8f-9a61d2082f90"
      },
      "execution_count": 1142,
      "outputs": [
        {
          "output_type": "execute_result",
          "data": {
            "text/plain": [
              "torch.Size([11, 1, 3])"
            ]
          },
          "metadata": {},
          "execution_count": 1142
        }
      ]
    },
    {
      "cell_type": "code",
      "source": [
        "odd_PE = torch.cos (pos/donominator)\n",
        "odd_PE"
      ],
      "metadata": {
        "colab": {
          "base_uri": "https://localhost:8080/"
        },
        "id": "PQg33OKIiJKQ",
        "outputId": "e8b51b97-07d5-4d51-d2fa-83efc2ac8693"
      },
      "execution_count": 1143,
      "outputs": [
        {
          "output_type": "execute_result",
          "data": {
            "text/plain": [
              "tensor([[[ 1.0000,  1.0000,  1.0000]],\n",
              "\n",
              "        [[ 0.5403,  0.9989,  1.0000]],\n",
              "\n",
              "        [[-0.4161,  0.9957,  1.0000]],\n",
              "\n",
              "        [[-0.9900,  0.9903,  1.0000]],\n",
              "\n",
              "        [[-0.6536,  0.9828,  1.0000]],\n",
              "\n",
              "        [[ 0.2837,  0.9732,  0.9999]],\n",
              "\n",
              "        [[ 0.9602,  0.9615,  0.9999]],\n",
              "\n",
              "        [[ 0.7539,  0.9477,  0.9999]],\n",
              "\n",
              "        [[-0.1455,  0.9318,  0.9999]],\n",
              "\n",
              "        [[-0.9111,  0.9140,  0.9998]],\n",
              "\n",
              "        [[-0.8391,  0.8942,  0.9998]]])"
            ]
          },
          "metadata": {},
          "execution_count": 1143
        }
      ]
    },
    {
      "cell_type": "code",
      "source": [
        "odd_PE.shape"
      ],
      "metadata": {
        "colab": {
          "base_uri": "https://localhost:8080/"
        },
        "id": "utjR8OVRiWWu",
        "outputId": "e66aa010-243f-4644-a4ae-f055517bbf56"
      },
      "execution_count": 1144,
      "outputs": [
        {
          "output_type": "execute_result",
          "data": {
            "text/plain": [
              "torch.Size([11, 1, 3])"
            ]
          },
          "metadata": {},
          "execution_count": 1144
        }
      ]
    },
    {
      "cell_type": "markdown",
      "source": [
        " Let us see how Stack works\n"
      ],
      "metadata": {
        "id": "Jby7XbMmFy1b"
      }
    },
    {
      "cell_type": "code",
      "source": [
        "x = torch.arange(0,5) # num of colms\n",
        "x"
      ],
      "metadata": {
        "colab": {
          "base_uri": "https://localhost:8080/"
        },
        "id": "5bhHzBsiFenW",
        "outputId": "e92aeac9-cb96-4bf8-aeb6-5494811388af"
      },
      "execution_count": 1145,
      "outputs": [
        {
          "output_type": "execute_result",
          "data": {
            "text/plain": [
              "tensor([0, 1, 2, 3, 4])"
            ]
          },
          "metadata": {},
          "execution_count": 1145
        }
      ]
    },
    {
      "cell_type": "code",
      "source": [
        "torch.stack([x,x]) # number of rows"
      ],
      "metadata": {
        "colab": {
          "base_uri": "https://localhost:8080/"
        },
        "id": "5s2SUPUkF0nb",
        "outputId": "be7d2e77-0459-43b8-8fea-4420c645566b"
      },
      "execution_count": 1146,
      "outputs": [
        {
          "output_type": "execute_result",
          "data": {
            "text/plain": [
              "tensor([[0, 1, 2, 3, 4],\n",
              "        [0, 1, 2, 3, 4]])"
            ]
          },
          "metadata": {},
          "execution_count": 1146
        }
      ]
    },
    {
      "cell_type": "code",
      "source": [
        "test = torch.stack([x,x,x,x,x])"
      ],
      "metadata": {
        "id": "U8M2-LSvFyeM"
      },
      "execution_count": 1147,
      "outputs": []
    },
    {
      "cell_type": "code",
      "source": [
        "test"
      ],
      "metadata": {
        "colab": {
          "base_uri": "https://localhost:8080/"
        },
        "id": "vKKA5Aip04eD",
        "outputId": "fcbc8589-b816-40e9-8f7e-ba025694f855"
      },
      "execution_count": 1148,
      "outputs": [
        {
          "output_type": "execute_result",
          "data": {
            "text/plain": [
              "tensor([[0, 1, 2, 3, 4],\n",
              "        [0, 1, 2, 3, 4],\n",
              "        [0, 1, 2, 3, 4],\n",
              "        [0, 1, 2, 3, 4],\n",
              "        [0, 1, 2, 3, 4]])"
            ]
          },
          "metadata": {},
          "execution_count": 1148
        }
      ]
    },
    {
      "cell_type": "code",
      "source": [
        "test.shape"
      ],
      "metadata": {
        "colab": {
          "base_uri": "https://localhost:8080/"
        },
        "id": "tR_AG3-f084h",
        "outputId": "b5e4efc3-4629-46f7-ae3f-6afdb856b0ef"
      },
      "execution_count": 1149,
      "outputs": [
        {
          "output_type": "execute_result",
          "data": {
            "text/plain": [
              "torch.Size([5, 5])"
            ]
          },
          "metadata": {},
          "execution_count": 1149
        }
      ]
    },
    {
      "cell_type": "markdown",
      "source": [
        "Now let us apply stack"
      ],
      "metadata": {
        "id": "WOx436o-uTx3"
      }
    },
    {
      "cell_type": "code",
      "source": [
        "stacked = torch.stack([even_PE, odd_PE], dim=2)\n",
        "stacked"
      ],
      "metadata": {
        "colab": {
          "base_uri": "https://localhost:8080/"
        },
        "id": "n8L0H3fUE51Z",
        "outputId": "14533a45-00d6-481c-fa00-6f3dc4da5e74"
      },
      "execution_count": 1150,
      "outputs": [
        {
          "output_type": "execute_result",
          "data": {
            "text/plain": [
              "tensor([[[[ 0.0000,  0.0000,  0.0000],\n",
              "          [ 1.0000,  1.0000,  1.0000]]],\n",
              "\n",
              "\n",
              "        [[[ 0.8415,  0.0464,  0.0022],\n",
              "          [ 0.5403,  0.9989,  1.0000]]],\n",
              "\n",
              "\n",
              "        [[[ 0.9093,  0.0927,  0.0043],\n",
              "          [-0.4161,  0.9957,  1.0000]]],\n",
              "\n",
              "\n",
              "        [[[ 0.1411,  0.1388,  0.0065],\n",
              "          [-0.9900,  0.9903,  1.0000]]],\n",
              "\n",
              "\n",
              "        [[[-0.7568,  0.1846,  0.0086],\n",
              "          [-0.6536,  0.9828,  1.0000]]],\n",
              "\n",
              "\n",
              "        [[[-0.9589,  0.2300,  0.0108],\n",
              "          [ 0.2837,  0.9732,  0.9999]]],\n",
              "\n",
              "\n",
              "        [[[-0.2794,  0.2749,  0.0129],\n",
              "          [ 0.9602,  0.9615,  0.9999]]],\n",
              "\n",
              "\n",
              "        [[[ 0.6570,  0.3192,  0.0151],\n",
              "          [ 0.7539,  0.9477,  0.9999]]],\n",
              "\n",
              "\n",
              "        [[[ 0.9894,  0.3629,  0.0172],\n",
              "          [-0.1455,  0.9318,  0.9999]]],\n",
              "\n",
              "\n",
              "        [[[ 0.4121,  0.4057,  0.0194],\n",
              "          [-0.9111,  0.9140,  0.9998]]],\n",
              "\n",
              "\n",
              "        [[[-0.5440,  0.4477,  0.0215],\n",
              "          [-0.8391,  0.8942,  0.9998]]]])"
            ]
          },
          "metadata": {},
          "execution_count": 1150
        }
      ]
    },
    {
      "cell_type": "code",
      "source": [
        "stacked.shape"
      ],
      "metadata": {
        "colab": {
          "base_uri": "https://localhost:8080/"
        },
        "id": "mv3FdqMEua-z",
        "outputId": "054bc5f7-7919-4b6a-f848-cba6c7055000"
      },
      "execution_count": 1151,
      "outputs": [
        {
          "output_type": "execute_result",
          "data": {
            "text/plain": [
              "torch.Size([11, 1, 2, 3])"
            ]
          },
          "metadata": {},
          "execution_count": 1151
        }
      ]
    },
    {
      "cell_type": "code",
      "source": [
        "# now we also need to flatten it- and make it 1 dimensional"
      ],
      "metadata": {
        "id": "mxEsZnd0ubqN"
      },
      "execution_count": 1152,
      "outputs": []
    },
    {
      "cell_type": "code",
      "source": [
        "PE = torch.flatten(stacked, start_dim=1, end_dim=2)"
      ],
      "metadata": {
        "id": "oExkTaC5uwip"
      },
      "execution_count": 1153,
      "outputs": []
    },
    {
      "cell_type": "code",
      "source": [
        "PE"
      ],
      "metadata": {
        "colab": {
          "base_uri": "https://localhost:8080/"
        },
        "id": "Lvucgt1zvHmg",
        "outputId": "1e3b0636-3d6e-48ac-f4a4-91c9481d9a23"
      },
      "execution_count": 1154,
      "outputs": [
        {
          "output_type": "execute_result",
          "data": {
            "text/plain": [
              "tensor([[[ 0.0000,  0.0000,  0.0000],\n",
              "         [ 1.0000,  1.0000,  1.0000]],\n",
              "\n",
              "        [[ 0.8415,  0.0464,  0.0022],\n",
              "         [ 0.5403,  0.9989,  1.0000]],\n",
              "\n",
              "        [[ 0.9093,  0.0927,  0.0043],\n",
              "         [-0.4161,  0.9957,  1.0000]],\n",
              "\n",
              "        [[ 0.1411,  0.1388,  0.0065],\n",
              "         [-0.9900,  0.9903,  1.0000]],\n",
              "\n",
              "        [[-0.7568,  0.1846,  0.0086],\n",
              "         [-0.6536,  0.9828,  1.0000]],\n",
              "\n",
              "        [[-0.9589,  0.2300,  0.0108],\n",
              "         [ 0.2837,  0.9732,  0.9999]],\n",
              "\n",
              "        [[-0.2794,  0.2749,  0.0129],\n",
              "         [ 0.9602,  0.9615,  0.9999]],\n",
              "\n",
              "        [[ 0.6570,  0.3192,  0.0151],\n",
              "         [ 0.7539,  0.9477,  0.9999]],\n",
              "\n",
              "        [[ 0.9894,  0.3629,  0.0172],\n",
              "         [-0.1455,  0.9318,  0.9999]],\n",
              "\n",
              "        [[ 0.4121,  0.4057,  0.0194],\n",
              "         [-0.9111,  0.9140,  0.9998]],\n",
              "\n",
              "        [[-0.5440,  0.4477,  0.0215],\n",
              "         [-0.8391,  0.8942,  0.9998]]])"
            ]
          },
          "metadata": {},
          "execution_count": 1154
        }
      ]
    },
    {
      "cell_type": "code",
      "source": [
        "PE.shape"
      ],
      "metadata": {
        "colab": {
          "base_uri": "https://localhost:8080/"
        },
        "id": "TODP1-o2vAPs",
        "outputId": "813d3bd9-ef8d-4a4e-c819-ce7657855b3a"
      },
      "execution_count": 1155,
      "outputs": [
        {
          "output_type": "execute_result",
          "data": {
            "text/plain": [
              "torch.Size([11, 2, 3])"
            ]
          },
          "metadata": {},
          "execution_count": 1155
        }
      ]
    },
    {
      "cell_type": "code",
      "source": [
        "class PositionalEncoding(nn.Module):\n",
        "\n",
        "    def __init__(self, d_model: int, seq_len: int, dropout: float):\n",
        "        super().__init__()\n",
        "        self.d_model = d_model #\n",
        "        self.seq_len = seq_len\n",
        "        self.dropout = nn.Dropout(dropout)\n",
        "\n",
        "\n",
        "        pe = torch.zeros(seq_len, d_model)\n",
        "        position = torch.arange(0, seq_len, dtype = torch.float).unsqueeze(1)\n",
        "        # div term  = denominator - name has been replaced by\n",
        "        div_term = torch.exp(torch.arange(0, d_model, 2).float() * (-math.log(10000.0) / d_model))\n",
        "        pe[:, 0::2] = torch.sin(position * div_term)\n",
        "        pe[:, 1::2] = torch.cos(position * div_term)\n",
        "        pe = pe.unsqueeze(0)\n",
        "        self.register_buffer('pe', pe)\n",
        "\n",
        "    def forward(self,x):\n",
        "\n",
        "        x = x + (self.pe[:, :x.shape[1], :]).requires_grad_(False)\n",
        "        return self.dropout(x)"
      ],
      "metadata": {
        "id": "XT8nS_OORmIg"
      },
      "execution_count": 1156,
      "outputs": []
    },
    {
      "cell_type": "markdown",
      "source": [
        "## org"
      ],
      "metadata": {
        "id": "L9wg4iZcxmSo"
      }
    },
    {
      "cell_type": "code",
      "source": [
        "class PositionalEncoding(nn.Module):\n",
        "\n",
        "    def __init__(self, d_model: int, seq_len: int, dropout: float) -> None:\n",
        "        super().__init__()\n",
        "        self.d_model = d_model # Dimensionality of the model\n",
        "        self.seq_len = seq_len # Maximum sequence length\n",
        "        self.dropout = nn.Dropout(dropout) # Dropout layer to prevent overfitting\n",
        "\n",
        "        # Creating a positional encoding matrix of shape (seq_len, d_model) filled with zeros\n",
        "        pe = torch.zeros(seq_len, d_model)\n",
        "\n",
        "        # Creating a tensor representing positions (0 to seq_len - 1)\n",
        "        position = torch.arange(0, seq_len, dtype = torch.float).unsqueeze(1) # Transforming 'position' into a 2D tensor['seq_len, 1']\n",
        "\n",
        "        # Creating the division term for the positional encoding formula\n",
        "        # div term  = denominator - name has been replaced by\n",
        "        div_term = torch.exp(torch.arange(0, d_model, 2).float() * (-math.log(10000.0) / d_model))\n",
        "\n",
        "        # Apply sine to even indices in pe\n",
        "        pe[:, 0::2] = torch.sin(position * div_term)\n",
        "        # Apply cosine to odd indices in pe\n",
        "        pe[:, 1::2] = torch.cos(position * div_term)\n",
        "\n",
        "        # Adding an extra dimension at the beginning of pe matrix for batch handling\n",
        "        pe = pe.unsqueeze(0)\n",
        "\n",
        "        # Registering 'pe' as buffer. Buffer is a tensor not considered as a model parameter\n",
        "        self.register_buffer('pe', pe)\n",
        "\n",
        "    def forward(self,x):\n",
        "        # Addind positional encoding to the input tensor X\n",
        "        x = x + (self.pe[:, :x.shape[1], :]).requires_grad_(False)\n",
        "        return self.dropout(x) # Dropout for regularization"
      ],
      "metadata": {
        "id": "WFwxLabNLsxg"
      },
      "execution_count": 1157,
      "outputs": []
    },
    {
      "cell_type": "markdown",
      "source": [
        "# Attention Mechanism"
      ],
      "metadata": {
        "id": "jP0Vsn3kNG1r"
      }
    },
    {
      "cell_type": "markdown",
      "source": [
        "The input consists of queries and keys of dimension dk <br>\n",
        "\n",
        "q = d_k\n",
        "k = d_k\n",
        "<br>\n",
        "\n",
        "and values of dimensions dv\n",
        "<br>\n",
        "\n",
        "v = d_v"
      ],
      "metadata": {
        "id": "R4ypYQkTN3SL"
      }
    },
    {
      "cell_type": "markdown",
      "source": [
        "## My Code\n"
      ],
      "metadata": {
        "id": "oUuIPclbNNp9"
      }
    },
    {
      "cell_type": "code",
      "source": [
        "import numpy as np\n",
        "import math"
      ],
      "metadata": {
        "id": "s-RH_FeWNTAT"
      },
      "execution_count": 1158,
      "outputs": []
    },
    {
      "cell_type": "markdown",
      "source": [
        "The animal didnt cross the street because it was too tired"
      ],
      "metadata": {
        "id": "K-WzYlSuOFKc"
      }
    },
    {
      "cell_type": "markdown",
      "source": [
        " d_model = 512"
      ],
      "metadata": {
        "id": "QlHIQljyOTcb"
      }
    },
    {
      "cell_type": "markdown",
      "source": [
        "![image.png](data:image/png;base64,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)"
      ],
      "metadata": {
        "id": "w5GuR_04NxJL"
      }
    },
    {
      "cell_type": "markdown",
      "source": [
        "As we cannot visualize 512 - we will take small dimensions to understand simply <br>\n",
        "\n",
        "therefore, for now, we will be using dimensions = 6"
      ],
      "metadata": {
        "id": "Bo4R0BA0OWsb"
      }
    },
    {
      "cell_type": "code",
      "source": [
        "d_k = 6\n",
        "d_v = 6"
      ],
      "metadata": {
        "id": "Psn-vWLINVQX"
      },
      "execution_count": 1159,
      "outputs": []
    },
    {
      "cell_type": "markdown",
      "source": [
        "![image.png](data:image/png;base64,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)"
      ],
      "metadata": {
        "id": "rS8LoS4yOtS7"
      }
    },
    {
      "cell_type": "markdown",
      "source": [
        "max_sequence_length = 11\n",
        "L =11"
      ],
      "metadata": {
        "id": "g49As16GSlz0"
      }
    },
    {
      "cell_type": "code",
      "source": [
        "L, d_k, d_v = 11,6,6"
      ],
      "metadata": {
        "id": "CBJSAOi2Nzcz"
      },
      "execution_count": 1160,
      "outputs": []
    },
    {
      "cell_type": "code",
      "source": [
        "q = np.random.randn(L,d_k)\n",
        "# 11 lines (sequence length),\n",
        "# 6 dimensions (dimension of q) -  random numbers\n",
        "q"
      ],
      "metadata": {
        "colab": {
          "base_uri": "https://localhost:8080/"
        },
        "id": "TVMMLdbcVpI7",
        "outputId": "80a7c0e2-18fa-4a6d-cf60-96b7c936eb13"
      },
      "execution_count": 1161,
      "outputs": [
        {
          "output_type": "execute_result",
          "data": {
            "text/plain": [
              "array([[ 0.18394079, -0.33748309, -1.50968742, -1.19455619, -0.3799599 ,\n",
              "         2.4060912 ],\n",
              "       [-0.30110713, -1.11339198, -0.69406452,  0.67424484,  1.42415264,\n",
              "         1.14274144],\n",
              "       [-1.45334942, -0.25277993, -0.20254873, -1.05395979, -0.10937579,\n",
              "         2.23440285],\n",
              "       [ 0.28974527, -1.76551549, -1.09999604,  0.3226148 ,  0.04158027,\n",
              "         0.15823597],\n",
              "       [-0.84890719,  0.06496579, -0.52874074,  1.29567019,  0.56144133,\n",
              "         0.27261938],\n",
              "       [ 0.20366391, -0.70476683,  0.3562458 ,  0.2110917 , -0.31117622,\n",
              "        -0.38767095],\n",
              "       [ 1.31961592,  1.04237482,  0.98487102,  0.31560556, -1.72528354,\n",
              "         1.51956725],\n",
              "       [ 1.45592148, -0.3036138 , -0.18571442,  0.61171795, -0.85313404,\n",
              "         0.09237628],\n",
              "       [ 0.12545848, -1.40296586,  1.41935677, -1.04036561,  0.26754781,\n",
              "         1.64932275],\n",
              "       [ 0.87766999,  1.47439628, -0.17097998,  0.40542463,  1.33432467,\n",
              "        -0.70035012],\n",
              "       [ 1.36052068, -0.28046841,  0.30835513,  0.69503642,  0.1979182 ,\n",
              "         0.36151764]])"
            ]
          },
          "metadata": {},
          "execution_count": 1161
        }
      ]
    },
    {
      "cell_type": "code",
      "source": [
        "k = np.random.randn(L,d_k) # 11 lines (sequence length),\n",
        "# 6 dimensions (dimension of k) -  random numbers\n",
        "k"
      ],
      "metadata": {
        "colab": {
          "base_uri": "https://localhost:8080/"
        },
        "id": "zyTXW3aQWBFz",
        "outputId": "1eabac37-56ec-4be2-b711-7e9d60d5ad32"
      },
      "execution_count": 1162,
      "outputs": [
        {
          "output_type": "execute_result",
          "data": {
            "text/plain": [
              "array([[-1.21045468, -0.03759168,  0.66175445,  0.22146822, -0.6537663 ,\n",
              "        -0.80755954],\n",
              "       [-0.0511339 ,  0.62709671,  0.15550583, -0.99598398,  0.64181647,\n",
              "        -0.6922716 ],\n",
              "       [-1.77517845,  1.77955567, -0.73674715, -0.96076989,  0.28207113,\n",
              "         1.46772133],\n",
              "       [-0.4510016 , -0.16504393,  0.55509117, -0.17918503, -1.76605185,\n",
              "         0.81422036],\n",
              "       [-0.44257917,  0.41893048, -0.65366744, -0.99866217,  2.17535546,\n",
              "         1.51860942],\n",
              "       [-0.55710637, -0.28649594,  1.05948272, -0.44301226, -2.24518163,\n",
              "        -0.59306473],\n",
              "       [-0.50416383, -0.11098051,  0.30400511, -0.19205376, -1.02044518,\n",
              "         1.24369445],\n",
              "       [-0.50442702, -1.3819305 ,  1.36519615, -0.3504454 , -1.26913676,\n",
              "         0.31629654],\n",
              "       [-0.10540427,  0.65375043,  1.21899934,  0.72198987, -0.7339238 ,\n",
              "        -0.38866883],\n",
              "       [ 0.3265458 ,  0.67943221, -0.09726204,  1.5260965 ,  1.07234263,\n",
              "         0.47220737],\n",
              "       [ 1.74834646, -1.17006316,  0.52227885,  0.33439603, -0.42798803,\n",
              "         0.19164364]])"
            ]
          },
          "metadata": {},
          "execution_count": 1162
        }
      ]
    },
    {
      "cell_type": "code",
      "source": [
        "v = np.random.randn(L,d_v)\n",
        "# 11 lines (sequence length),\n",
        "# 6 dimensions (dimension of k) -  random numbers\n",
        "v"
      ],
      "metadata": {
        "colab": {
          "base_uri": "https://localhost:8080/"
        },
        "id": "VcUPi3RhWUsb",
        "outputId": "b9b65ac9-dca1-42b2-99d7-575cbc4f19d3"
      },
      "execution_count": 1163,
      "outputs": [
        {
          "output_type": "execute_result",
          "data": {
            "text/plain": [
              "array([[-1.44212257e+00, -8.38759768e-02, -1.17894135e+00,\n",
              "         1.86662146e+00,  7.64426947e-01, -5.50872367e-02],\n",
              "       [-2.05006918e-01, -3.41454975e-01,  6.97023721e-01,\n",
              "        -3.87049632e-02, -1.08127319e+00,  4.74394703e-01],\n",
              "       [-1.71165599e-01,  9.30071799e-01,  8.99340993e-01,\n",
              "         1.21438716e+00,  6.72273340e-01,  1.04685299e+00],\n",
              "       [ 1.10969462e+00, -2.04979264e-01, -7.22929885e-01,\n",
              "        -3.00224430e+00,  2.95444824e-01,  5.17729338e-01],\n",
              "       [-9.33639172e-01, -7.94730869e-01, -6.71399751e-01,\n",
              "         5.23257983e-01, -1.52922160e+00,  3.19578825e+00],\n",
              "       [ 1.24469094e+00,  5.63226895e-03, -2.24984899e-01,\n",
              "         9.66387067e-01, -1.16568458e+00, -1.87585441e+00],\n",
              "       [ 1.41219093e-01, -6.21645340e-01,  1.27617876e-02,\n",
              "        -9.30749333e-01, -1.49041134e-01, -1.35389621e+00],\n",
              "       [ 5.10005756e-01, -9.91946207e-01,  3.14620972e-01,\n",
              "        -1.56716531e+00, -9.67431190e-01, -2.03217896e+00],\n",
              "       [ 1.09218157e+00, -1.69188005e-01, -1.80943104e-01,\n",
              "        -1.54846852e+00,  8.12183259e-01,  1.48595092e+00],\n",
              "       [ 1.73546109e+00, -7.59107548e-01,  1.20785837e+00,\n",
              "         1.82394797e+00, -6.58701084e-01,  3.53564985e-01],\n",
              "       [ 2.74286580e-03, -9.14065907e-01, -4.99710770e-02,\n",
              "         1.11488357e+00,  1.24646653e-02,  2.62032668e-01]])"
            ]
          },
          "metadata": {},
          "execution_count": 1163
        }
      ]
    },
    {
      "cell_type": "markdown",
      "source": [
        "![image.png](data:image/png;base64,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)"
      ],
      "metadata": {
        "id": "5zVeO7QzW3dD"
      }
    },
    {
      "cell_type": "markdown",
      "source": [
        "![image.png](data:image/png;base64,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)"
      ],
      "metadata": {
        "id": "oqLpEaufeOYb"
      }
    },
    {
      "cell_type": "markdown",
      "source": [
        "![image.png](data:image/png;base64,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)"
      ],
      "metadata": {
        "id": "ZoI5z3J4eTNE"
      }
    },
    {
      "cell_type": "markdown",
      "source": [
        "![image.png](data:image/png;base64,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)"
      ],
      "metadata": {
        "id": "oKbAmd8wetDc"
      }
    },
    {
      "cell_type": "markdown",
      "source": [
        "![image.png](data:image/png;base64,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)"
      ],
      "metadata": {
        "id": "K0eCOhTRfKKr"
      }
    },
    {
      "cell_type": "code",
      "source": [
        "q.shape"
      ],
      "metadata": {
        "colab": {
          "base_uri": "https://localhost:8080/"
        },
        "id": "Yx3LdhWfWcLz",
        "outputId": "9ac2ae8c-811b-4342-c11b-95f88623fb47"
      },
      "execution_count": 1164,
      "outputs": [
        {
          "output_type": "execute_result",
          "data": {
            "text/plain": [
              "(11, 6)"
            ]
          },
          "metadata": {},
          "execution_count": 1164
        }
      ]
    },
    {
      "cell_type": "code",
      "source": [
        "k.shape"
      ],
      "metadata": {
        "colab": {
          "base_uri": "https://localhost:8080/"
        },
        "id": "RdvgmNqPgRap",
        "outputId": "a64ffb79-b41a-4290-c8b7-47cc78626499"
      },
      "execution_count": 1165,
      "outputs": [
        {
          "output_type": "execute_result",
          "data": {
            "text/plain": [
              "(11, 6)"
            ]
          },
          "metadata": {},
          "execution_count": 1165
        }
      ]
    },
    {
      "cell_type": "code",
      "source": [
        "q.shape, k.shape"
      ],
      "metadata": {
        "colab": {
          "base_uri": "https://localhost:8080/"
        },
        "id": "UNaXOLXfgYzx",
        "outputId": "acb1e8ef-bd24-4ffc-9e6c-ce1ab4b7e802"
      },
      "execution_count": 1166,
      "outputs": [
        {
          "output_type": "execute_result",
          "data": {
            "text/plain": [
              "((11, 6), (11, 6))"
            ]
          },
          "metadata": {},
          "execution_count": 1166
        }
      ]
    },
    {
      "cell_type": "code",
      "source": [
        "k"
      ],
      "metadata": {
        "colab": {
          "base_uri": "https://localhost:8080/"
        },
        "id": "7pmEdO5W-f5l",
        "outputId": "ba8803e3-8cbd-462e-857f-069aed8c8f25"
      },
      "execution_count": 1167,
      "outputs": [
        {
          "output_type": "execute_result",
          "data": {
            "text/plain": [
              "array([[-1.21045468, -0.03759168,  0.66175445,  0.22146822, -0.6537663 ,\n",
              "        -0.80755954],\n",
              "       [-0.0511339 ,  0.62709671,  0.15550583, -0.99598398,  0.64181647,\n",
              "        -0.6922716 ],\n",
              "       [-1.77517845,  1.77955567, -0.73674715, -0.96076989,  0.28207113,\n",
              "         1.46772133],\n",
              "       [-0.4510016 , -0.16504393,  0.55509117, -0.17918503, -1.76605185,\n",
              "         0.81422036],\n",
              "       [-0.44257917,  0.41893048, -0.65366744, -0.99866217,  2.17535546,\n",
              "         1.51860942],\n",
              "       [-0.55710637, -0.28649594,  1.05948272, -0.44301226, -2.24518163,\n",
              "        -0.59306473],\n",
              "       [-0.50416383, -0.11098051,  0.30400511, -0.19205376, -1.02044518,\n",
              "         1.24369445],\n",
              "       [-0.50442702, -1.3819305 ,  1.36519615, -0.3504454 , -1.26913676,\n",
              "         0.31629654],\n",
              "       [-0.10540427,  0.65375043,  1.21899934,  0.72198987, -0.7339238 ,\n",
              "        -0.38866883],\n",
              "       [ 0.3265458 ,  0.67943221, -0.09726204,  1.5260965 ,  1.07234263,\n",
              "         0.47220737],\n",
              "       [ 1.74834646, -1.17006316,  0.52227885,  0.33439603, -0.42798803,\n",
              "         0.19164364]])"
            ]
          },
          "metadata": {},
          "execution_count": 1167
        }
      ]
    },
    {
      "cell_type": "code",
      "source": [
        "k = k.mT\n",
        "k\n"
      ],
      "metadata": {
        "colab": {
          "base_uri": "https://localhost:8080/"
        },
        "id": "0-QA9ANBgqvP",
        "outputId": "ba1ba642-e612-4e73-90c3-946b7468bed4"
      },
      "execution_count": 1168,
      "outputs": [
        {
          "output_type": "execute_result",
          "data": {
            "text/plain": [
              "array([[-1.21045468, -0.0511339 , -1.77517845, -0.4510016 , -0.44257917,\n",
              "        -0.55710637, -0.50416383, -0.50442702, -0.10540427,  0.3265458 ,\n",
              "         1.74834646],\n",
              "       [-0.03759168,  0.62709671,  1.77955567, -0.16504393,  0.41893048,\n",
              "        -0.28649594, -0.11098051, -1.3819305 ,  0.65375043,  0.67943221,\n",
              "        -1.17006316],\n",
              "       [ 0.66175445,  0.15550583, -0.73674715,  0.55509117, -0.65366744,\n",
              "         1.05948272,  0.30400511,  1.36519615,  1.21899934, -0.09726204,\n",
              "         0.52227885],\n",
              "       [ 0.22146822, -0.99598398, -0.96076989, -0.17918503, -0.99866217,\n",
              "        -0.44301226, -0.19205376, -0.3504454 ,  0.72198987,  1.5260965 ,\n",
              "         0.33439603],\n",
              "       [-0.6537663 ,  0.64181647,  0.28207113, -1.76605185,  2.17535546,\n",
              "        -2.24518163, -1.02044518, -1.26913676, -0.7339238 ,  1.07234263,\n",
              "        -0.42798803],\n",
              "       [-0.80755954, -0.6922716 ,  1.46772133,  0.81422036,  1.51860942,\n",
              "        -0.59306473,  1.24369445,  0.31629654, -0.38866883,  0.47220737,\n",
              "         0.19164364]])"
            ]
          },
          "metadata": {},
          "execution_count": 1168
        }
      ]
    },
    {
      "cell_type": "code",
      "source": [
        "k.shape"
      ],
      "metadata": {
        "colab": {
          "base_uri": "https://localhost:8080/"
        },
        "id": "rHrlbgVi-bLU",
        "outputId": "0b8714cd-0e29-409b-9283-a34d67995fb8"
      },
      "execution_count": 1169,
      "outputs": [
        {
          "output_type": "execute_result",
          "data": {
            "text/plain": [
              "(6, 11)"
            ]
          },
          "metadata": {},
          "execution_count": 1169
        }
      ]
    },
    {
      "cell_type": "code",
      "source": [
        "dot_product = np.matmul(q,k)\n",
        "dot_product"
      ],
      "metadata": {
        "colab": {
          "base_uri": "https://localhost:8080/"
        },
        "id": "FnxsK5Ap_EGd",
        "outputId": "290c5e92-7f4a-4240-a0f3-9560c0bd10d8"
      },
      "execution_count": 1170,
      "outputs": [
        {
          "output_type": "execute_result",
          "data": {
            "text/plain": [
              "array([[-3.16822097, -1.17557964,  4.75714952,  1.9788917 ,  4.78436621,\n",
              "        -1.64996059,  3.09535458, -0.02553988, -3.59909436, -1.11667773,\n",
              "         0.15226647],\n",
              "       [-1.75754043, -1.33931862,  0.49567013, -1.77120934,  4.28059061,\n",
              "        -4.42251811, -0.0971668 , -0.9393026 , -2.54477625,  2.30845969,\n",
              "         0.24874779],\n",
              "       [-0.33164723, -0.68298529,  6.54058763,  2.78606311,  4.87752824,\n",
              "         0.05483387,  3.79214735,  2.02081632, -1.80809007, -1.29726283,\n",
              "        -2.22839609],\n",
              "       [-1.09580192, -1.69719509, -2.9117474 , -0.45228775, -0.14026457,\n",
              "        -1.15115445, -0.19213827,  0.67617359, -2.38473487, -0.38629534,\n",
              "         2.11824525],\n",
              "       [ 0.37496694, -1.11692561,  1.32577498, -0.92308997,  1.0899454 ,\n",
              "        -2.10208898, -0.22266475, -1.46378021, -0.0951378 ,  2.52646727,\n",
              "        -1.59112549],\n",
              "       [ 0.57896868, -0.53856119, -2.73775199,  0.41829293, -2.09470095,\n",
              "         1.30093154, -0.12131094,  1.55588069,  0.48351605, -0.64158719,\n",
              "         1.49622969],\n",
              "       [-1.01408929, -1.73426085,  0.22723363,  4.00715768, -2.55178922,\n",
              "         2.8422073 ,  3.10824133,  1.79805475,  2.64639919,  0.39244781,\n",
              "         2.7370321 ],\n",
              "       [-1.25518393, -1.51448807, -3.68077555,  0.76268116, -2.976644  ,\n",
              "         0.66877698,  0.11119579,  0.32921875,  0.45355201,  0.3495124 ,\n",
              "         3.39109829],\n",
              "       [-0.89710429, -0.59936744, -0.26930844,  2.01966823,  2.55460465,\n",
              "         0.71788043,  2.50198376,  4.3599287 , -0.7887519 , -1.57227482,\n",
              "         2.4558844 ],\n",
              "       [-1.44792494,  1.7905496 ,  0.15065429, -3.7334521 ,  1.77518506,\n",
              "        -3.85257079, -2.96858756, -4.77069284,  0.24857666,  3.02384147,\n",
              "        -0.84968502],\n",
              "       [-1.69966076, -1.01298491, -3.22279183, -0.57586108, -0.63575664,\n",
              "        -1.31758007, -0.4468888 , -0.2581411 ,  0.26516541,  1.66736185,\n",
              "         3.08486799]])"
            ]
          },
          "metadata": {},
          "execution_count": 1170
        }
      ]
    },
    {
      "cell_type": "code",
      "source": [
        "dot_product.shape"
      ],
      "metadata": {
        "colab": {
          "base_uri": "https://localhost:8080/"
        },
        "id": "2pb3Y1uCCXeF",
        "outputId": "2a40afff-0fc2-4e1d-aa07-d6d227e12681"
      },
      "execution_count": 1171,
      "outputs": [
        {
          "output_type": "execute_result",
          "data": {
            "text/plain": [
              "(11, 11)"
            ]
          },
          "metadata": {},
          "execution_count": 1171
        }
      ]
    },
    {
      "cell_type": "code",
      "source": [
        "q.var(), k.var(), dot_product.var()"
      ],
      "metadata": {
        "colab": {
          "base_uri": "https://localhost:8080/"
        },
        "id": "03IfVUQOCYyh",
        "outputId": "8e4a34fd-a813-415a-8d59-0a6ce65acc02"
      },
      "execution_count": 1172,
      "outputs": [
        {
          "output_type": "execute_result",
          "data": {
            "text/plain": [
              "(np.float64(0.9035034540495765),\n",
              " np.float64(0.8626577607335503),\n",
              " np.float64(4.718839375302654))"
            ]
          },
          "metadata": {},
          "execution_count": 1172
        }
      ]
    },
    {
      "cell_type": "code",
      "source": [
        "#d_k = 6\n",
        "scaled = dot_product\n",
        "q.var(), k.var(), scaled.var()\n",
        "\n",
        "# we get high variance if we dont scale it (divide it)"
      ],
      "metadata": {
        "colab": {
          "base_uri": "https://localhost:8080/"
        },
        "id": "QxY9wn3tWaY_",
        "outputId": "66aefcc6-669c-4ec7-bebc-0fd010142690"
      },
      "execution_count": 1173,
      "outputs": [
        {
          "output_type": "execute_result",
          "data": {
            "text/plain": [
              "(np.float64(0.9035034540495765),\n",
              " np.float64(0.8626577607335503),\n",
              " np.float64(4.718839375302654))"
            ]
          },
          "metadata": {},
          "execution_count": 1173
        }
      ]
    },
    {
      "cell_type": "code",
      "source": [
        "#d_k = 6\n",
        "scaled = dot_product / math.sqrt(d_k)\n",
        "q.var(), k.var(), scaled.var()"
      ],
      "metadata": {
        "colab": {
          "base_uri": "https://localhost:8080/"
        },
        "id": "FwFOQ-owQII-",
        "outputId": "c4909b80-c931-49dc-89d4-fd34bd09bb0c"
      },
      "execution_count": 1174,
      "outputs": [
        {
          "output_type": "execute_result",
          "data": {
            "text/plain": [
              "(np.float64(0.9035034540495765),\n",
              " np.float64(0.8626577607335503),\n",
              " np.float64(0.7864732292171089))"
            ]
          },
          "metadata": {},
          "execution_count": 1174
        }
      ]
    },
    {
      "cell_type": "markdown",
      "source": [
        "![image.png](data:image/png;base64,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)"
      ],
      "metadata": {
        "id": "4OxtA3nAr1Kx"
      }
    },
    {
      "cell_type": "code",
      "source": [
        "def softmax(x):\n",
        "  return (np.exp(x).mT / np.sum(np.exp(x), axis=1)).mT"
      ],
      "metadata": {
        "id": "Yslz2NJRr2Gu"
      },
      "execution_count": 1175,
      "outputs": []
    },
    {
      "cell_type": "code",
      "source": [
        "attention = softmax(scaled)\n",
        "attention"
      ],
      "metadata": {
        "colab": {
          "base_uri": "https://localhost:8080/"
        },
        "id": "B-wQFR4RtVXR",
        "outputId": "b2730346-1fca-4775-f179-45c8c90d973e"
      },
      "execution_count": 1176,
      "outputs": [
        {
          "output_type": "execute_result",
          "data": {
            "text/plain": [
              "array([[0.0113703 , 0.02564881, 0.28902808, 0.0929726 , 0.29225743,\n",
              "        0.02113292, 0.14665735, 0.04101751, 0.00953626, 0.02627306,\n",
              "        0.04410566],\n",
              "       [0.03400278, 0.04033343, 0.08531171, 0.03381356, 0.40001379,\n",
              "        0.0114555 , 0.06697283, 0.04748845, 0.02465685, 0.17882004,\n",
              "        0.07713106],\n",
              "       [0.02426528, 0.02102292, 0.40126604, 0.08664735, 0.20350356,\n",
              "        0.02841243, 0.1306574 , 0.06339822, 0.01328043, 0.01635994,\n",
              "        0.01118644],\n",
              "       [0.0659522 , 0.05159437, 0.03142405, 0.08576782, 0.09741954,\n",
              "        0.06447856, 0.09537814, 0.13595667, 0.03896741, 0.08810992,\n",
              "        0.24495133],\n",
              "       [0.09760402, 0.05308297, 0.14389509, 0.05745426, 0.1306873 ,\n",
              "        0.03550469, 0.07647291, 0.04607421, 0.08055976, 0.2349247 ,\n",
              "        0.04374008],\n",
              "       [0.10233486, 0.06484636, 0.02642221, 0.09583757, 0.03435437,\n",
              "        0.13741293, 0.07688897, 0.15248604, 0.09842374, 0.06217547,\n",
              "        0.14881749],\n",
              "       [0.02783653, 0.02074573, 0.04620634, 0.21621311, 0.0148587 ,\n",
              "        0.13438053, 0.14979737, 0.08774212, 0.12405651, 0.04943039,\n",
              "        0.12873267],\n",
              "       [0.04652429, 0.04185093, 0.01728313, 0.10603449, 0.02303907,\n",
              "        0.10204646, 0.0812716 , 0.08883708, 0.09346275, 0.08957614,\n",
              "        0.31007407],\n",
              "       [0.0322272 , 0.03639245, 0.04164192, 0.10601473, 0.13188957,\n",
              "        0.06231022, 0.12908648, 0.27560961, 0.03368475, 0.02446329,\n",
              "        0.12667979],\n",
              "       [0.04663139, 0.17492819, 0.08955842, 0.01834233, 0.17383438,\n",
              "        0.01747168, 0.02506484, 0.01201024, 0.09321119, 0.28941593,\n",
              "        0.05953142],\n",
              "       [0.04191134, 0.05547268, 0.02250507, 0.06631033, 0.06470856,\n",
              "        0.04898628, 0.0698953 , 0.07549409, 0.09347494, 0.16569316,\n",
              "        0.29554825]])"
            ]
          },
          "metadata": {},
          "execution_count": 1176
        }
      ]
    },
    {
      "cell_type": "code",
      "source": [
        "attention.shape"
      ],
      "metadata": {
        "colab": {
          "base_uri": "https://localhost:8080/"
        },
        "id": "UNd6GiY5tjco",
        "outputId": "0cd3c4e4-b2d5-43cf-b7b2-a42747769199"
      },
      "execution_count": 1177,
      "outputs": [
        {
          "output_type": "execute_result",
          "data": {
            "text/plain": [
              "(11, 11)"
            ]
          },
          "metadata": {},
          "execution_count": 1177
        }
      ]
    },
    {
      "cell_type": "markdown",
      "source": [
        "we have completed this part <br> ![image.png](data:image/png;base64,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)"
      ],
      "metadata": {
        "id": "Pc7q7rfL1eFh"
      }
    },
    {
      "cell_type": "markdown",
      "source": [
        "now let us dot product attention with V"
      ],
      "metadata": {
        "id": "15TXSohZ1vOp"
      }
    },
    {
      "cell_type": "code",
      "source": [
        "v"
      ],
      "metadata": {
        "colab": {
          "base_uri": "https://localhost:8080/"
        },
        "id": "_EYoFd4zwl0U",
        "outputId": "40c88fe5-1aec-48e7-eef3-b5968a4be480"
      },
      "execution_count": 1178,
      "outputs": [
        {
          "output_type": "execute_result",
          "data": {
            "text/plain": [
              "array([[-1.44212257e+00, -8.38759768e-02, -1.17894135e+00,\n",
              "         1.86662146e+00,  7.64426947e-01, -5.50872367e-02],\n",
              "       [-2.05006918e-01, -3.41454975e-01,  6.97023721e-01,\n",
              "        -3.87049632e-02, -1.08127319e+00,  4.74394703e-01],\n",
              "       [-1.71165599e-01,  9.30071799e-01,  8.99340993e-01,\n",
              "         1.21438716e+00,  6.72273340e-01,  1.04685299e+00],\n",
              "       [ 1.10969462e+00, -2.04979264e-01, -7.22929885e-01,\n",
              "        -3.00224430e+00,  2.95444824e-01,  5.17729338e-01],\n",
              "       [-9.33639172e-01, -7.94730869e-01, -6.71399751e-01,\n",
              "         5.23257983e-01, -1.52922160e+00,  3.19578825e+00],\n",
              "       [ 1.24469094e+00,  5.63226895e-03, -2.24984899e-01,\n",
              "         9.66387067e-01, -1.16568458e+00, -1.87585441e+00],\n",
              "       [ 1.41219093e-01, -6.21645340e-01,  1.27617876e-02,\n",
              "        -9.30749333e-01, -1.49041134e-01, -1.35389621e+00],\n",
              "       [ 5.10005756e-01, -9.91946207e-01,  3.14620972e-01,\n",
              "        -1.56716531e+00, -9.67431190e-01, -2.03217896e+00],\n",
              "       [ 1.09218157e+00, -1.69188005e-01, -1.80943104e-01,\n",
              "        -1.54846852e+00,  8.12183259e-01,  1.48595092e+00],\n",
              "       [ 1.73546109e+00, -7.59107548e-01,  1.20785837e+00,\n",
              "         1.82394797e+00, -6.58701084e-01,  3.53564985e-01],\n",
              "       [ 2.74286580e-03, -9.14065907e-01, -4.99710770e-02,\n",
              "         1.11488357e+00,  1.24646653e-02,  2.62032668e-01]])"
            ]
          },
          "metadata": {},
          "execution_count": 1178
        }
      ]
    },
    {
      "cell_type": "markdown",
      "source": [
        "now, let us complete the full formula"
      ],
      "metadata": {
        "id": "7VDD3eUUw-QN"
      }
    },
    {
      "cell_type": "code",
      "source": [
        "v.shape"
      ],
      "metadata": {
        "colab": {
          "base_uri": "https://localhost:8080/"
        },
        "id": "u1y024Wqwm6C",
        "outputId": "63ff8065-02ae-4736-93d2-f8b99669780b"
      },
      "execution_count": 1179,
      "outputs": [
        {
          "output_type": "execute_result",
          "data": {
            "text/plain": [
              "(11, 6)"
            ]
          },
          "metadata": {},
          "execution_count": 1179
        }
      ]
    },
    {
      "cell_type": "code",
      "source": [
        "new_attention = np.matmul(attention, v)\n",
        "new_attention"
      ],
      "metadata": {
        "colab": {
          "base_uri": "https://localhost:8080/"
        },
        "id": "UFwsGLPkwgD3",
        "outputId": "e9530d3d-58a7-4a39-ebec-40063844fdca"
      },
      "execution_count": 1180,
      "outputs": [
        {
          "output_type": "execute_result",
          "data": {
            "text/plain": [
              "array([[-0.11675289, -0.18582818,  0.03880007,  0.14698977, -0.33937889,\n",
              "         1.00969946],\n",
              "       [-0.02244074, -0.56120541, -0.00737189,  0.52158801, -0.72806438,\n",
              "         1.31384139],\n",
              "       [-0.07275626,  0.01565996,  0.17966889,  0.20636064, -0.13380196,\n",
              "         0.79333608],\n",
              "       [ 0.25236077, -0.58009457, -0.02432366,  0.08668326, -0.35212465,\n",
              "         0.03634477],\n",
              "       [ 0.33977113, -0.33310385,  0.19653972,  0.49421052, -0.25505366,\n",
              "         0.56829851],\n",
              "       [ 0.38435138, -0.45125884, -0.07613993, -0.09998241, -0.27666837,\n",
              "        -0.25232149],\n",
              "       [ 0.62854754, -0.37815264, -0.11297673, -0.63956377, -0.12298708,\n",
              "        -0.18154057],\n",
              "       [ 0.45970952, -0.54747046, -0.02044143,  0.04803082, -0.19821398,\n",
              "        -0.06627987],\n",
              "       [ 0.24938412, -0.596295  , -0.04890522, -0.49811703, -0.50277033,\n",
              "        -0.22438504],\n",
              "       [ 0.37526549, -0.43953716,  0.34742477,  0.64957214, -0.50361651,\n",
              "         0.90452224],\n",
              "       [ 0.43730614, -0.59634818,  0.10018567,  0.28914244, -0.26227082,\n",
              "         0.22367848]])"
            ]
          },
          "metadata": {},
          "execution_count": 1180
        }
      ]
    },
    {
      "cell_type": "markdown",
      "source": [
        "## Decoder part (masked multi-head attention)"
      ],
      "metadata": {
        "id": "auPuNvqx4-cc"
      }
    },
    {
      "cell_type": "markdown",
      "source": [
        "Now let us make attention with masking"
      ],
      "metadata": {
        "id": "YYHqTsN912th"
      }
    },
    {
      "cell_type": "markdown",
      "source": [
        "![image.png](data:image/png;base64,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)"
      ],
      "metadata": {
        "id": "O6kW04r01_-Z"
      }
    },
    {
      "cell_type": "markdown",
      "source": [
        "**Attention with masking**"
      ],
      "metadata": {
        "id": "XY2SSZCzzBh8"
      }
    },
    {
      "cell_type": "markdown",
      "source": [
        "![image.png](data:image/png;base64,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)"
      ],
      "metadata": {
        "id": "vHCqALXuy_-S"
      }
    },
    {
      "cell_type": "code",
      "source": [
        "mask=np.tril(np.ones((L,L))) # 11 x 11\n",
        "mask"
      ],
      "metadata": {
        "colab": {
          "base_uri": "https://localhost:8080/"
        },
        "id": "ST9euWzhzAkm",
        "outputId": "d0fbfbde-f09a-4c53-88c7-09a893cf25df"
      },
      "execution_count": 1181,
      "outputs": [
        {
          "output_type": "execute_result",
          "data": {
            "text/plain": [
              "array([[1., 0., 0., 0., 0., 0., 0., 0., 0., 0., 0.],\n",
              "       [1., 1., 0., 0., 0., 0., 0., 0., 0., 0., 0.],\n",
              "       [1., 1., 1., 0., 0., 0., 0., 0., 0., 0., 0.],\n",
              "       [1., 1., 1., 1., 0., 0., 0., 0., 0., 0., 0.],\n",
              "       [1., 1., 1., 1., 1., 0., 0., 0., 0., 0., 0.],\n",
              "       [1., 1., 1., 1., 1., 1., 0., 0., 0., 0., 0.],\n",
              "       [1., 1., 1., 1., 1., 1., 1., 0., 0., 0., 0.],\n",
              "       [1., 1., 1., 1., 1., 1., 1., 1., 0., 0., 0.],\n",
              "       [1., 1., 1., 1., 1., 1., 1., 1., 1., 0., 0.],\n",
              "       [1., 1., 1., 1., 1., 1., 1., 1., 1., 1., 0.],\n",
              "       [1., 1., 1., 1., 1., 1., 1., 1., 1., 1., 1.]])"
            ]
          },
          "metadata": {},
          "execution_count": 1181
        }
      ]
    },
    {
      "cell_type": "code",
      "source": [
        "mask.shape"
      ],
      "metadata": {
        "colab": {
          "base_uri": "https://localhost:8080/"
        },
        "id": "ScB8h9T1zxIJ",
        "outputId": "fd6a5fae-d46b-4174-9459-77298d41fc0a"
      },
      "execution_count": 1182,
      "outputs": [
        {
          "output_type": "execute_result",
          "data": {
            "text/plain": [
              "(11, 11)"
            ]
          },
          "metadata": {},
          "execution_count": 1182
        }
      ]
    },
    {
      "cell_type": "code",
      "source": [
        "mask[mask==0]=-np.inf\n",
        "mask[mask==1]= 0"
      ],
      "metadata": {
        "id": "KEb1DhJV0M-y"
      },
      "execution_count": 1183,
      "outputs": []
    },
    {
      "cell_type": "code",
      "source": [
        "mask"
      ],
      "metadata": {
        "colab": {
          "base_uri": "https://localhost:8080/"
        },
        "id": "i5OIAd6X0cgR",
        "outputId": "786e53ef-574f-480b-a257-06dc84e14c4a"
      },
      "execution_count": 1184,
      "outputs": [
        {
          "output_type": "execute_result",
          "data": {
            "text/plain": [
              "array([[  0., -inf, -inf, -inf, -inf, -inf, -inf, -inf, -inf, -inf, -inf],\n",
              "       [  0.,   0., -inf, -inf, -inf, -inf, -inf, -inf, -inf, -inf, -inf],\n",
              "       [  0.,   0.,   0., -inf, -inf, -inf, -inf, -inf, -inf, -inf, -inf],\n",
              "       [  0.,   0.,   0.,   0., -inf, -inf, -inf, -inf, -inf, -inf, -inf],\n",
              "       [  0.,   0.,   0.,   0.,   0., -inf, -inf, -inf, -inf, -inf, -inf],\n",
              "       [  0.,   0.,   0.,   0.,   0.,   0., -inf, -inf, -inf, -inf, -inf],\n",
              "       [  0.,   0.,   0.,   0.,   0.,   0.,   0., -inf, -inf, -inf, -inf],\n",
              "       [  0.,   0.,   0.,   0.,   0.,   0.,   0.,   0., -inf, -inf, -inf],\n",
              "       [  0.,   0.,   0.,   0.,   0.,   0.,   0.,   0.,   0., -inf, -inf],\n",
              "       [  0.,   0.,   0.,   0.,   0.,   0.,   0.,   0.,   0.,   0., -inf],\n",
              "       [  0.,   0.,   0.,   0.,   0.,   0.,   0.,   0.,   0.,   0.,   0.]])"
            ]
          },
          "metadata": {},
          "execution_count": 1184
        }
      ]
    },
    {
      "cell_type": "code",
      "source": [
        "#d_k = 6\n",
        "scaled = dot_product / math.sqrt(d_k)\n"
      ],
      "metadata": {
        "id": "whXZjCNr00j_"
      },
      "execution_count": 1185,
      "outputs": []
    },
    {
      "cell_type": "code",
      "source": [
        "scaled"
      ],
      "metadata": {
        "colab": {
          "base_uri": "https://localhost:8080/"
        },
        "id": "iTNyIc8l1Eeq",
        "outputId": "cb131916-5625-407b-b8a6-bcd37f15c9d9"
      },
      "execution_count": 1186,
      "outputs": [
        {
          "output_type": "execute_result",
          "data": {
            "text/plain": [
              "array([[-1.29342079, -0.47992838,  1.94209816,  0.80787915,  1.95320933,\n",
              "        -0.67359359,  1.26367321, -0.01042661, -1.46932412, -0.45588177,\n",
              "         0.06216252],\n",
              "       [-0.71751288, -0.54677454,  0.20235648, -0.72309318,  1.7475438 ,\n",
              "        -1.80548546, -0.03966818, -0.38346868, -1.03890055,  0.94242472,\n",
              "         0.10155086],\n",
              "       [-0.13539442, -0.27882758,  2.67018372,  1.1374055 ,  1.99124256,\n",
              "         0.02238583,  1.54813767,  0.82499481, -0.73814968, -0.52960533,\n",
              "        -0.90973889],\n",
              "       [-0.44735926, -0.692877  , -1.1887159 , -0.1846457 , -0.05726277,\n",
              "        -0.46995684, -0.07844012,  0.27604671, -0.97356393, -0.15770441,\n",
              "         0.86477   ],\n",
              "       [ 0.15307961, -0.45598297,  0.54124537, -0.3768499 ,  0.44496835,\n",
              "        -0.85817423, -0.0909025 , -0.59758577, -0.03883985,  1.03142594,\n",
              "        -0.64957426],\n",
              "       [ 0.23636298, -0.21986668, -1.11768257,  0.17076737, -0.85515808,\n",
              "         0.53110308, -0.04952498,  0.63518563,  0.1973946 , -0.26192687,\n",
              "         0.61083321],\n",
              "       [-0.41400022, -0.70800903,  0.09276774,  1.63591527, -1.04176358,\n",
              "         1.16032627,  1.26893421,  0.73405278,  1.08038794,  0.16021615,\n",
              "         1.11738868],\n",
              "       [-0.51242669, -0.61828716, -1.50267033,  0.31136328, -1.21520982,\n",
              "         0.27302706,  0.04539549,  0.13440299,  0.18516183,  0.14268784,\n",
              "         1.38441008],\n",
              "       [-0.36624129, -0.24469073, -0.10994471,  0.8245261 ,  1.04291298,\n",
              "         0.29307346,  1.02143059,  1.77993344, -0.32200662, -0.64187851,\n",
              "         1.00261061],\n",
              "       [-0.59111288,  0.73098881,  0.06150436, -1.52417544,  0.72471627,\n",
              "        -1.57280544, -1.2119208 , -1.9476272 ,  0.101481  ,  1.23447811,\n",
              "        -0.34688246],\n",
              "       [-0.6938836 , -0.41354936, -1.31569925, -0.2350943 , -0.25954656,\n",
              "        -0.53789981, -0.18244159, -0.10538566,  0.10825332,  0.68069763,\n",
              "         1.25939208]])"
            ]
          },
          "metadata": {},
          "execution_count": 1186
        }
      ]
    },
    {
      "cell_type": "code",
      "source": [
        "scaled + mask"
      ],
      "metadata": {
        "colab": {
          "base_uri": "https://localhost:8080/"
        },
        "id": "aVzQu8YZ1BEZ",
        "outputId": "3bdd52cb-c20c-4ff6-8e0b-1e41a1bf948c"
      },
      "execution_count": 1187,
      "outputs": [
        {
          "output_type": "execute_result",
          "data": {
            "text/plain": [
              "array([[-1.29342079,        -inf,        -inf,        -inf,        -inf,\n",
              "               -inf,        -inf,        -inf,        -inf,        -inf,\n",
              "               -inf],\n",
              "       [-0.71751288, -0.54677454,        -inf,        -inf,        -inf,\n",
              "               -inf,        -inf,        -inf,        -inf,        -inf,\n",
              "               -inf],\n",
              "       [-0.13539442, -0.27882758,  2.67018372,        -inf,        -inf,\n",
              "               -inf,        -inf,        -inf,        -inf,        -inf,\n",
              "               -inf],\n",
              "       [-0.44735926, -0.692877  , -1.1887159 , -0.1846457 ,        -inf,\n",
              "               -inf,        -inf,        -inf,        -inf,        -inf,\n",
              "               -inf],\n",
              "       [ 0.15307961, -0.45598297,  0.54124537, -0.3768499 ,  0.44496835,\n",
              "               -inf,        -inf,        -inf,        -inf,        -inf,\n",
              "               -inf],\n",
              "       [ 0.23636298, -0.21986668, -1.11768257,  0.17076737, -0.85515808,\n",
              "         0.53110308,        -inf,        -inf,        -inf,        -inf,\n",
              "               -inf],\n",
              "       [-0.41400022, -0.70800903,  0.09276774,  1.63591527, -1.04176358,\n",
              "         1.16032627,  1.26893421,        -inf,        -inf,        -inf,\n",
              "               -inf],\n",
              "       [-0.51242669, -0.61828716, -1.50267033,  0.31136328, -1.21520982,\n",
              "         0.27302706,  0.04539549,  0.13440299,        -inf,        -inf,\n",
              "               -inf],\n",
              "       [-0.36624129, -0.24469073, -0.10994471,  0.8245261 ,  1.04291298,\n",
              "         0.29307346,  1.02143059,  1.77993344, -0.32200662,        -inf,\n",
              "               -inf],\n",
              "       [-0.59111288,  0.73098881,  0.06150436, -1.52417544,  0.72471627,\n",
              "        -1.57280544, -1.2119208 , -1.9476272 ,  0.101481  ,  1.23447811,\n",
              "               -inf],\n",
              "       [-0.6938836 , -0.41354936, -1.31569925, -0.2350943 , -0.25954656,\n",
              "        -0.53789981, -0.18244159, -0.10538566,  0.10825332,  0.68069763,\n",
              "         1.25939208]])"
            ]
          },
          "metadata": {},
          "execution_count": 1187
        }
      ]
    },
    {
      "cell_type": "code",
      "source": [
        "mask_attention = softmax(scaled+ mask)\n",
        "mask_attention"
      ],
      "metadata": {
        "colab": {
          "base_uri": "https://localhost:8080/"
        },
        "id": "dPBaAi9G1Gja",
        "outputId": "4c8023bd-50eb-4a36-8e26-33b2ff664c87"
      },
      "execution_count": 1188,
      "outputs": [
        {
          "output_type": "execute_result",
          "data": {
            "text/plain": [
              "array([[1.        , 0.        , 0.        , 0.        , 0.        ,\n",
              "        0.        , 0.        , 0.        , 0.        , 0.        ,\n",
              "        0.        ],\n",
              "       [0.45741881, 0.54258119, 0.        , 0.        , 0.        ,\n",
              "        0.        , 0.        , 0.        , 0.        , 0.        ,\n",
              "        0.        ],\n",
              "       [0.05433893, 0.04707809, 0.89858298, 0.        , 0.        ,\n",
              "        0.        , 0.        , 0.        , 0.        , 0.        ,\n",
              "        0.        ],\n",
              "       [0.28096038, 0.21979514, 0.13386837, 0.3653761 , 0.        ,\n",
              "        0.        , 0.        , 0.        , 0.        , 0.        ,\n",
              "        0.        ],\n",
              "       [0.20219441, 0.10996555, 0.29808999, 0.11902103, 0.27072902,\n",
              "        0.        , 0.        , 0.        , 0.        , 0.        ,\n",
              "        0.        ],\n",
              "       [0.22188426, 0.14060102, 0.0572891 , 0.20779672, 0.07448776,\n",
              "        0.29794115, 0.        , 0.        , 0.        , 0.        ,\n",
              "        0.        ],\n",
              "       [0.04563078, 0.03400725, 0.07574334, 0.35442547, 0.024357  ,\n",
              "        0.22028212, 0.24555403, 0.        , 0.        , 0.        ,\n",
              "        0.        ],\n",
              "       [0.09178433, 0.0825646 , 0.03409661, 0.20918761, 0.04545207,\n",
              "        0.20131992, 0.16033474, 0.17526011, 0.        , 0.        ,\n",
              "        0.        ],\n",
              "       [0.0379654 , 0.0428723 , 0.04905646, 0.12489117, 0.15537314,\n",
              "        0.07340485, 0.15207095, 0.32468323, 0.03968249, 0.        ,\n",
              "        0.        ],\n",
              "       [0.04958314, 0.1860011 , 0.09522744, 0.01950339, 0.18483805,\n",
              "        0.01857763, 0.02665143, 0.01277048, 0.09911143, 0.30773589,\n",
              "        0.        ],\n",
              "       [0.04191134, 0.05547268, 0.02250507, 0.06631033, 0.06470856,\n",
              "        0.04898628, 0.0698953 , 0.07549409, 0.09347494, 0.16569316,\n",
              "        0.29554825]])"
            ]
          },
          "metadata": {},
          "execution_count": 1188
        }
      ]
    },
    {
      "cell_type": "code",
      "source": [
        "mask_attention.shape"
      ],
      "metadata": {
        "colab": {
          "base_uri": "https://localhost:8080/"
        },
        "id": "oEJHJyjk4jVj",
        "outputId": "7701a2ce-6c5b-4ea9-f07d-ff2bb0476743"
      },
      "execution_count": 1189,
      "outputs": [
        {
          "output_type": "execute_result",
          "data": {
            "text/plain": [
              "(11, 11)"
            ]
          },
          "metadata": {},
          "execution_count": 1189
        }
      ]
    },
    {
      "cell_type": "code",
      "source": [
        "new_mask_attention = np.matmul(mask_attention, v)\n",
        "new_mask_attention"
      ],
      "metadata": {
        "colab": {
          "base_uri": "https://localhost:8080/"
        },
        "id": "AUufVOXc4cMl",
        "outputId": "8eb7d045-0903-4b7d-927b-1f6e2c07a7ca"
      },
      "execution_count": 1190,
      "outputs": [
        {
          "output_type": "execute_result",
          "data": {
            "text/plain": [
              "array([[-1.44212257, -0.08387598, -1.17894135,  1.86662146,  0.76442695,\n",
              "        -0.05508724],\n",
              "       [-0.77088688, -0.2236335 , -0.16107798,  0.83282718, -0.23701524,\n",
              "         0.23219971],\n",
              "       [-0.24182123,  0.81511391,  0.77688464,  1.19083569,  0.59472724,\n",
              "         0.96002449],\n",
              "       [-0.0676966 , -0.0490033 , -0.32178137, -0.41844076,  0.17505971,\n",
              "         0.41809875],\n",
              "       [-0.48584181, -0.01681599, -0.16145346,  0.51949181, -0.14278251,\n",
              "         1.27989845],\n",
              "       [ 0.17327646, -0.11345036, -0.37932963,  0.18134939, -0.3437211 ,\n",
              "        -0.098814  ],\n",
              "       [ 0.5936819 , -0.18840649, -0.28097755, -0.89115742, -0.1768807 ,\n",
              "        -0.39142426],\n",
              "       [ 0.39717888, -0.35556565, -0.18984614, -0.62405179, -0.43201723,\n",
              "        -0.62751941],\n",
              "       [ 0.24336442, -0.54418011, -0.08496494, -0.80575418, -0.57516802,\n",
              "        -0.31363194],\n",
              "       [ 0.39884608, -0.40949962,  0.37257983,  0.62011805, -0.53628432,\n",
              "         0.94519166],\n",
              "       [ 0.43730614, -0.59634818,  0.10018567,  0.28914244, -0.26227082,\n",
              "         0.22367848]])"
            ]
          },
          "metadata": {},
          "execution_count": 1190
        }
      ]
    },
    {
      "cell_type": "code",
      "source": [
        "new_mask_attention.shape"
      ],
      "metadata": {
        "colab": {
          "base_uri": "https://localhost:8080/"
        },
        "id": "ej_Tmr0Z4naJ",
        "outputId": "49783216-5a47-4084-9305-793681db868d"
      },
      "execution_count": 1191,
      "outputs": [
        {
          "output_type": "execute_result",
          "data": {
            "text/plain": [
              "(11, 6)"
            ]
          },
          "metadata": {},
          "execution_count": 1191
        }
      ]
    },
    {
      "cell_type": "markdown",
      "source": [
        "# Multi-Head Attention"
      ],
      "metadata": {
        "id": "5YuKh0TnFX8O"
      }
    },
    {
      "cell_type": "markdown",
      "source": [
        "### My Code"
      ],
      "metadata": {
        "id": "7GcB75o660qY"
      }
    },
    {
      "cell_type": "markdown",
      "source": [
        "The animal didn't cross the street because it was too tired"
      ],
      "metadata": {
        "id": "ij2f3f0aFcYK"
      }
    },
    {
      "cell_type": "code",
      "source": [
        "import numpy as np\n",
        "import torch\n",
        "import torch.nn as nn\n",
        "import torch.nn.functional as F\n",
        "import math"
      ],
      "metadata": {
        "id": "KElogQKfmib7"
      },
      "execution_count": 1192,
      "outputs": []
    },
    {
      "cell_type": "code",
      "source": [
        "sequence_length = 11\n",
        "batch_size = 1\n",
        "input_dim = 512\n",
        "d_model = 512\n",
        "t = torch.randn(batch_size,sequence_length, input_dim)\n",
        "t"
      ],
      "metadata": {
        "colab": {
          "base_uri": "https://localhost:8080/"
        },
        "id": "eQF686fwFuQr",
        "outputId": "090b6f83-7767-4e49-9688-5c043d120e66"
      },
      "execution_count": 1193,
      "outputs": [
        {
          "output_type": "execute_result",
          "data": {
            "text/plain": [
              "tensor([[[ 0.6991, -0.5985,  0.8390,  ..., -0.2144,  0.7287, -1.5907],\n",
              "         [ 0.8825,  0.0906, -1.3308,  ..., -0.8992,  0.5718,  1.1343],\n",
              "         [-0.3062,  0.2640, -0.3504,  ...,  1.7071,  1.3152, -1.0711],\n",
              "         ...,\n",
              "         [ 0.5284, -0.3514,  1.0476,  ..., -1.2974, -0.5357, -1.1869],\n",
              "         [-0.6751,  0.3395, -1.6166,  ...,  0.4375,  0.9221,  0.2345],\n",
              "         [ 0.2413,  0.1355,  0.1682,  ..., -1.1693, -0.2961,  0.0634]]])"
            ]
          },
          "metadata": {},
          "execution_count": 1193
        }
      ]
    },
    {
      "cell_type": "code",
      "source": [
        "t.shape"
      ],
      "metadata": {
        "colab": {
          "base_uri": "https://localhost:8080/"
        },
        "id": "_yvACmlRJZHc",
        "outputId": "3c55d2f5-2f05-400b-ef26-7ce6b928cfad"
      },
      "execution_count": 1194,
      "outputs": [
        {
          "output_type": "execute_result",
          "data": {
            "text/plain": [
              "torch.Size([1, 11, 512])"
            ]
          },
          "metadata": {},
          "execution_count": 1194
        }
      ]
    },
    {
      "cell_type": "code",
      "source": [
        "qkv_layers = nn.Linear(input_dim, 3 * d_model)\n",
        "#(512, 3 * 512)\n",
        "#dimensions of input and model is 512 -\n",
        "# as there are three items qkv)- we are multiplying it by 3"
      ],
      "metadata": {
        "id": "CiIHmH78JZzL"
      },
      "execution_count": 1195,
      "outputs": []
    },
    {
      "cell_type": "code",
      "source": [
        "qkv_layers"
      ],
      "metadata": {
        "colab": {
          "base_uri": "https://localhost:8080/"
        },
        "id": "X36U0EQ9bX_y",
        "outputId": "e70a5e62-ad07-456f-de94-0a839da871f1"
      },
      "execution_count": 1196,
      "outputs": [
        {
          "output_type": "execute_result",
          "data": {
            "text/plain": [
              "Linear(in_features=512, out_features=1536, bias=True)"
            ]
          },
          "metadata": {},
          "execution_count": 1196
        }
      ]
    },
    {
      "cell_type": "code",
      "source": [
        "qkv = qkv_layers(t)"
      ],
      "metadata": {
        "id": "zAnHz6xZb7W7"
      },
      "execution_count": 1197,
      "outputs": []
    },
    {
      "cell_type": "code",
      "source": [
        "qkv.shape"
      ],
      "metadata": {
        "colab": {
          "base_uri": "https://localhost:8080/"
        },
        "id": "pS5wTcSWb_Or",
        "outputId": "3d2cf6ce-4390-4883-f7fb-0dab7d09a756"
      },
      "execution_count": 1198,
      "outputs": [
        {
          "output_type": "execute_result",
          "data": {
            "text/plain": [
              "torch.Size([1, 11, 1536])"
            ]
          },
          "metadata": {},
          "execution_count": 1198
        }
      ]
    },
    {
      "cell_type": "code",
      "source": [
        "d_model"
      ],
      "metadata": {
        "colab": {
          "base_uri": "https://localhost:8080/"
        },
        "id": "21qRqWUDUzD-",
        "outputId": "afa2d7a7-c73c-42bd-99da-470372b14bce"
      },
      "execution_count": 1199,
      "outputs": [
        {
          "output_type": "execute_result",
          "data": {
            "text/plain": [
              "512"
            ]
          },
          "metadata": {},
          "execution_count": 1199
        }
      ]
    },
    {
      "cell_type": "code",
      "source": [
        "num_of_heads = 8 # the number of head depends on us\n",
        "head_dim = d_model// num_of_heads"
      ],
      "metadata": {
        "id": "96LyBqwscvA4"
      },
      "execution_count": 1200,
      "outputs": []
    },
    {
      "cell_type": "code",
      "source": [
        "head_dim"
      ],
      "metadata": {
        "colab": {
          "base_uri": "https://localhost:8080/"
        },
        "id": "_teeoMATc51p",
        "outputId": "bf95c134-d70d-4107-f821-dca855a8d8ef"
      },
      "execution_count": 1201,
      "outputs": [
        {
          "output_type": "execute_result",
          "data": {
            "text/plain": [
              "64"
            ]
          },
          "metadata": {},
          "execution_count": 1201
        }
      ]
    },
    {
      "cell_type": "code",
      "source": [
        "qkv.shape"
      ],
      "metadata": {
        "colab": {
          "base_uri": "https://localhost:8080/"
        },
        "id": "5P_Na10IVCPv",
        "outputId": "425071d9-2db4-400f-a696-faae624871cc"
      },
      "execution_count": 1202,
      "outputs": [
        {
          "output_type": "execute_result",
          "data": {
            "text/plain": [
              "torch.Size([1, 11, 1536])"
            ]
          },
          "metadata": {},
          "execution_count": 1202
        }
      ]
    },
    {
      "cell_type": "code",
      "source": [
        "t = torch.rand(10,2) # 10 rows, 2 cols\n",
        "t"
      ],
      "metadata": {
        "colab": {
          "base_uri": "https://localhost:8080/"
        },
        "id": "9v6r3kpZc6II",
        "outputId": "2ba184a3-64dd-47f4-b2b9-6ca0a6412ab9"
      },
      "execution_count": 1203,
      "outputs": [
        {
          "output_type": "execute_result",
          "data": {
            "text/plain": [
              "tensor([[0.7277, 0.5949],\n",
              "        [0.4153, 0.4698],\n",
              "        [0.5085, 0.7763],\n",
              "        [0.2210, 0.6046],\n",
              "        [0.0462, 0.8961],\n",
              "        [0.7802, 0.8648],\n",
              "        [0.7389, 0.8158],\n",
              "        [0.3357, 0.9092],\n",
              "        [0.2672, 0.6243],\n",
              "        [0.6333, 0.6955]])"
            ]
          },
          "metadata": {},
          "execution_count": 1203
        }
      ]
    },
    {
      "cell_type": "code",
      "source": [
        "t.shape"
      ],
      "metadata": {
        "colab": {
          "base_uri": "https://localhost:8080/"
        },
        "id": "swrVDH3seBhI",
        "outputId": "d6fd6b58-9d57-4ae5-b485-5fd88041d0e0"
      },
      "execution_count": 1204,
      "outputs": [
        {
          "output_type": "execute_result",
          "data": {
            "text/plain": [
              "torch.Size([10, 2])"
            ]
          },
          "metadata": {},
          "execution_count": 1204
        }
      ]
    },
    {
      "cell_type": "code",
      "source": [
        "t.reshape(5,4) # 5 rows, 4 cols  {we could also write - (2,5,2)}"
      ],
      "metadata": {
        "colab": {
          "base_uri": "https://localhost:8080/"
        },
        "id": "AURGudkFeDO-",
        "outputId": "68bc6ef4-d10a-4b83-bba2-e1d4dcebcb0e"
      },
      "execution_count": 1205,
      "outputs": [
        {
          "output_type": "execute_result",
          "data": {
            "text/plain": [
              "tensor([[0.7277, 0.5949, 0.4153, 0.4698],\n",
              "        [0.5085, 0.7763, 0.2210, 0.6046],\n",
              "        [0.0462, 0.8961, 0.7802, 0.8648],\n",
              "        [0.7389, 0.8158, 0.3357, 0.9092],\n",
              "        [0.2672, 0.6243, 0.6333, 0.6955]])"
            ]
          },
          "metadata": {},
          "execution_count": 1205
        }
      ]
    },
    {
      "cell_type": "code",
      "source": [
        "t.shape"
      ],
      "metadata": {
        "colab": {
          "base_uri": "https://localhost:8080/"
        },
        "id": "ZDJfsc31q3Pv",
        "outputId": "fbf77b79-14f8-4bdd-d4c4-9219cbf5e837"
      },
      "execution_count": 1206,
      "outputs": [
        {
          "output_type": "execute_result",
          "data": {
            "text/plain": [
              "torch.Size([10, 2])"
            ]
          },
          "metadata": {},
          "execution_count": 1206
        }
      ]
    },
    {
      "cell_type": "markdown",
      "source": [
        "Now let us work with qkv"
      ],
      "metadata": {
        "id": "OhqxhO9Q2LBB"
      }
    },
    {
      "cell_type": "code",
      "source": [
        "#sequence_length = 11\n",
        "#batch_size = 1\n",
        "#input_dim = 512\n",
        "#d_model = 512\n",
        "# written this code above\n",
        "# head_dim = 64\n",
        "\n",
        "qkv = qkv.reshape(batch_size, sequence_length, num_of_heads, 3 * head_dim )"
      ],
      "metadata": {
        "id": "uvZlpuFMyP-p"
      },
      "execution_count": 1207,
      "outputs": []
    },
    {
      "cell_type": "code",
      "source": [
        "qkv.shape # 512/8 =64 = (q,k,v)- each one will get 64 (64*3=192)"
      ],
      "metadata": {
        "colab": {
          "base_uri": "https://localhost:8080/"
        },
        "id": "hRS6Iht05hZa",
        "outputId": "5227f276-edcd-477c-dd84-6010593921ee"
      },
      "execution_count": 1208,
      "outputs": [
        {
          "output_type": "execute_result",
          "data": {
            "text/plain": [
              "torch.Size([1, 11, 8, 192])"
            ]
          },
          "metadata": {},
          "execution_count": 1208
        }
      ]
    },
    {
      "cell_type": "code",
      "source": [
        "# we could also write"
      ],
      "metadata": {
        "id": "fXOB8ZJW6BBf"
      },
      "execution_count": 1209,
      "outputs": []
    },
    {
      "cell_type": "code",
      "source": [
        "# qkv = qkv.reshape(batch_size, sequence_length, 2, 768 )"
      ],
      "metadata": {
        "id": "XVHxHog26DCn"
      },
      "execution_count": 1210,
      "outputs": []
    },
    {
      "cell_type": "code",
      "source": [
        "# qkv.shape"
      ],
      "metadata": {
        "id": "KZURxsVJ6H7P"
      },
      "execution_count": 1211,
      "outputs": []
    },
    {
      "cell_type": "code",
      "source": [
        "# the output would have been like this\n",
        "\n",
        "# torch.Size([1, 11, 8, 192])"
      ],
      "metadata": {
        "id": "3OoE7YUj6UVx"
      },
      "execution_count": 1212,
      "outputs": []
    },
    {
      "cell_type": "markdown",
      "source": [
        "we are going to use permute <br><br>\n",
        "permute is used to change the position of the dimension"
      ],
      "metadata": {
        "id": "EaZh3Evy7DlH"
      }
    },
    {
      "cell_type": "code",
      "source": [
        "# commented out\n",
        "# torch.Size([1, 11, 8, 192])\n",
        "# position  = index - so 0,1,2,3"
      ],
      "metadata": {
        "id": "TPluoxRR7iMq"
      },
      "execution_count": 1213,
      "outputs": []
    },
    {
      "cell_type": "code",
      "source": [
        "# commented out\n",
        "# qkv = qkv.permute(3,2,1,0)"
      ],
      "metadata": {
        "id": "PGdZ4IBG7OYj"
      },
      "execution_count": 1214,
      "outputs": []
    },
    {
      "cell_type": "code",
      "source": [
        "# commented out\n",
        "# qkv.shape"
      ],
      "metadata": {
        "id": "hNZ5QL1W71KP"
      },
      "execution_count": 1215,
      "outputs": []
    },
    {
      "cell_type": "code",
      "source": [
        "# commented out\n",
        "# see- first the shape was like this -\n",
        "# [1, 11, 8, 192]\n",
        "# after permuting it became like this\n",
        "# [192, 8, 11, 1]"
      ],
      "metadata": {
        "id": "nZ19VYMt74Pt"
      },
      "execution_count": 1216,
      "outputs": []
    },
    {
      "cell_type": "code",
      "source": [
        "qkv = qkv.permute(0,2,1,3)"
      ],
      "metadata": {
        "id": "ym_RhLzb79t5"
      },
      "execution_count": 1217,
      "outputs": []
    },
    {
      "cell_type": "code",
      "source": [
        "qkv.shape"
      ],
      "metadata": {
        "colab": {
          "base_uri": "https://localhost:8080/"
        },
        "id": "4TtF2BvE_N37",
        "outputId": "dd5815f9-956e-4322-e232-6675a4f7acac"
      },
      "execution_count": 1218,
      "outputs": [
        {
          "output_type": "execute_result",
          "data": {
            "text/plain": [
              "torch.Size([1, 8, 11, 192])"
            ]
          },
          "metadata": {},
          "execution_count": 1218
        }
      ]
    },
    {
      "cell_type": "markdown",
      "source": [
        "now we want to sepeare q,k,v from the last dimension (192) <br> <br>\n",
        "\n",
        "we can do it by using chunk - <br> <br>\n",
        "\n",
        "q,k,v = qkv.chunk(3, dim=-1)\n",
        "\n",
        "here, 3 = number of segments we want\n",
        "dim = which dimension we want to break"
      ],
      "metadata": {
        "id": "xGKSqDARATOp"
      }
    },
    {
      "cell_type": "code",
      "source": [
        "q,k,v = qkv.chunk(3, dim=-1) # last dimension"
      ],
      "metadata": {
        "id": "RGbPHBlO_8x4"
      },
      "execution_count": 1219,
      "outputs": []
    },
    {
      "cell_type": "code",
      "source": [
        "q.shape, k.shape, v.shape"
      ],
      "metadata": {
        "colab": {
          "base_uri": "https://localhost:8080/"
        },
        "id": "lZHSzY_MANkH",
        "outputId": "c5830370-4ca5-4f0b-dce2-3e1c747b52da"
      },
      "execution_count": 1220,
      "outputs": [
        {
          "output_type": "execute_result",
          "data": {
            "text/plain": [
              "(torch.Size([1, 8, 11, 64]),\n",
              " torch.Size([1, 8, 11, 64]),\n",
              " torch.Size([1, 8, 11, 64]))"
            ]
          },
          "metadata": {},
          "execution_count": 1220
        }
      ]
    },
    {
      "cell_type": "markdown",
      "source": [
        "Well, we have q,k,v(1536) - 512 * 8 = 1536\n",
        "<br>\n",
        "Too much computation- so what we <br>\n",
        " can do is, we can segment the total dimension of each items-\n",
        "\n",
        "(refer to the paper for this)"
      ],
      "metadata": {
        "id": "4ZRv9ONBQiPU"
      }
    },
    {
      "cell_type": "markdown",
      "source": [
        "Q = 512 | 64=1, 64=2, 64=3, 64=4, 64=5, 65=6, 65=7, 65=8 <br> <br>\n",
        "\n",
        "K = 512 | 64=1, 64=2, 64=3, 64=4, 64=5, 65=6, 65=7, 65=8 <br> <br>\n",
        "\n",
        "V = 512 | 64=1, 64=2, 64=3, 64=4, 64=5, 65=6, 65=7, 65=8 <br> <br>"
      ],
      "metadata": {
        "id": "ob_QBm9xQEK0"
      }
    },
    {
      "cell_type": "markdown",
      "source": [
        "Let us now focus on the main equation of multi-head attention"
      ],
      "metadata": {
        "id": "mIwvmUl4YdUc"
      }
    },
    {
      "cell_type": "markdown",
      "source": [
        "![image.png](data:image/png;base64,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)"
      ],
      "metadata": {
        "id": "DCxXWUuNYbs6"
      }
    },
    {
      "cell_type": "markdown",
      "source": [
        "![image.png](data:image/png;base64,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)"
      ],
      "metadata": {
        "id": "1XFk_ADTY5S8"
      }
    },
    {
      "cell_type": "code",
      "source": [
        "q.shape"
      ],
      "metadata": {
        "colab": {
          "base_uri": "https://localhost:8080/"
        },
        "id": "MzinVYa_QDai",
        "outputId": "c9cddb83-b824-49ac-ecca-a311fecd5ab8"
      },
      "execution_count": 1221,
      "outputs": [
        {
          "output_type": "execute_result",
          "data": {
            "text/plain": [
              "torch.Size([1, 8, 11, 64])"
            ]
          },
          "metadata": {},
          "execution_count": 1221
        }
      ]
    },
    {
      "cell_type": "code",
      "source": [
        "k.shape"
      ],
      "metadata": {
        "colab": {
          "base_uri": "https://localhost:8080/"
        },
        "id": "Kapbz_aPY8f1",
        "outputId": "ccdf9c6b-059f-43fa-dba5-9483f874de75"
      },
      "execution_count": 1222,
      "outputs": [
        {
          "output_type": "execute_result",
          "data": {
            "text/plain": [
              "torch.Size([1, 8, 11, 64])"
            ]
          },
          "metadata": {},
          "execution_count": 1222
        }
      ]
    },
    {
      "cell_type": "code",
      "source": [
        "k.mT\n",
        "k.mT.shape"
      ],
      "metadata": {
        "colab": {
          "base_uri": "https://localhost:8080/"
        },
        "id": "paz3mYhNY9Uj",
        "outputId": "902496a1-7bec-4d69-e006-76bc9fed233c"
      },
      "execution_count": 1223,
      "outputs": [
        {
          "output_type": "execute_result",
          "data": {
            "text/plain": [
              "torch.Size([1, 8, 64, 11])"
            ]
          },
          "metadata": {},
          "execution_count": 1223
        }
      ]
    },
    {
      "cell_type": "markdown",
      "source": [
        "as we can see, the k has been transposed\n",
        "<br> if we notice carefully, all the values\n",
        "inside k has been reversed.<br>\n",
        " however, we only want to reverse the last two index (dimension)"
      ],
      "metadata": {
        "id": "p_YaUzLEaArX"
      }
    },
    {
      "cell_type": "code",
      "source": [
        "k.shape"
      ],
      "metadata": {
        "colab": {
          "base_uri": "https://localhost:8080/"
        },
        "id": "LAewwdwvaf3L",
        "outputId": "8db31d8f-4a69-4784-d32e-cde9a7118060"
      },
      "execution_count": 1224,
      "outputs": [
        {
          "output_type": "execute_result",
          "data": {
            "text/plain": [
              "torch.Size([1, 8, 11, 64])"
            ]
          },
          "metadata": {},
          "execution_count": 1224
        }
      ]
    },
    {
      "cell_type": "code",
      "source": [
        "k.transpose(-2,-1).shape"
      ],
      "metadata": {
        "colab": {
          "base_uri": "https://localhost:8080/"
        },
        "id": "X7X5exwba2bV",
        "outputId": "45cdabf7-06bb-4cd4-d479-ab99ae1fcf7e"
      },
      "execution_count": 1225,
      "outputs": [
        {
          "output_type": "execute_result",
          "data": {
            "text/plain": [
              "torch.Size([1, 8, 64, 11])"
            ]
          },
          "metadata": {},
          "execution_count": 1225
        }
      ]
    },
    {
      "cell_type": "code",
      "source": [
        "trans = torch.matmul(q,k.transpose(-2,-1))"
      ],
      "metadata": {
        "id": "MTGZDAkEbQg9"
      },
      "execution_count": 1226,
      "outputs": []
    },
    {
      "cell_type": "code",
      "source": [
        "trans"
      ],
      "metadata": {
        "colab": {
          "base_uri": "https://localhost:8080/"
        },
        "collapsed": true,
        "id": "cwSWVA0UcRos",
        "outputId": "b91dfae0-daf5-49c2-f1e4-b4599a5ed52c"
      },
      "execution_count": 1227,
      "outputs": [
        {
          "output_type": "execute_result",
          "data": {
            "text/plain": [
              "tensor([[[[ 1.8616e+00, -2.1437e+00, -1.4734e+00, -3.4335e+00, -3.1746e+00,\n",
              "           -1.3201e+00, -1.8329e+00,  8.7239e-03, -2.4654e+00,  2.2012e+00,\n",
              "            4.8871e-02],\n",
              "          [-1.4026e+00,  3.8185e-01,  2.9535e+00,  3.6317e+00,  4.0274e+00,\n",
              "           -1.9000e+00,  2.9234e-02, -2.3742e+00, -2.3105e+00,  1.2615e+00,\n",
              "            2.7248e+00],\n",
              "          [-7.1034e-01, -1.4364e+00,  1.5912e+00, -4.3283e+00, -1.3501e+00,\n",
              "            2.5985e+00,  3.3148e+00,  4.4640e+00, -1.5020e+00, -7.7446e-01,\n",
              "           -2.8678e+00],\n",
              "          [-3.3042e+00,  2.5352e+00, -2.3565e+00, -1.7523e+00,  1.7199e+00,\n",
              "           -2.6339e+00, -6.8128e-01, -3.1254e-02,  2.2209e+00, -3.2483e+00,\n",
              "            3.2170e+00],\n",
              "          [-2.8496e+00,  3.1910e+00, -1.4238e+00,  1.0585e+00,  2.6531e-01,\n",
              "           -1.8065e+00, -1.4476e+00,  1.7263e+00, -3.7861e+00,  2.1398e+00,\n",
              "            1.6211e+00],\n",
              "          [-1.4748e+00,  1.6439e+00, -4.2296e+00, -2.5867e+00, -3.3797e+00,\n",
              "            7.3533e-01, -1.0965e+00,  3.7998e-01, -3.7599e+00,  9.8832e-01,\n",
              "           -5.8366e-01],\n",
              "          [ 2.8776e+00,  1.0435e+00, -2.1235e+00, -2.9798e+00,  1.2736e+00,\n",
              "            5.2400e-01,  2.9625e+00,  1.2721e+00, -7.6031e-01, -1.7733e+00,\n",
              "           -1.4396e+00],\n",
              "          [ 4.6157e+00, -1.3954e+00, -2.0361e+00,  7.4945e-01,  7.8695e-01,\n",
              "            1.0562e+00, -2.5734e+00,  5.4403e+00,  2.5232e+00, -1.0920e-01,\n",
              "           -4.7326e+00],\n",
              "          [-6.6919e-01, -1.8987e+00,  1.7424e+00, -6.3205e-03, -3.3158e+00,\n",
              "           -2.7568e+00,  1.3790e-01,  1.8979e+00, -3.4002e+00, -3.9055e+00,\n",
              "            1.4801e+00],\n",
              "          [ 5.6451e-02,  4.4232e+00, -1.1317e+00,  5.4831e-01,  1.7172e+00,\n",
              "           -4.6154e+00,  1.6001e+00, -4.8563e+00, -2.0626e-01, -4.7807e+00,\n",
              "           -9.8713e-01],\n",
              "          [ 3.9300e+00,  3.3789e+00, -2.0501e+00,  9.8310e-01, -3.8224e+00,\n",
              "           -1.4613e+00, -4.4378e+00, -4.0304e-01,  2.8025e+00, -2.1950e+00,\n",
              "           -1.3854e+00]],\n",
              "\n",
              "         [[ 8.2669e+00, -2.6038e+00, -4.3103e+00, -4.4744e+00,  8.5562e-01,\n",
              "           -4.4085e+00, -3.1947e+00,  2.3713e+00,  1.8768e+00,  8.3452e-01,\n",
              "           -5.7693e-02],\n",
              "          [-2.1839e+00,  3.4199e+00, -1.6066e+00,  2.4963e-01, -2.3830e+00,\n",
              "            7.7732e-01,  3.0067e+00,  1.0915e+00,  2.1700e+00, -1.0473e+00,\n",
              "            1.5815e+00],\n",
              "          [ 2.1086e+00, -3.5356e+00, -1.7536e+00,  4.6786e+00, -6.4319e-01,\n",
              "            2.1131e+00,  7.2933e-01,  1.1833e-01, -1.7980e+00,  2.0137e-01,\n",
              "           -1.2958e+00],\n",
              "          [-1.9627e+00,  1.4996e+00,  3.4475e+00, -4.5876e+00, -1.7180e-01,\n",
              "           -2.4614e-01,  4.3982e+00,  3.4076e+00, -7.2888e-01,  3.3443e+00,\n",
              "            2.4512e-01],\n",
              "          [-6.7161e+00, -1.7989e-01, -2.6549e+00,  7.1031e-01,  2.3887e+00,\n",
              "           -3.4517e-01,  8.5277e-01, -2.6521e+00,  5.7936e+00, -4.3938e+00,\n",
              "           -3.0463e+00],\n",
              "          [ 9.8134e+00,  1.4239e+00,  6.3032e-01, -1.8768e+00, -1.4766e+00,\n",
              "            9.4026e-01, -2.7993e+00, -7.3384e-01, -2.7628e+00, -2.4078e+00,\n",
              "           -1.3444e+00],\n",
              "          [-4.0289e+00,  3.7242e+00,  1.0542e+00,  8.4975e-01, -4.8637e-01,\n",
              "            1.4629e+00,  5.2079e-01,  1.9660e+00, -8.9501e-01, -6.5712e+00,\n",
              "            3.2260e+00],\n",
              "          [-2.3994e+00,  3.7129e-01, -1.6577e+00, -1.6310e+00, -5.6355e+00,\n",
              "            1.7149e+00,  1.3921e+00, -2.5320e+00, -2.8667e+00,  6.2816e+00,\n",
              "           -4.7096e+00],\n",
              "          [ 3.4975e+00, -8.0206e-01, -4.0024e+00,  8.7390e-01,  9.9109e-01,\n",
              "            2.3241e+00,  2.1680e+00,  1.4123e+00,  1.8809e+00,  2.7562e+00,\n",
              "           -2.2713e+00],\n",
              "          [-3.8839e+00, -2.5425e+00,  1.3066e+00,  4.5731e-01,  1.6095e+00,\n",
              "           -6.4563e+00,  2.0268e+00,  2.6787e+00,  1.0720e+00,  1.2683e+00,\n",
              "           -9.5259e-01],\n",
              "          [ 2.0296e+00, -1.7583e+00,  1.3406e+00,  1.2713e+00, -2.3916e+00,\n",
              "            1.4864e+00, -5.0456e+00, -3.2887e+00,  4.0045e-01,  1.1694e+00,\n",
              "           -2.0470e+00]],\n",
              "\n",
              "         [[-2.1984e-01,  2.7771e+00, -3.2282e-01,  5.8306e-02, -1.6217e+00,\n",
              "           -2.9224e+00, -3.7235e-01, -1.4797e+00,  2.2757e-01, -1.0418e+00,\n",
              "           -5.8966e-01],\n",
              "          [ 2.2034e+00,  4.1726e-01, -2.9067e+00, -1.5904e+00,  1.6596e+00,\n",
              "           -2.8853e+00,  1.1364e+00, -2.5910e+00,  1.8975e+00, -1.4978e+00,\n",
              "           -2.9461e+00],\n",
              "          [ 2.6620e-02, -2.2562e-01, -3.5125e-02,  6.1121e-01, -3.1952e+00,\n",
              "           -1.2802e+00,  4.3577e-01, -4.5887e+00, -1.4157e+00,  1.0200e+00,\n",
              "            8.9287e-01],\n",
              "          [ 1.1588e+00, -1.1842e+00, -3.7566e-02, -1.5851e+00, -3.8572e+00,\n",
              "           -7.6942e-02,  9.3366e-01,  1.7160e+00,  6.6000e-01,  3.1914e+00,\n",
              "            2.3087e+00],\n",
              "          [ 1.9441e+00, -3.5620e+00, -8.6863e-01,  2.8523e-01,  4.7441e+00,\n",
              "            1.2532e+00,  4.4754e+00,  3.5855e+00,  4.6884e+00,  7.5385e-01,\n",
              "           -2.6185e+00],\n",
              "          [-1.5511e+00, -2.6762e-01,  1.9813e+00, -2.2076e-02, -1.8887e+00,\n",
              "            5.9442e-01,  3.6149e+00, -2.1664e+00, -2.8513e+00, -1.4775e+00,\n",
              "           -2.2349e+00],\n",
              "          [-6.8610e+00,  8.3176e-01,  3.8544e+00, -1.5486e+00,  1.2949e+00,\n",
              "           -2.2025e+00, -2.3368e+00, -7.7746e-01,  9.6148e-01, -4.7950e+00,\n",
              "            1.4959e+00],\n",
              "          [ 1.6733e+00,  1.9683e+00,  2.0159e+00, -1.7321e+00, -7.4834e-01,\n",
              "           -3.0390e+00, -1.1425e+00, -1.1750e+00,  2.7357e+00, -3.8590e+00,\n",
              "           -1.5764e+00],\n",
              "          [ 7.2044e-01,  1.6011e+00, -2.0163e+00, -1.4935e+00,  1.4482e+00,\n",
              "           -2.8545e+00,  2.9859e+00,  3.3979e+00, -6.2143e-02, -5.2247e-01,\n",
              "           -3.5765e+00],\n",
              "          [-3.2145e+00,  3.6398e+00, -9.4691e-01,  1.3862e+00, -5.9840e-01,\n",
              "           -1.2232e+00, -1.0785e+00, -3.8856e+00, -2.6175e+00, -1.9756e+00,\n",
              "           -2.0799e-01],\n",
              "          [ 2.3145e+00,  2.0599e+00, -3.8559e+00, -1.8456e-01, -2.4750e+00,\n",
              "           -4.7289e-01, -1.0528e+00, -3.8705e-01,  3.1587e+00,  2.0252e+00,\n",
              "            1.5989e+00]],\n",
              "\n",
              "         [[-4.2879e+00,  6.0455e+00, -1.6261e+00, -2.8587e+00, -2.6156e+00,\n",
              "            1.1399e+00,  6.5129e-01,  6.2779e+00,  5.8174e-01, -1.2909e+00,\n",
              "           -1.3094e+00],\n",
              "          [-4.9846e-01, -1.6183e+00,  2.9228e+00, -2.2090e+00,  2.4200e+00,\n",
              "           -1.4358e+00,  7.1645e-01, -3.1601e+00, -1.0891e+00, -5.5513e+00,\n",
              "            5.8273e-01],\n",
              "          [ 4.7302e-01,  3.8737e+00,  1.2690e+00, -7.5920e-01,  1.3298e+00,\n",
              "           -1.4120e+00, -1.7777e+00, -3.1141e+00, -1.5724e+00, -9.6158e-01,\n",
              "           -1.8460e+00],\n",
              "          [ 8.1832e-01,  2.2544e+00,  1.1861e+00,  1.1840e+00, -2.3013e+00,\n",
              "            2.8482e+00, -1.8955e+00,  2.2621e+00, -3.9270e+00,  2.4562e+00,\n",
              "            4.4125e+00],\n",
              "          [-2.8701e-01,  3.4108e+00, -1.4121e+00, -4.6196e+00,  3.2092e+00,\n",
              "           -1.7445e+00,  3.6018e+00, -5.9050e+00, -2.0716e+00, -1.1737e+00,\n",
              "           -2.3123e+00],\n",
              "          [-6.0526e+00,  3.9329e-01,  5.2460e-01, -2.7684e+00, -6.1634e-01,\n",
              "            2.3814e+00,  2.8023e+00,  4.3921e+00,  4.0682e-01,  1.7051e+00,\n",
              "            1.4207e+00],\n",
              "          [ 4.4448e+00,  1.9464e+00,  3.3263e+00, -7.2634e-01, -4.6236e-01,\n",
              "           -5.1304e-01, -7.1558e-01,  1.3613e+00, -2.1848e-01,  1.9430e+00,\n",
              "            8.1392e-01],\n",
              "          [-2.6204e-01, -2.2159e+00,  1.2109e+00,  2.9821e+00, -1.1218e+00,\n",
              "           -1.6938e+00, -4.3269e+00, -5.4626e+00, -3.2564e+00,  1.8133e-01,\n",
              "            8.8425e-01],\n",
              "          [ 3.2704e+00, -6.2547e-01,  9.4914e-01, -1.0161e+00,  3.0982e+00,\n",
              "           -2.4564e+00, -1.0526e+00,  1.4207e+00, -4.1797e+00,  1.0464e+00,\n",
              "           -1.6668e+00],\n",
              "          [-7.1070e-02, -5.7024e-01,  4.8980e+00,  1.6078e+00,  2.8028e+00,\n",
              "            2.2309e+00,  2.5235e-01, -4.9991e+00,  1.8877e+00, -1.7970e+00,\n",
              "            2.2949e+00],\n",
              "          [-1.9657e+00,  9.8147e-01, -2.5891e-01,  1.0727e+00, -2.1900e+00,\n",
              "           -3.5541e+00, -2.2080e+00,  1.7545e+00,  3.1252e-01,  1.6371e+00,\n",
              "           -5.6485e+00]],\n",
              "\n",
              "         [[ 9.0010e-01,  4.3896e-01,  2.8703e+00,  9.2689e-02, -2.3610e+00,\n",
              "            1.6970e-01, -2.1967e+00, -1.0708e+00, -3.6182e+00,  1.4125e+00,\n",
              "           -2.3398e+00],\n",
              "          [-6.5881e-02, -1.3337e+00,  5.9131e-01, -1.4955e+00, -6.5272e-01,\n",
              "            3.9204e-01,  1.1980e+00,  1.8714e+00, -5.1618e+00,  1.1093e-01,\n",
              "            4.9300e+00],\n",
              "          [-1.4606e+00, -3.1450e+00,  5.5312e-01,  9.1013e-01, -1.0399e-01,\n",
              "           -2.1691e-01, -1.0907e+00, -5.0092e+00, -2.9505e+00, -4.8653e+00,\n",
              "            1.7233e+00],\n",
              "          [ 2.9160e+00, -1.1853e+00, -1.1170e-01,  1.2126e+00,  2.4184e+00,\n",
              "           -1.1461e+00, -1.8892e+00,  3.6240e+00, -1.1753e+00, -8.4337e-01,\n",
              "           -6.6461e+00],\n",
              "          [ 6.8070e+00, -3.5975e+00,  1.6032e+00,  8.7012e+00, -4.6695e+00,\n",
              "            2.3809e+00,  2.3279e-01, -5.5707e-01, -6.1120e-01, -1.1879e+00,\n",
              "            6.2235e+00],\n",
              "          [ 2.5970e+00, -1.8904e+00,  1.5538e+00, -2.0537e+00, -2.7169e+00,\n",
              "            3.2695e+00, -2.2210e+00, -1.9798e+00, -3.4459e+00, -5.6365e+00,\n",
              "           -6.7841e-01],\n",
              "          [-3.5717e+00, -2.8096e+00,  1.2499e+00,  2.7324e+00, -6.5501e-01,\n",
              "           -1.9516e+00,  8.5845e-01,  3.1660e+00,  2.4837e+00, -9.3701e-01,\n",
              "            1.0825e+00],\n",
              "          [ 3.6083e-01, -1.0862e+00, -1.2399e-01,  1.0080e+00, -2.6554e+00,\n",
              "            8.2347e-02, -4.9638e-01,  2.9939e+00, -4.0644e-01,  4.6396e+00,\n",
              "            4.8147e+00],\n",
              "          [ 5.6332e+00, -9.0188e-01,  5.9434e-01,  2.1602e+00,  1.6833e+00,\n",
              "            5.4206e-01, -1.8645e+00, -3.5986e+00, -2.1052e+00,  1.7180e+00,\n",
              "           -3.3119e+00],\n",
              "          [ 5.4147e-01,  4.3273e-01, -1.8986e+00,  9.2234e-01, -4.3997e+00,\n",
              "           -3.2311e+00, -2.2691e+00, -3.2412e+00,  2.7691e-01,  3.5463e-01,\n",
              "           -9.4210e+00],\n",
              "          [-4.1670e+00, -4.0547e-01,  2.8783e+00,  3.2490e+00, -2.4077e+00,\n",
              "            2.3361e+00,  1.6512e+00, -1.7193e+00,  3.7450e+00,  8.7661e-01,\n",
              "            3.9528e-01]],\n",
              "\n",
              "         [[ 2.6044e-01,  2.7741e+00,  1.4636e+00, -1.4925e+00,  1.6667e+00,\n",
              "            3.6212e+00,  1.3900e+00, -4.3599e+00, -1.8362e+00, -4.8045e-01,\n",
              "            1.4509e-01],\n",
              "          [-2.0777e+00, -6.2042e+00,  9.0967e-01,  1.3896e-01, -1.4786e+00,\n",
              "           -2.9347e-01,  5.9391e+00,  4.1419e+00,  4.5222e+00, -1.7324e+00,\n",
              "            7.3343e-01],\n",
              "          [ 3.8546e-01,  4.5641e+00, -1.4818e-01,  1.1152e+00,  1.5684e+00,\n",
              "           -1.1120e+00,  2.3213e+00, -4.4752e+00,  1.0486e+00,  2.6166e+00,\n",
              "           -2.7333e+00],\n",
              "          [-1.9953e+00, -4.6316e+00, -6.1476e-01,  1.3637e-01, -2.4760e+00,\n",
              "           -6.7508e-01, -3.5040e+00,  1.0498e+00, -9.5480e-01, -1.6051e+00,\n",
              "           -1.1696e+00],\n",
              "          [-1.0530e-02, -3.9486e+00,  2.4766e+00, -8.1518e-01,  7.6684e-01,\n",
              "            3.3226e+00,  1.2671e+00,  9.9995e-01,  1.5812e+00, -1.0779e+00,\n",
              "           -5.9997e-01],\n",
              "          [-3.6856e+00, -6.4928e+00, -2.7318e+00, -2.4675e+00,  1.1962e+00,\n",
              "            3.2424e+00,  4.2912e-01,  9.3655e-01, -2.4305e+00,  6.0761e+00,\n",
              "           -2.6350e+00],\n",
              "          [ 2.5755e-01, -1.4854e+00, -1.6273e+00, -1.5372e+00,  1.9305e+00,\n",
              "           -5.0205e+00,  1.2784e+00, -1.1567e+00, -4.9534e-01,  3.2674e-01,\n",
              "           -4.6560e-01],\n",
              "          [-5.3112e+00,  1.6185e+00, -4.1942e+00, -3.5531e+00,  4.5788e-01,\n",
              "           -3.4072e+00,  5.6471e+00,  2.6199e+00,  3.7405e+00,  2.0324e+00,\n",
              "           -4.2393e+00],\n",
              "          [-6.4159e+00, -4.0008e+00, -4.7528e-01,  4.6602e+00, -6.2872e-01,\n",
              "            3.5042e+00,  3.6503e+00,  3.0717e+00,  4.6380e-01,  5.0235e+00,\n",
              "            1.3353e+00],\n",
              "          [-1.5997e-01, -3.2464e+00,  3.9026e+00,  3.0330e-01,  1.2377e+00,\n",
              "            2.7045e+00, -1.7121e+00,  3.4097e-01, -6.5776e+00,  3.1739e-01,\n",
              "           -2.3077e+00],\n",
              "          [ 2.7018e+00, -1.2682e+00,  2.0261e+00, -3.9897e+00,  5.9980e-01,\n",
              "           -7.9703e-01, -9.5652e-01, -1.2698e-01, -2.8036e+00, -1.1464e+00,\n",
              "           -3.5872e-01]],\n",
              "\n",
              "         [[ 2.9932e+00,  6.4757e+00,  2.5614e+00,  1.7785e-01, -4.4837e+00,\n",
              "           -2.0964e-01, -5.6262e+00,  2.9259e+00,  1.0363e+00, -1.3740e+00,\n",
              "           -2.0645e+00],\n",
              "          [-5.5695e+00, -4.7213e+00, -1.6345e+00,  2.6253e-01,  1.6021e+00,\n",
              "            4.2116e+00,  1.8392e+00,  2.2765e+00, -1.0211e+00, -4.0102e+00,\n",
              "           -1.6221e+00],\n",
              "          [ 1.6752e+00, -1.3086e+00, -2.0083e+00,  2.1596e+00, -1.6043e+00,\n",
              "            3.2170e-01, -3.1381e+00,  5.0465e-01, -6.0642e-01, -5.4306e+00,\n",
              "           -1.2006e-01],\n",
              "          [ 8.2760e+00,  4.4221e+00, -1.0116e+00, -3.6718e+00, -2.6765e-01,\n",
              "            1.1085e+00, -1.7651e+00, -3.1940e+00,  1.7824e+00,  4.7577e-01,\n",
              "            6.8157e+00],\n",
              "          [-1.4174e+00,  2.9063e+00,  7.0367e+00, -1.9424e+00,  6.5974e+00,\n",
              "           -1.7092e+00, -4.7110e+00,  5.5996e+00,  1.5271e+00, -4.8618e+00,\n",
              "           -8.1856e-01],\n",
              "          [-6.1831e+00,  1.6602e-02, -3.5124e+00, -1.3757e+00, -1.2603e+00,\n",
              "           -5.0930e-01, -1.7574e+00, -1.0969e+00,  8.0456e-01,  5.0658e-01,\n",
              "           -1.2472e+00],\n",
              "          [-2.7397e-01,  7.1923e-01, -1.8183e+00,  2.2272e+00, -2.0225e+00,\n",
              "            2.9251e-01,  3.6340e+00,  6.2726e-02,  1.2109e-01, -2.9443e+00,\n",
              "           -2.3172e+00],\n",
              "          [ 9.8333e-01, -2.2755e+00, -2.3532e+00,  7.6146e+00,  6.0131e-01,\n",
              "            2.4541e-01,  1.7732e-02,  4.0878e+00,  2.2612e+00, -1.3967e+00,\n",
              "            1.0018e+00],\n",
              "          [-2.3548e-01, -4.3278e-01,  3.7983e+00, -2.2514e+00,  9.3906e-01,\n",
              "           -5.1195e-01,  2.7609e-01,  2.5243e+00, -1.0214e+00, -4.5392e+00,\n",
              "            2.7776e+00],\n",
              "          [-1.0366e+00, -1.2194e+00, -3.7686e+00,  4.5083e+00, -1.0427e+00,\n",
              "           -4.5771e+00, -1.1912e+00,  3.4432e+00, -3.6948e-01, -2.8158e+00,\n",
              "           -3.6548e+00],\n",
              "          [-4.8842e+00,  1.7589e-01, -1.0240e+00, -5.0739e+00,  1.0927e+00,\n",
              "           -2.8589e+00, -2.9277e+00, -1.8950e+00,  1.5720e-01, -1.3748e+00,\n",
              "            1.3687e+00]],\n",
              "\n",
              "         [[-2.5928e+00,  1.9793e+00,  1.3855e+00, -1.8518e+00, -1.2450e+00,\n",
              "           -5.4483e-01,  1.0435e+00, -3.8292e-01,  1.2344e+00, -2.9975e+00,\n",
              "            1.8030e+00],\n",
              "          [ 2.6286e+00,  1.4734e+00,  2.3213e+00,  1.6646e+00, -1.1522e+00,\n",
              "            4.9214e+00, -4.6665e-01,  3.6245e+00,  3.0150e+00, -6.9828e+00,\n",
              "           -2.5879e+00],\n",
              "          [ 7.2831e-01,  6.5346e+00, -2.6486e+00, -2.3697e+00,  1.3046e+00,\n",
              "            6.0842e-02, -6.9847e+00, -9.7690e-01, -7.6197e-01,  3.3598e+00,\n",
              "           -8.2158e-01],\n",
              "          [-3.8696e-01, -6.7757e-01, -2.5020e+00,  9.5526e-02, -2.3185e+00,\n",
              "            5.0722e+00, -1.7217e+00,  3.7156e+00,  7.5741e-01, -3.5104e+00,\n",
              "           -2.0808e+00],\n",
              "          [ 5.3276e+00,  9.1806e-01,  2.0449e+00, -1.5775e+00,  4.7793e-02,\n",
              "            6.1995e-01,  3.2160e+00,  2.8447e+00,  2.1692e+00, -3.6488e+00,\n",
              "            4.5242e+00],\n",
              "          [ 1.0412e-01,  1.3928e+00, -3.6324e+00, -5.0016e-01, -3.2705e-01,\n",
              "           -8.7253e-01,  2.3273e+00, -8.8254e-01, -3.8903e-01, -2.7367e+00,\n",
              "            3.2325e+00],\n",
              "          [-7.1640e-01, -1.5389e+00, -6.4678e-02, -6.7372e+00,  8.7340e-01,\n",
              "           -3.1285e+00,  1.3771e+00, -4.0143e-01, -1.7750e+00, -5.1486e+00,\n",
              "            2.9020e+00],\n",
              "          [-2.1016e+00, -2.2271e+00, -4.2574e+00,  1.8649e+00, -2.9363e+00,\n",
              "            1.1141e-02,  3.8254e+00, -7.9980e-01, -1.6784e+00,  4.1925e+00,\n",
              "            3.1705e+00],\n",
              "          [ 1.4842e+00,  6.5659e-01, -1.3718e+00,  6.6182e-01,  1.0973e+00,\n",
              "           -2.4785e+00,  3.4798e+00, -1.3755e+00, -2.3649e-02, -1.5439e+00,\n",
              "           -8.6026e-02],\n",
              "          [ 8.9769e-01, -2.2462e+00,  5.0736e+00,  3.0837e-01,  2.3455e+00,\n",
              "           -1.8682e+00,  4.1289e+00,  5.3880e-01, -3.0118e+00,  2.1958e+00,\n",
              "           -6.6676e-01],\n",
              "          [-2.4033e+00,  3.9426e+00, -1.0554e+00, -4.5994e+00, -1.7308e+00,\n",
              "           -1.4411e+00,  1.4251e+00, -1.4202e+00, -1.5316e+00, -4.9903e+00,\n",
              "            2.1803e+00]]]], grad_fn=<UnsafeViewBackward0>)"
            ]
          },
          "metadata": {},
          "execution_count": 1227
        }
      ]
    },
    {
      "cell_type": "code",
      "source": [
        "trans.shape"
      ],
      "metadata": {
        "colab": {
          "base_uri": "https://localhost:8080/"
        },
        "id": "jIyOFnqHcEt5",
        "outputId": "a9b87e37-ec1a-45ad-d90a-54a71802cbbc"
      },
      "execution_count": 1228,
      "outputs": [
        {
          "output_type": "execute_result",
          "data": {
            "text/plain": [
              "torch.Size([1, 8, 11, 11])"
            ]
          },
          "metadata": {},
          "execution_count": 1228
        }
      ]
    },
    {
      "cell_type": "code",
      "source": [
        "k.size()"
      ],
      "metadata": {
        "colab": {
          "base_uri": "https://localhost:8080/"
        },
        "id": "X1nbqw2Qdje6",
        "outputId": "2e15c7af-9439-462c-ef13-e24af0416430"
      },
      "execution_count": 1229,
      "outputs": [
        {
          "output_type": "execute_result",
          "data": {
            "text/plain": [
              "torch.Size([1, 8, 11, 64])"
            ]
          },
          "metadata": {},
          "execution_count": 1229
        }
      ]
    },
    {
      "cell_type": "code",
      "source": [
        "d_k= k.size()[-1]"
      ],
      "metadata": {
        "id": "qqqr3MzrdcFD"
      },
      "execution_count": 1230,
      "outputs": []
    },
    {
      "cell_type": "code",
      "source": [
        "d_k"
      ],
      "metadata": {
        "colab": {
          "base_uri": "https://localhost:8080/"
        },
        "id": "yi0h2AMcdv8K",
        "outputId": "b46e2668-ae19-4ac3-9576-ee2be177083a"
      },
      "execution_count": 1231,
      "outputs": [
        {
          "output_type": "execute_result",
          "data": {
            "text/plain": [
              "64"
            ]
          },
          "metadata": {},
          "execution_count": 1231
        }
      ]
    },
    {
      "cell_type": "markdown",
      "source": [
        "now we need to scale it"
      ],
      "metadata": {
        "id": "UkNFrfKNfGBz"
      }
    },
    {
      "cell_type": "markdown",
      "source": [
        "![image.png](data:image/png;base64,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)"
      ],
      "metadata": {
        "id": "hR1r42CEfEXQ"
      }
    },
    {
      "cell_type": "code",
      "source": [
        "q.shape"
      ],
      "metadata": {
        "colab": {
          "base_uri": "https://localhost:8080/"
        },
        "id": "WQVZhx7MfkFt",
        "outputId": "7fccedf9-1543-4390-ffc5-4a06d1d5d7a8"
      },
      "execution_count": 1232,
      "outputs": [
        {
          "output_type": "execute_result",
          "data": {
            "text/plain": [
              "torch.Size([1, 8, 11, 64])"
            ]
          },
          "metadata": {},
          "execution_count": 1232
        }
      ]
    },
    {
      "cell_type": "code",
      "source": [
        "k.shape"
      ],
      "metadata": {
        "colab": {
          "base_uri": "https://localhost:8080/"
        },
        "id": "KBLFPk2lfqk7",
        "outputId": "d95d75f1-a057-4d9d-c698-b1812a533770"
      },
      "execution_count": 1233,
      "outputs": [
        {
          "output_type": "execute_result",
          "data": {
            "text/plain": [
              "torch.Size([1, 8, 11, 64])"
            ]
          },
          "metadata": {},
          "execution_count": 1233
        }
      ]
    },
    {
      "cell_type": "code",
      "source": [
        "scaled = torch.matmul(q,k.transpose(-2,-1)) / math.sqrt(d_k)"
      ],
      "metadata": {
        "id": "2DaNemOcfFDz"
      },
      "execution_count": 1234,
      "outputs": []
    },
    {
      "cell_type": "code",
      "source": [
        "scaled"
      ],
      "metadata": {
        "collapsed": true,
        "colab": {
          "base_uri": "https://localhost:8080/"
        },
        "id": "SwPpVY6sfYyz",
        "outputId": "411f20b5-da33-4b39-ec9e-85676ba3d59e"
      },
      "execution_count": 1235,
      "outputs": [
        {
          "output_type": "execute_result",
          "data": {
            "text/plain": [
              "tensor([[[[ 2.3270e-01, -2.6796e-01, -1.8417e-01, -4.2918e-01, -3.9682e-01,\n",
              "           -1.6501e-01, -2.2911e-01,  1.0905e-03, -3.0818e-01,  2.7516e-01,\n",
              "            6.1089e-03],\n",
              "          [-1.7532e-01,  4.7731e-02,  3.6918e-01,  4.5397e-01,  5.0343e-01,\n",
              "           -2.3750e-01,  3.6543e-03, -2.9678e-01, -2.8881e-01,  1.5769e-01,\n",
              "            3.4060e-01],\n",
              "          [-8.8792e-02, -1.7955e-01,  1.9891e-01, -5.4103e-01, -1.6877e-01,\n",
              "            3.2481e-01,  4.1434e-01,  5.5800e-01, -1.8775e-01, -9.6808e-02,\n",
              "           -3.5847e-01],\n",
              "          [-4.1302e-01,  3.1690e-01, -2.9456e-01, -2.1904e-01,  2.1499e-01,\n",
              "           -3.2924e-01, -8.5160e-02, -3.9068e-03,  2.7761e-01, -4.0604e-01,\n",
              "            4.0212e-01],\n",
              "          [-3.5620e-01,  3.9888e-01, -1.7797e-01,  1.3231e-01,  3.3163e-02,\n",
              "           -2.2581e-01, -1.8095e-01,  2.1579e-01, -4.7326e-01,  2.6747e-01,\n",
              "            2.0264e-01],\n",
              "          [-1.8435e-01,  2.0549e-01, -5.2869e-01, -3.2333e-01, -4.2247e-01,\n",
              "            9.1917e-02, -1.3706e-01,  4.7497e-02, -4.6998e-01,  1.2354e-01,\n",
              "           -7.2958e-02],\n",
              "          [ 3.5969e-01,  1.3044e-01, -2.6544e-01, -3.7248e-01,  1.5920e-01,\n",
              "            6.5500e-02,  3.7031e-01,  1.5901e-01, -9.5039e-02, -2.2167e-01,\n",
              "           -1.7996e-01],\n",
              "          [ 5.7697e-01, -1.7442e-01, -2.5451e-01,  9.3681e-02,  9.8368e-02,\n",
              "            1.3202e-01, -3.2167e-01,  6.8004e-01,  3.1541e-01, -1.3650e-02,\n",
              "           -5.9158e-01],\n",
              "          [-8.3649e-02, -2.3734e-01,  2.1781e-01, -7.9006e-04, -4.1447e-01,\n",
              "           -3.4460e-01,  1.7238e-02,  2.3724e-01, -4.2502e-01, -4.8819e-01,\n",
              "            1.8501e-01],\n",
              "          [ 7.0564e-03,  5.5290e-01, -1.4147e-01,  6.8539e-02,  2.1465e-01,\n",
              "           -5.7693e-01,  2.0001e-01, -6.0704e-01, -2.5783e-02, -5.9759e-01,\n",
              "           -1.2339e-01],\n",
              "          [ 4.9124e-01,  4.2237e-01, -2.5626e-01,  1.2289e-01, -4.7780e-01,\n",
              "           -1.8266e-01, -5.5473e-01, -5.0380e-02,  3.5032e-01, -2.7437e-01,\n",
              "           -1.7318e-01]],\n",
              "\n",
              "         [[ 1.0334e+00, -3.2548e-01, -5.3879e-01, -5.5930e-01,  1.0695e-01,\n",
              "           -5.5107e-01, -3.9934e-01,  2.9641e-01,  2.3460e-01,  1.0431e-01,\n",
              "           -7.2116e-03],\n",
              "          [-2.7298e-01,  4.2748e-01, -2.0082e-01,  3.1203e-02, -2.9787e-01,\n",
              "            9.7166e-02,  3.7584e-01,  1.3643e-01,  2.7125e-01, -1.3091e-01,\n",
              "            1.9768e-01],\n",
              "          [ 2.6357e-01, -4.4195e-01, -2.1920e-01,  5.8483e-01, -8.0399e-02,\n",
              "            2.6414e-01,  9.1166e-02,  1.4791e-02, -2.2475e-01,  2.5172e-02,\n",
              "           -1.6198e-01],\n",
              "          [-2.4533e-01,  1.8745e-01,  4.3094e-01, -5.7345e-01, -2.1474e-02,\n",
              "           -3.0767e-02,  5.4978e-01,  4.2595e-01, -9.1110e-02,  4.1803e-01,\n",
              "            3.0640e-02],\n",
              "          [-8.3951e-01, -2.2486e-02, -3.3187e-01,  8.8789e-02,  2.9859e-01,\n",
              "           -4.3146e-02,  1.0660e-01, -3.3152e-01,  7.2420e-01, -5.4922e-01,\n",
              "           -3.8079e-01],\n",
              "          [ 1.2267e+00,  1.7799e-01,  7.8791e-02, -2.3460e-01, -1.8457e-01,\n",
              "            1.1753e-01, -3.4992e-01, -9.1729e-02, -3.4535e-01, -3.0097e-01,\n",
              "           -1.6805e-01],\n",
              "          [-5.0361e-01,  4.6553e-01,  1.3177e-01,  1.0622e-01, -6.0796e-02,\n",
              "            1.8286e-01,  6.5098e-02,  2.4575e-01, -1.1188e-01, -8.2140e-01,\n",
              "            4.0325e-01],\n",
              "          [-2.9993e-01,  4.6411e-02, -2.0721e-01, -2.0388e-01, -7.0444e-01,\n",
              "            2.1437e-01,  1.7401e-01, -3.1651e-01, -3.5834e-01,  7.8520e-01,\n",
              "           -5.8870e-01],\n",
              "          [ 4.3718e-01, -1.0026e-01, -5.0030e-01,  1.0924e-01,  1.2389e-01,\n",
              "            2.9051e-01,  2.7101e-01,  1.7653e-01,  2.3511e-01,  3.4452e-01,\n",
              "           -2.8391e-01],\n",
              "          [-4.8549e-01, -3.1781e-01,  1.6332e-01,  5.7164e-02,  2.0119e-01,\n",
              "           -8.0703e-01,  2.5336e-01,  3.3484e-01,  1.3400e-01,  1.5853e-01,\n",
              "           -1.1907e-01],\n",
              "          [ 2.5370e-01, -2.1979e-01,  1.6757e-01,  1.5891e-01, -2.9895e-01,\n",
              "            1.8580e-01, -6.3070e-01, -4.1109e-01,  5.0057e-02,  1.4618e-01,\n",
              "           -2.5587e-01]],\n",
              "\n",
              "         [[-2.7480e-02,  3.4714e-01, -4.0352e-02,  7.2883e-03, -2.0271e-01,\n",
              "           -3.6529e-01, -4.6544e-02, -1.8496e-01,  2.8447e-02, -1.3023e-01,\n",
              "           -7.3707e-02],\n",
              "          [ 2.7542e-01,  5.2157e-02, -3.6334e-01, -1.9880e-01,  2.0745e-01,\n",
              "           -3.6067e-01,  1.4205e-01, -3.2388e-01,  2.3718e-01, -1.8723e-01,\n",
              "           -3.6827e-01],\n",
              "          [ 3.3275e-03, -2.8202e-02, -4.3906e-03,  7.6401e-02, -3.9939e-01,\n",
              "           -1.6002e-01,  5.4471e-02, -5.7359e-01, -1.7696e-01,  1.2750e-01,\n",
              "            1.1161e-01],\n",
              "          [ 1.4485e-01, -1.4802e-01, -4.6958e-03, -1.9814e-01, -4.8216e-01,\n",
              "           -9.6178e-03,  1.1671e-01,  2.1450e-01,  8.2501e-02,  3.9892e-01,\n",
              "            2.8859e-01],\n",
              "          [ 2.4301e-01, -4.4526e-01, -1.0858e-01,  3.5654e-02,  5.9301e-01,\n",
              "            1.5665e-01,  5.5942e-01,  4.4819e-01,  5.8605e-01,  9.4232e-02,\n",
              "           -3.2731e-01],\n",
              "          [-1.9389e-01, -3.3452e-02,  2.4767e-01, -2.7595e-03, -2.3608e-01,\n",
              "            7.4302e-02,  4.5186e-01, -2.7080e-01, -3.5641e-01, -1.8469e-01,\n",
              "           -2.7937e-01],\n",
              "          [-8.5763e-01,  1.0397e-01,  4.8180e-01, -1.9358e-01,  1.6186e-01,\n",
              "           -2.7532e-01, -2.9210e-01, -9.7183e-02,  1.2019e-01, -5.9938e-01,\n",
              "            1.8699e-01],\n",
              "          [ 2.0916e-01,  2.4604e-01,  2.5199e-01, -2.1651e-01, -9.3542e-02,\n",
              "           -3.7987e-01, -1.4281e-01, -1.4688e-01,  3.4196e-01, -4.8238e-01,\n",
              "           -1.9705e-01],\n",
              "          [ 9.0055e-02,  2.0013e-01, -2.5204e-01, -1.8669e-01,  1.8102e-01,\n",
              "           -3.5681e-01,  3.7323e-01,  4.2473e-01, -7.7679e-03, -6.5308e-02,\n",
              "           -4.4706e-01],\n",
              "          [-4.0182e-01,  4.5497e-01, -1.1836e-01,  1.7327e-01, -7.4799e-02,\n",
              "           -1.5290e-01, -1.3482e-01, -4.8569e-01, -3.2718e-01, -2.4695e-01,\n",
              "           -2.5999e-02],\n",
              "          [ 2.8931e-01,  2.5749e-01, -4.8199e-01, -2.3070e-02, -3.0938e-01,\n",
              "           -5.9111e-02, -1.3160e-01, -4.8381e-02,  3.9483e-01,  2.5315e-01,\n",
              "            1.9986e-01]],\n",
              "\n",
              "         [[-5.3599e-01,  7.5569e-01, -2.0326e-01, -3.5734e-01, -3.2695e-01,\n",
              "            1.4249e-01,  8.1411e-02,  7.8473e-01,  7.2717e-02, -1.6136e-01,\n",
              "           -1.6367e-01],\n",
              "          [-6.2308e-02, -2.0229e-01,  3.6535e-01, -2.7612e-01,  3.0250e-01,\n",
              "           -1.7948e-01,  8.9557e-02, -3.9501e-01, -1.3614e-01, -6.9391e-01,\n",
              "            7.2841e-02],\n",
              "          [ 5.9127e-02,  4.8421e-01,  1.5862e-01, -9.4900e-02,  1.6623e-01,\n",
              "           -1.7650e-01, -2.2221e-01, -3.8927e-01, -1.9654e-01, -1.2020e-01,\n",
              "           -2.3074e-01],\n",
              "          [ 1.0229e-01,  2.8181e-01,  1.4826e-01,  1.4800e-01, -2.8766e-01,\n",
              "            3.5602e-01, -2.3693e-01,  2.8276e-01, -4.9087e-01,  3.0703e-01,\n",
              "            5.5157e-01],\n",
              "          [-3.5876e-02,  4.2635e-01, -1.7651e-01, -5.7745e-01,  4.0115e-01,\n",
              "           -2.1806e-01,  4.5022e-01, -7.3812e-01, -2.5894e-01, -1.4671e-01,\n",
              "           -2.8903e-01],\n",
              "          [-7.5657e-01,  4.9162e-02,  6.5575e-02, -3.4605e-01, -7.7043e-02,\n",
              "            2.9768e-01,  3.5028e-01,  5.4901e-01,  5.0852e-02,  2.1313e-01,\n",
              "            1.7759e-01],\n",
              "          [ 5.5560e-01,  2.4329e-01,  4.1579e-01, -9.0793e-02, -5.7795e-02,\n",
              "           -6.4130e-02, -8.9448e-02,  1.7016e-01, -2.7310e-02,  2.4287e-01,\n",
              "            1.0174e-01],\n",
              "          [-3.2755e-02, -2.7698e-01,  1.5136e-01,  3.7276e-01, -1.4023e-01,\n",
              "           -2.1173e-01, -5.4086e-01, -6.8283e-01, -4.0706e-01,  2.2666e-02,\n",
              "            1.1053e-01],\n",
              "          [ 4.0879e-01, -7.8184e-02,  1.1864e-01, -1.2701e-01,  3.8728e-01,\n",
              "           -3.0705e-01, -1.3157e-01,  1.7759e-01, -5.2247e-01,  1.3080e-01,\n",
              "           -2.0835e-01],\n",
              "          [-8.8838e-03, -7.1280e-02,  6.1225e-01,  2.0098e-01,  3.5035e-01,\n",
              "            2.7886e-01,  3.1544e-02, -6.2489e-01,  2.3597e-01, -2.2463e-01,\n",
              "            2.8686e-01],\n",
              "          [-2.4571e-01,  1.2268e-01, -3.2364e-02,  1.3408e-01, -2.7375e-01,\n",
              "           -4.4426e-01, -2.7599e-01,  2.1931e-01,  3.9065e-02,  2.0463e-01,\n",
              "           -7.0606e-01]],\n",
              "\n",
              "         [[ 1.1251e-01,  5.4871e-02,  3.5879e-01,  1.1586e-02, -2.9513e-01,\n",
              "            2.1213e-02, -2.7459e-01, -1.3385e-01, -4.5227e-01,  1.7657e-01,\n",
              "           -2.9248e-01],\n",
              "          [-8.2352e-03, -1.6672e-01,  7.3914e-02, -1.8694e-01, -8.1590e-02,\n",
              "            4.9006e-02,  1.4976e-01,  2.3392e-01, -6.4523e-01,  1.3866e-02,\n",
              "            6.1625e-01],\n",
              "          [-1.8258e-01, -3.9313e-01,  6.9139e-02,  1.1377e-01, -1.2999e-02,\n",
              "           -2.7113e-02, -1.3634e-01, -6.2615e-01, -3.6881e-01, -6.0816e-01,\n",
              "            2.1542e-01],\n",
              "          [ 3.6450e-01, -1.4816e-01, -1.3963e-02,  1.5157e-01,  3.0231e-01,\n",
              "           -1.4326e-01, -2.3615e-01,  4.5300e-01, -1.4692e-01, -1.0542e-01,\n",
              "           -8.3077e-01],\n",
              "          [ 8.5088e-01, -4.4969e-01,  2.0040e-01,  1.0877e+00, -5.8369e-01,\n",
              "            2.9761e-01,  2.9099e-02, -6.9633e-02, -7.6401e-02, -1.4849e-01,\n",
              "            7.7794e-01],\n",
              "          [ 3.2463e-01, -2.3629e-01,  1.9423e-01, -2.5671e-01, -3.3961e-01,\n",
              "            4.0869e-01, -2.7763e-01, -2.4748e-01, -4.3074e-01, -7.0457e-01,\n",
              "           -8.4801e-02],\n",
              "          [-4.4647e-01, -3.5120e-01,  1.5624e-01,  3.4155e-01, -8.1877e-02,\n",
              "           -2.4395e-01,  1.0731e-01,  3.9574e-01,  3.1046e-01, -1.1713e-01,\n",
              "            1.3531e-01],\n",
              "          [ 4.5104e-02, -1.3578e-01, -1.5499e-02,  1.2600e-01, -3.3193e-01,\n",
              "            1.0293e-02, -6.2048e-02,  3.7423e-01, -5.0805e-02,  5.7995e-01,\n",
              "            6.0184e-01],\n",
              "          [ 7.0415e-01, -1.1274e-01,  7.4292e-02,  2.7003e-01,  2.1042e-01,\n",
              "            6.7758e-02, -2.3306e-01, -4.4982e-01, -2.6315e-01,  2.1475e-01,\n",
              "           -4.1399e-01],\n",
              "          [ 6.7684e-02,  5.4091e-02, -2.3733e-01,  1.1529e-01, -5.4997e-01,\n",
              "           -4.0389e-01, -2.8364e-01, -4.0516e-01,  3.4614e-02,  4.4328e-02,\n",
              "           -1.1776e+00],\n",
              "          [-5.2088e-01, -5.0684e-02,  3.5978e-01,  4.0612e-01, -3.0096e-01,\n",
              "            2.9201e-01,  2.0640e-01, -2.1491e-01,  4.6812e-01,  1.0958e-01,\n",
              "            4.9410e-02]],\n",
              "\n",
              "         [[ 3.2555e-02,  3.4677e-01,  1.8295e-01, -1.8656e-01,  2.0834e-01,\n",
              "            4.5265e-01,  1.7375e-01, -5.4498e-01, -2.2952e-01, -6.0056e-02,\n",
              "            1.8137e-02],\n",
              "          [-2.5971e-01, -7.7552e-01,  1.1371e-01,  1.7370e-02, -1.8482e-01,\n",
              "           -3.6684e-02,  7.4239e-01,  5.1773e-01,  5.6527e-01, -2.1655e-01,\n",
              "            9.1679e-02],\n",
              "          [ 4.8182e-02,  5.7051e-01, -1.8523e-02,  1.3940e-01,  1.9605e-01,\n",
              "           -1.3900e-01,  2.9017e-01, -5.5940e-01,  1.3107e-01,  3.2707e-01,\n",
              "           -3.4166e-01],\n",
              "          [-2.4942e-01, -5.7895e-01, -7.6845e-02,  1.7046e-02, -3.0950e-01,\n",
              "           -8.4385e-02, -4.3800e-01,  1.3122e-01, -1.1935e-01, -2.0063e-01,\n",
              "           -1.4620e-01],\n",
              "          [-1.3163e-03, -4.9358e-01,  3.0957e-01, -1.0190e-01,  9.5855e-02,\n",
              "            4.1532e-01,  1.5839e-01,  1.2499e-01,  1.9765e-01, -1.3474e-01,\n",
              "           -7.4996e-02],\n",
              "          [-4.6070e-01, -8.1160e-01, -3.4147e-01, -3.0844e-01,  1.4952e-01,\n",
              "            4.0530e-01,  5.3640e-02,  1.1707e-01, -3.0382e-01,  7.5951e-01,\n",
              "           -3.2938e-01],\n",
              "          [ 3.2194e-02, -1.8568e-01, -2.0342e-01, -1.9215e-01,  2.4131e-01,\n",
              "           -6.2756e-01,  1.5979e-01, -1.4459e-01, -6.1917e-02,  4.0842e-02,\n",
              "           -5.8200e-02],\n",
              "          [-6.6390e-01,  2.0231e-01, -5.2428e-01, -4.4414e-01,  5.7235e-02,\n",
              "           -4.2590e-01,  7.0589e-01,  3.2748e-01,  4.6756e-01,  2.5405e-01,\n",
              "           -5.2991e-01],\n",
              "          [-8.0199e-01, -5.0010e-01, -5.9410e-02,  5.8252e-01, -7.8590e-02,\n",
              "            4.3803e-01,  4.5629e-01,  3.8397e-01,  5.7974e-02,  6.2794e-01,\n",
              "            1.6691e-01],\n",
              "          [-1.9996e-02, -4.0580e-01,  4.8782e-01,  3.7913e-02,  1.5472e-01,\n",
              "            3.3807e-01, -2.1401e-01,  4.2622e-02, -8.2220e-01,  3.9673e-02,\n",
              "           -2.8846e-01],\n",
              "          [ 3.3773e-01, -1.5853e-01,  2.5326e-01, -4.9871e-01,  7.4975e-02,\n",
              "           -9.9629e-02, -1.1957e-01, -1.5873e-02, -3.5045e-01, -1.4330e-01,\n",
              "           -4.4840e-02]],\n",
              "\n",
              "         [[ 3.7415e-01,  8.0946e-01,  3.2018e-01,  2.2231e-02, -5.6046e-01,\n",
              "           -2.6205e-02, -7.0327e-01,  3.6574e-01,  1.2954e-01, -1.7175e-01,\n",
              "           -2.5807e-01],\n",
              "          [-6.9619e-01, -5.9017e-01, -2.0431e-01,  3.2816e-02,  2.0026e-01,\n",
              "            5.2645e-01,  2.2991e-01,  2.8456e-01, -1.2763e-01, -5.0128e-01,\n",
              "           -2.0277e-01],\n",
              "          [ 2.0940e-01, -1.6358e-01, -2.5104e-01,  2.6995e-01, -2.0054e-01,\n",
              "            4.0212e-02, -3.9226e-01,  6.3081e-02, -7.5802e-02, -6.7883e-01,\n",
              "           -1.5008e-02],\n",
              "          [ 1.0345e+00,  5.5276e-01, -1.2645e-01, -4.5897e-01, -3.3457e-02,\n",
              "            1.3857e-01, -2.2064e-01, -3.9925e-01,  2.2280e-01,  5.9472e-02,\n",
              "            8.5196e-01],\n",
              "          [-1.7717e-01,  3.6329e-01,  8.7958e-01, -2.4280e-01,  8.2468e-01,\n",
              "           -2.1365e-01, -5.8887e-01,  6.9995e-01,  1.9089e-01, -6.0773e-01,\n",
              "           -1.0232e-01],\n",
              "          [-7.7289e-01,  2.0752e-03, -4.3906e-01, -1.7196e-01, -1.5754e-01,\n",
              "           -6.3663e-02, -2.1968e-01, -1.3712e-01,  1.0057e-01,  6.3323e-02,\n",
              "           -1.5590e-01],\n",
              "          [-3.4246e-02,  8.9904e-02, -2.2728e-01,  2.7841e-01, -2.5282e-01,\n",
              "            3.6563e-02,  4.5425e-01,  7.8407e-03,  1.5136e-02, -3.6803e-01,\n",
              "           -2.8965e-01],\n",
              "          [ 1.2292e-01, -2.8443e-01, -2.9415e-01,  9.5182e-01,  7.5164e-02,\n",
              "            3.0676e-02,  2.2165e-03,  5.1098e-01,  2.8265e-01, -1.7458e-01,\n",
              "            1.2522e-01],\n",
              "          [-2.9435e-02, -5.4098e-02,  4.7479e-01, -2.8143e-01,  1.1738e-01,\n",
              "           -6.3993e-02,  3.4511e-02,  3.1553e-01, -1.2768e-01, -5.6740e-01,\n",
              "            3.4720e-01],\n",
              "          [-1.2958e-01, -1.5242e-01, -4.7107e-01,  5.6354e-01, -1.3034e-01,\n",
              "           -5.7213e-01, -1.4890e-01,  4.3039e-01, -4.6185e-02, -3.5198e-01,\n",
              "           -4.5685e-01],\n",
              "          [-6.1052e-01,  2.1987e-02, -1.2800e-01, -6.3424e-01,  1.3658e-01,\n",
              "           -3.5736e-01, -3.6596e-01, -2.3688e-01,  1.9650e-02, -1.7184e-01,\n",
              "            1.7108e-01]],\n",
              "\n",
              "         [[-3.2410e-01,  2.4741e-01,  1.7318e-01, -2.3147e-01, -1.5563e-01,\n",
              "           -6.8103e-02,  1.3044e-01, -4.7865e-02,  1.5430e-01, -3.7468e-01,\n",
              "            2.2537e-01],\n",
              "          [ 3.2857e-01,  1.8418e-01,  2.9017e-01,  2.0807e-01, -1.4402e-01,\n",
              "            6.1517e-01, -5.8332e-02,  4.5306e-01,  3.7688e-01, -8.7284e-01,\n",
              "           -3.2349e-01],\n",
              "          [ 9.1039e-02,  8.1682e-01, -3.3107e-01, -2.9621e-01,  1.6307e-01,\n",
              "            7.6053e-03, -8.7309e-01, -1.2211e-01, -9.5246e-02,  4.1998e-01,\n",
              "           -1.0270e-01],\n",
              "          [-4.8370e-02, -8.4696e-02, -3.1275e-01,  1.1941e-02, -2.8981e-01,\n",
              "            6.3402e-01, -2.1522e-01,  4.6445e-01,  9.4676e-02, -4.3880e-01,\n",
              "           -2.6009e-01],\n",
              "          [ 6.6594e-01,  1.1476e-01,  2.5561e-01, -1.9718e-01,  5.9741e-03,\n",
              "            7.7494e-02,  4.0200e-01,  3.5559e-01,  2.7115e-01, -4.5610e-01,\n",
              "            5.6553e-01],\n",
              "          [ 1.3015e-02,  1.7410e-01, -4.5405e-01, -6.2520e-02, -4.0881e-02,\n",
              "           -1.0907e-01,  2.9091e-01, -1.1032e-01, -4.8629e-02, -3.4208e-01,\n",
              "            4.0407e-01],\n",
              "          [-8.9550e-02, -1.9237e-01, -8.0847e-03, -8.4214e-01,  1.0917e-01,\n",
              "           -3.9107e-01,  1.7213e-01, -5.0178e-02, -2.2187e-01, -6.4357e-01,\n",
              "            3.6274e-01],\n",
              "          [-2.6271e-01, -2.7839e-01, -5.3217e-01,  2.3311e-01, -3.6704e-01,\n",
              "            1.3926e-03,  4.7818e-01, -9.9975e-02, -2.0980e-01,  5.2406e-01,\n",
              "            3.9632e-01],\n",
              "          [ 1.8553e-01,  8.2073e-02, -1.7147e-01,  8.2727e-02,  1.3716e-01,\n",
              "           -3.0982e-01,  4.3498e-01, -1.7194e-01, -2.9561e-03, -1.9299e-01,\n",
              "           -1.0753e-02],\n",
              "          [ 1.1221e-01, -2.8078e-01,  6.3420e-01,  3.8546e-02,  2.9319e-01,\n",
              "           -2.3352e-01,  5.1611e-01,  6.7351e-02, -3.7648e-01,  2.7448e-01,\n",
              "           -8.3345e-02],\n",
              "          [-3.0042e-01,  4.9282e-01, -1.3192e-01, -5.7492e-01, -2.1635e-01,\n",
              "           -1.8014e-01,  1.7814e-01, -1.7753e-01, -1.9145e-01, -6.2379e-01,\n",
              "            2.7253e-01]]]], grad_fn=<DivBackward0>)"
            ]
          },
          "metadata": {},
          "execution_count": 1235
        }
      ]
    },
    {
      "cell_type": "code",
      "source": [
        "scaled.shape"
      ],
      "metadata": {
        "colab": {
          "base_uri": "https://localhost:8080/"
        },
        "id": "VZ7E953jfaB9",
        "outputId": "7ff45dc4-8de7-44eb-8f8e-ded46122eb6c"
      },
      "execution_count": 1236,
      "outputs": [
        {
          "output_type": "execute_result",
          "data": {
            "text/plain": [
              "torch.Size([1, 8, 11, 11])"
            ]
          },
          "metadata": {},
          "execution_count": 1236
        }
      ]
    },
    {
      "cell_type": "markdown",
      "source": [
        "here, we did the multiplication for all <br> the heads in the batch ( for now we <br> have 1 batch)- we scaled all of <br> them- not for only 1 single attention"
      ],
      "metadata": {
        "id": "3bk2M44vf66g"
      }
    },
    {
      "cell_type": "markdown",
      "source": [
        "now let us make the Masked- multi-head attention"
      ],
      "metadata": {
        "id": "rcpEUaNkgnts"
      }
    },
    {
      "cell_type": "code",
      "source": [
        "mask = torch.full(scaled.size(),float('-inf'))\n",
        "mask"
      ],
      "metadata": {
        "colab": {
          "base_uri": "https://localhost:8080/"
        },
        "collapsed": true,
        "id": "vGF4hZEcgYTK",
        "outputId": "0fcb8567-a7a7-4d61-ab8c-9cc3ae9c2625"
      },
      "execution_count": 1237,
      "outputs": [
        {
          "output_type": "execute_result",
          "data": {
            "text/plain": [
              "tensor([[[[-inf, -inf, -inf, -inf, -inf, -inf, -inf, -inf, -inf, -inf, -inf],\n",
              "          [-inf, -inf, -inf, -inf, -inf, -inf, -inf, -inf, -inf, -inf, -inf],\n",
              "          [-inf, -inf, -inf, -inf, -inf, -inf, -inf, -inf, -inf, -inf, -inf],\n",
              "          [-inf, -inf, -inf, -inf, -inf, -inf, -inf, -inf, -inf, -inf, -inf],\n",
              "          [-inf, -inf, -inf, -inf, -inf, -inf, -inf, -inf, -inf, -inf, -inf],\n",
              "          [-inf, -inf, -inf, -inf, -inf, -inf, -inf, -inf, -inf, -inf, -inf],\n",
              "          [-inf, -inf, -inf, -inf, -inf, -inf, -inf, -inf, -inf, -inf, -inf],\n",
              "          [-inf, -inf, -inf, -inf, -inf, -inf, -inf, -inf, -inf, -inf, -inf],\n",
              "          [-inf, -inf, -inf, -inf, -inf, -inf, -inf, -inf, -inf, -inf, -inf],\n",
              "          [-inf, -inf, -inf, -inf, -inf, -inf, -inf, -inf, -inf, -inf, -inf],\n",
              "          [-inf, -inf, -inf, -inf, -inf, -inf, -inf, -inf, -inf, -inf, -inf]],\n",
              "\n",
              "         [[-inf, -inf, -inf, -inf, -inf, -inf, -inf, -inf, -inf, -inf, -inf],\n",
              "          [-inf, -inf, -inf, -inf, -inf, -inf, -inf, -inf, -inf, -inf, -inf],\n",
              "          [-inf, -inf, -inf, -inf, -inf, -inf, -inf, -inf, -inf, -inf, -inf],\n",
              "          [-inf, -inf, -inf, -inf, -inf, -inf, -inf, -inf, -inf, -inf, -inf],\n",
              "          [-inf, -inf, -inf, -inf, -inf, -inf, -inf, -inf, -inf, -inf, -inf],\n",
              "          [-inf, -inf, -inf, -inf, -inf, -inf, -inf, -inf, -inf, -inf, -inf],\n",
              "          [-inf, -inf, -inf, -inf, -inf, -inf, -inf, -inf, -inf, -inf, -inf],\n",
              "          [-inf, -inf, -inf, -inf, -inf, -inf, -inf, -inf, -inf, -inf, -inf],\n",
              "          [-inf, -inf, -inf, -inf, -inf, -inf, -inf, -inf, -inf, -inf, -inf],\n",
              "          [-inf, -inf, -inf, -inf, -inf, -inf, -inf, -inf, -inf, -inf, -inf],\n",
              "          [-inf, -inf, -inf, -inf, -inf, -inf, -inf, -inf, -inf, -inf, -inf]],\n",
              "\n",
              "         [[-inf, -inf, -inf, -inf, -inf, -inf, -inf, -inf, -inf, -inf, -inf],\n",
              "          [-inf, -inf, -inf, -inf, -inf, -inf, -inf, -inf, -inf, -inf, -inf],\n",
              "          [-inf, -inf, -inf, -inf, -inf, -inf, -inf, -inf, -inf, -inf, -inf],\n",
              "          [-inf, -inf, -inf, -inf, -inf, -inf, -inf, -inf, -inf, -inf, -inf],\n",
              "          [-inf, -inf, -inf, -inf, -inf, -inf, -inf, -inf, -inf, -inf, -inf],\n",
              "          [-inf, -inf, -inf, -inf, -inf, -inf, -inf, -inf, -inf, -inf, -inf],\n",
              "          [-inf, -inf, -inf, -inf, -inf, -inf, -inf, -inf, -inf, -inf, -inf],\n",
              "          [-inf, -inf, -inf, -inf, -inf, -inf, -inf, -inf, -inf, -inf, -inf],\n",
              "          [-inf, -inf, -inf, -inf, -inf, -inf, -inf, -inf, -inf, -inf, -inf],\n",
              "          [-inf, -inf, -inf, -inf, -inf, -inf, -inf, -inf, -inf, -inf, -inf],\n",
              "          [-inf, -inf, -inf, -inf, -inf, -inf, -inf, -inf, -inf, -inf, -inf]],\n",
              "\n",
              "         [[-inf, -inf, -inf, -inf, -inf, -inf, -inf, -inf, -inf, -inf, -inf],\n",
              "          [-inf, -inf, -inf, -inf, -inf, -inf, -inf, -inf, -inf, -inf, -inf],\n",
              "          [-inf, -inf, -inf, -inf, -inf, -inf, -inf, -inf, -inf, -inf, -inf],\n",
              "          [-inf, -inf, -inf, -inf, -inf, -inf, -inf, -inf, -inf, -inf, -inf],\n",
              "          [-inf, -inf, -inf, -inf, -inf, -inf, -inf, -inf, -inf, -inf, -inf],\n",
              "          [-inf, -inf, -inf, -inf, -inf, -inf, -inf, -inf, -inf, -inf, -inf],\n",
              "          [-inf, -inf, -inf, -inf, -inf, -inf, -inf, -inf, -inf, -inf, -inf],\n",
              "          [-inf, -inf, -inf, -inf, -inf, -inf, -inf, -inf, -inf, -inf, -inf],\n",
              "          [-inf, -inf, -inf, -inf, -inf, -inf, -inf, -inf, -inf, -inf, -inf],\n",
              "          [-inf, -inf, -inf, -inf, -inf, -inf, -inf, -inf, -inf, -inf, -inf],\n",
              "          [-inf, -inf, -inf, -inf, -inf, -inf, -inf, -inf, -inf, -inf, -inf]],\n",
              "\n",
              "         [[-inf, -inf, -inf, -inf, -inf, -inf, -inf, -inf, -inf, -inf, -inf],\n",
              "          [-inf, -inf, -inf, -inf, -inf, -inf, -inf, -inf, -inf, -inf, -inf],\n",
              "          [-inf, -inf, -inf, -inf, -inf, -inf, -inf, -inf, -inf, -inf, -inf],\n",
              "          [-inf, -inf, -inf, -inf, -inf, -inf, -inf, -inf, -inf, -inf, -inf],\n",
              "          [-inf, -inf, -inf, -inf, -inf, -inf, -inf, -inf, -inf, -inf, -inf],\n",
              "          [-inf, -inf, -inf, -inf, -inf, -inf, -inf, -inf, -inf, -inf, -inf],\n",
              "          [-inf, -inf, -inf, -inf, -inf, -inf, -inf, -inf, -inf, -inf, -inf],\n",
              "          [-inf, -inf, -inf, -inf, -inf, -inf, -inf, -inf, -inf, -inf, -inf],\n",
              "          [-inf, -inf, -inf, -inf, -inf, -inf, -inf, -inf, -inf, -inf, -inf],\n",
              "          [-inf, -inf, -inf, -inf, -inf, -inf, -inf, -inf, -inf, -inf, -inf],\n",
              "          [-inf, -inf, -inf, -inf, -inf, -inf, -inf, -inf, -inf, -inf, -inf]],\n",
              "\n",
              "         [[-inf, -inf, -inf, -inf, -inf, -inf, -inf, -inf, -inf, -inf, -inf],\n",
              "          [-inf, -inf, -inf, -inf, -inf, -inf, -inf, -inf, -inf, -inf, -inf],\n",
              "          [-inf, -inf, -inf, -inf, -inf, -inf, -inf, -inf, -inf, -inf, -inf],\n",
              "          [-inf, -inf, -inf, -inf, -inf, -inf, -inf, -inf, -inf, -inf, -inf],\n",
              "          [-inf, -inf, -inf, -inf, -inf, -inf, -inf, -inf, -inf, -inf, -inf],\n",
              "          [-inf, -inf, -inf, -inf, -inf, -inf, -inf, -inf, -inf, -inf, -inf],\n",
              "          [-inf, -inf, -inf, -inf, -inf, -inf, -inf, -inf, -inf, -inf, -inf],\n",
              "          [-inf, -inf, -inf, -inf, -inf, -inf, -inf, -inf, -inf, -inf, -inf],\n",
              "          [-inf, -inf, -inf, -inf, -inf, -inf, -inf, -inf, -inf, -inf, -inf],\n",
              "          [-inf, -inf, -inf, -inf, -inf, -inf, -inf, -inf, -inf, -inf, -inf],\n",
              "          [-inf, -inf, -inf, -inf, -inf, -inf, -inf, -inf, -inf, -inf, -inf]],\n",
              "\n",
              "         [[-inf, -inf, -inf, -inf, -inf, -inf, -inf, -inf, -inf, -inf, -inf],\n",
              "          [-inf, -inf, -inf, -inf, -inf, -inf, -inf, -inf, -inf, -inf, -inf],\n",
              "          [-inf, -inf, -inf, -inf, -inf, -inf, -inf, -inf, -inf, -inf, -inf],\n",
              "          [-inf, -inf, -inf, -inf, -inf, -inf, -inf, -inf, -inf, -inf, -inf],\n",
              "          [-inf, -inf, -inf, -inf, -inf, -inf, -inf, -inf, -inf, -inf, -inf],\n",
              "          [-inf, -inf, -inf, -inf, -inf, -inf, -inf, -inf, -inf, -inf, -inf],\n",
              "          [-inf, -inf, -inf, -inf, -inf, -inf, -inf, -inf, -inf, -inf, -inf],\n",
              "          [-inf, -inf, -inf, -inf, -inf, -inf, -inf, -inf, -inf, -inf, -inf],\n",
              "          [-inf, -inf, -inf, -inf, -inf, -inf, -inf, -inf, -inf, -inf, -inf],\n",
              "          [-inf, -inf, -inf, -inf, -inf, -inf, -inf, -inf, -inf, -inf, -inf],\n",
              "          [-inf, -inf, -inf, -inf, -inf, -inf, -inf, -inf, -inf, -inf, -inf]],\n",
              "\n",
              "         [[-inf, -inf, -inf, -inf, -inf, -inf, -inf, -inf, -inf, -inf, -inf],\n",
              "          [-inf, -inf, -inf, -inf, -inf, -inf, -inf, -inf, -inf, -inf, -inf],\n",
              "          [-inf, -inf, -inf, -inf, -inf, -inf, -inf, -inf, -inf, -inf, -inf],\n",
              "          [-inf, -inf, -inf, -inf, -inf, -inf, -inf, -inf, -inf, -inf, -inf],\n",
              "          [-inf, -inf, -inf, -inf, -inf, -inf, -inf, -inf, -inf, -inf, -inf],\n",
              "          [-inf, -inf, -inf, -inf, -inf, -inf, -inf, -inf, -inf, -inf, -inf],\n",
              "          [-inf, -inf, -inf, -inf, -inf, -inf, -inf, -inf, -inf, -inf, -inf],\n",
              "          [-inf, -inf, -inf, -inf, -inf, -inf, -inf, -inf, -inf, -inf, -inf],\n",
              "          [-inf, -inf, -inf, -inf, -inf, -inf, -inf, -inf, -inf, -inf, -inf],\n",
              "          [-inf, -inf, -inf, -inf, -inf, -inf, -inf, -inf, -inf, -inf, -inf],\n",
              "          [-inf, -inf, -inf, -inf, -inf, -inf, -inf, -inf, -inf, -inf, -inf]]]])"
            ]
          },
          "metadata": {},
          "execution_count": 1237
        }
      ]
    },
    {
      "cell_type": "code",
      "source": [
        "mask.shape"
      ],
      "metadata": {
        "colab": {
          "base_uri": "https://localhost:8080/"
        },
        "id": "UBq-jH0Jg2R7",
        "outputId": "b6b40b9b-5a99-4ec1-e668-7edb5bdef50b"
      },
      "execution_count": 1238,
      "outputs": [
        {
          "output_type": "execute_result",
          "data": {
            "text/plain": [
              "torch.Size([1, 8, 11, 11])"
            ]
          },
          "metadata": {},
          "execution_count": 1238
        }
      ]
    },
    {
      "cell_type": "code",
      "source": [
        "new_mask = torch.triu(mask,diagonal=1)\n",
        "new_mask"
      ],
      "metadata": {
        "colab": {
          "base_uri": "https://localhost:8080/"
        },
        "id": "cxF3O8uFhJNH",
        "outputId": "c7e310b4-b7ac-4364-dd96-5ea005d98e51"
      },
      "execution_count": 1239,
      "outputs": [
        {
          "output_type": "execute_result",
          "data": {
            "text/plain": [
              "tensor([[[[0., -inf, -inf, -inf, -inf, -inf, -inf, -inf, -inf, -inf, -inf],\n",
              "          [0., 0., -inf, -inf, -inf, -inf, -inf, -inf, -inf, -inf, -inf],\n",
              "          [0., 0., 0., -inf, -inf, -inf, -inf, -inf, -inf, -inf, -inf],\n",
              "          [0., 0., 0., 0., -inf, -inf, -inf, -inf, -inf, -inf, -inf],\n",
              "          [0., 0., 0., 0., 0., -inf, -inf, -inf, -inf, -inf, -inf],\n",
              "          [0., 0., 0., 0., 0., 0., -inf, -inf, -inf, -inf, -inf],\n",
              "          [0., 0., 0., 0., 0., 0., 0., -inf, -inf, -inf, -inf],\n",
              "          [0., 0., 0., 0., 0., 0., 0., 0., -inf, -inf, -inf],\n",
              "          [0., 0., 0., 0., 0., 0., 0., 0., 0., -inf, -inf],\n",
              "          [0., 0., 0., 0., 0., 0., 0., 0., 0., 0., -inf],\n",
              "          [0., 0., 0., 0., 0., 0., 0., 0., 0., 0., 0.]],\n",
              "\n",
              "         [[0., -inf, -inf, -inf, -inf, -inf, -inf, -inf, -inf, -inf, -inf],\n",
              "          [0., 0., -inf, -inf, -inf, -inf, -inf, -inf, -inf, -inf, -inf],\n",
              "          [0., 0., 0., -inf, -inf, -inf, -inf, -inf, -inf, -inf, -inf],\n",
              "          [0., 0., 0., 0., -inf, -inf, -inf, -inf, -inf, -inf, -inf],\n",
              "          [0., 0., 0., 0., 0., -inf, -inf, -inf, -inf, -inf, -inf],\n",
              "          [0., 0., 0., 0., 0., 0., -inf, -inf, -inf, -inf, -inf],\n",
              "          [0., 0., 0., 0., 0., 0., 0., -inf, -inf, -inf, -inf],\n",
              "          [0., 0., 0., 0., 0., 0., 0., 0., -inf, -inf, -inf],\n",
              "          [0., 0., 0., 0., 0., 0., 0., 0., 0., -inf, -inf],\n",
              "          [0., 0., 0., 0., 0., 0., 0., 0., 0., 0., -inf],\n",
              "          [0., 0., 0., 0., 0., 0., 0., 0., 0., 0., 0.]],\n",
              "\n",
              "         [[0., -inf, -inf, -inf, -inf, -inf, -inf, -inf, -inf, -inf, -inf],\n",
              "          [0., 0., -inf, -inf, -inf, -inf, -inf, -inf, -inf, -inf, -inf],\n",
              "          [0., 0., 0., -inf, -inf, -inf, -inf, -inf, -inf, -inf, -inf],\n",
              "          [0., 0., 0., 0., -inf, -inf, -inf, -inf, -inf, -inf, -inf],\n",
              "          [0., 0., 0., 0., 0., -inf, -inf, -inf, -inf, -inf, -inf],\n",
              "          [0., 0., 0., 0., 0., 0., -inf, -inf, -inf, -inf, -inf],\n",
              "          [0., 0., 0., 0., 0., 0., 0., -inf, -inf, -inf, -inf],\n",
              "          [0., 0., 0., 0., 0., 0., 0., 0., -inf, -inf, -inf],\n",
              "          [0., 0., 0., 0., 0., 0., 0., 0., 0., -inf, -inf],\n",
              "          [0., 0., 0., 0., 0., 0., 0., 0., 0., 0., -inf],\n",
              "          [0., 0., 0., 0., 0., 0., 0., 0., 0., 0., 0.]],\n",
              "\n",
              "         [[0., -inf, -inf, -inf, -inf, -inf, -inf, -inf, -inf, -inf, -inf],\n",
              "          [0., 0., -inf, -inf, -inf, -inf, -inf, -inf, -inf, -inf, -inf],\n",
              "          [0., 0., 0., -inf, -inf, -inf, -inf, -inf, -inf, -inf, -inf],\n",
              "          [0., 0., 0., 0., -inf, -inf, -inf, -inf, -inf, -inf, -inf],\n",
              "          [0., 0., 0., 0., 0., -inf, -inf, -inf, -inf, -inf, -inf],\n",
              "          [0., 0., 0., 0., 0., 0., -inf, -inf, -inf, -inf, -inf],\n",
              "          [0., 0., 0., 0., 0., 0., 0., -inf, -inf, -inf, -inf],\n",
              "          [0., 0., 0., 0., 0., 0., 0., 0., -inf, -inf, -inf],\n",
              "          [0., 0., 0., 0., 0., 0., 0., 0., 0., -inf, -inf],\n",
              "          [0., 0., 0., 0., 0., 0., 0., 0., 0., 0., -inf],\n",
              "          [0., 0., 0., 0., 0., 0., 0., 0., 0., 0., 0.]],\n",
              "\n",
              "         [[0., -inf, -inf, -inf, -inf, -inf, -inf, -inf, -inf, -inf, -inf],\n",
              "          [0., 0., -inf, -inf, -inf, -inf, -inf, -inf, -inf, -inf, -inf],\n",
              "          [0., 0., 0., -inf, -inf, -inf, -inf, -inf, -inf, -inf, -inf],\n",
              "          [0., 0., 0., 0., -inf, -inf, -inf, -inf, -inf, -inf, -inf],\n",
              "          [0., 0., 0., 0., 0., -inf, -inf, -inf, -inf, -inf, -inf],\n",
              "          [0., 0., 0., 0., 0., 0., -inf, -inf, -inf, -inf, -inf],\n",
              "          [0., 0., 0., 0., 0., 0., 0., -inf, -inf, -inf, -inf],\n",
              "          [0., 0., 0., 0., 0., 0., 0., 0., -inf, -inf, -inf],\n",
              "          [0., 0., 0., 0., 0., 0., 0., 0., 0., -inf, -inf],\n",
              "          [0., 0., 0., 0., 0., 0., 0., 0., 0., 0., -inf],\n",
              "          [0., 0., 0., 0., 0., 0., 0., 0., 0., 0., 0.]],\n",
              "\n",
              "         [[0., -inf, -inf, -inf, -inf, -inf, -inf, -inf, -inf, -inf, -inf],\n",
              "          [0., 0., -inf, -inf, -inf, -inf, -inf, -inf, -inf, -inf, -inf],\n",
              "          [0., 0., 0., -inf, -inf, -inf, -inf, -inf, -inf, -inf, -inf],\n",
              "          [0., 0., 0., 0., -inf, -inf, -inf, -inf, -inf, -inf, -inf],\n",
              "          [0., 0., 0., 0., 0., -inf, -inf, -inf, -inf, -inf, -inf],\n",
              "          [0., 0., 0., 0., 0., 0., -inf, -inf, -inf, -inf, -inf],\n",
              "          [0., 0., 0., 0., 0., 0., 0., -inf, -inf, -inf, -inf],\n",
              "          [0., 0., 0., 0., 0., 0., 0., 0., -inf, -inf, -inf],\n",
              "          [0., 0., 0., 0., 0., 0., 0., 0., 0., -inf, -inf],\n",
              "          [0., 0., 0., 0., 0., 0., 0., 0., 0., 0., -inf],\n",
              "          [0., 0., 0., 0., 0., 0., 0., 0., 0., 0., 0.]],\n",
              "\n",
              "         [[0., -inf, -inf, -inf, -inf, -inf, -inf, -inf, -inf, -inf, -inf],\n",
              "          [0., 0., -inf, -inf, -inf, -inf, -inf, -inf, -inf, -inf, -inf],\n",
              "          [0., 0., 0., -inf, -inf, -inf, -inf, -inf, -inf, -inf, -inf],\n",
              "          [0., 0., 0., 0., -inf, -inf, -inf, -inf, -inf, -inf, -inf],\n",
              "          [0., 0., 0., 0., 0., -inf, -inf, -inf, -inf, -inf, -inf],\n",
              "          [0., 0., 0., 0., 0., 0., -inf, -inf, -inf, -inf, -inf],\n",
              "          [0., 0., 0., 0., 0., 0., 0., -inf, -inf, -inf, -inf],\n",
              "          [0., 0., 0., 0., 0., 0., 0., 0., -inf, -inf, -inf],\n",
              "          [0., 0., 0., 0., 0., 0., 0., 0., 0., -inf, -inf],\n",
              "          [0., 0., 0., 0., 0., 0., 0., 0., 0., 0., -inf],\n",
              "          [0., 0., 0., 0., 0., 0., 0., 0., 0., 0., 0.]],\n",
              "\n",
              "         [[0., -inf, -inf, -inf, -inf, -inf, -inf, -inf, -inf, -inf, -inf],\n",
              "          [0., 0., -inf, -inf, -inf, -inf, -inf, -inf, -inf, -inf, -inf],\n",
              "          [0., 0., 0., -inf, -inf, -inf, -inf, -inf, -inf, -inf, -inf],\n",
              "          [0., 0., 0., 0., -inf, -inf, -inf, -inf, -inf, -inf, -inf],\n",
              "          [0., 0., 0., 0., 0., -inf, -inf, -inf, -inf, -inf, -inf],\n",
              "          [0., 0., 0., 0., 0., 0., -inf, -inf, -inf, -inf, -inf],\n",
              "          [0., 0., 0., 0., 0., 0., 0., -inf, -inf, -inf, -inf],\n",
              "          [0., 0., 0., 0., 0., 0., 0., 0., -inf, -inf, -inf],\n",
              "          [0., 0., 0., 0., 0., 0., 0., 0., 0., -inf, -inf],\n",
              "          [0., 0., 0., 0., 0., 0., 0., 0., 0., 0., -inf],\n",
              "          [0., 0., 0., 0., 0., 0., 0., 0., 0., 0., 0.]]]])"
            ]
          },
          "metadata": {},
          "execution_count": 1239
        }
      ]
    },
    {
      "cell_type": "code",
      "source": [
        "# let us mask for single head\n",
        "new_mask[0][0]"
      ],
      "metadata": {
        "colab": {
          "base_uri": "https://localhost:8080/"
        },
        "id": "kfQqROSahm3c",
        "outputId": "45cc96b3-9c32-41e4-99ec-8f9b1ba763cc"
      },
      "execution_count": 1241,
      "outputs": [
        {
          "output_type": "execute_result",
          "data": {
            "text/plain": [
              "tensor([[0., -inf, -inf, -inf, -inf, -inf, -inf, -inf, -inf, -inf, -inf],\n",
              "        [0., 0., -inf, -inf, -inf, -inf, -inf, -inf, -inf, -inf, -inf],\n",
              "        [0., 0., 0., -inf, -inf, -inf, -inf, -inf, -inf, -inf, -inf],\n",
              "        [0., 0., 0., 0., -inf, -inf, -inf, -inf, -inf, -inf, -inf],\n",
              "        [0., 0., 0., 0., 0., -inf, -inf, -inf, -inf, -inf, -inf],\n",
              "        [0., 0., 0., 0., 0., 0., -inf, -inf, -inf, -inf, -inf],\n",
              "        [0., 0., 0., 0., 0., 0., 0., -inf, -inf, -inf, -inf],\n",
              "        [0., 0., 0., 0., 0., 0., 0., 0., -inf, -inf, -inf],\n",
              "        [0., 0., 0., 0., 0., 0., 0., 0., 0., -inf, -inf],\n",
              "        [0., 0., 0., 0., 0., 0., 0., 0., 0., 0., -inf],\n",
              "        [0., 0., 0., 0., 0., 0., 0., 0., 0., 0., 0.]])"
            ]
          },
          "metadata": {},
          "execution_count": 1241
        }
      ]
    },
    {
      "cell_type": "code",
      "source": [
        "scaled + new_mask"
      ],
      "metadata": {
        "colab": {
          "base_uri": "https://localhost:8080/"
        },
        "collapsed": true,
        "id": "QWKz9OmFhOdK",
        "outputId": "fa0f3d07-64c9-42b3-af30-17c5ab77f361"
      },
      "execution_count": 1242,
      "outputs": [
        {
          "output_type": "execute_result",
          "data": {
            "text/plain": [
              "tensor([[[[ 2.3270e-01,        -inf,        -inf,        -inf,        -inf,\n",
              "                  -inf,        -inf,        -inf,        -inf,        -inf,\n",
              "                  -inf],\n",
              "          [-1.7532e-01,  4.7731e-02,        -inf,        -inf,        -inf,\n",
              "                  -inf,        -inf,        -inf,        -inf,        -inf,\n",
              "                  -inf],\n",
              "          [-8.8792e-02, -1.7955e-01,  1.9891e-01,        -inf,        -inf,\n",
              "                  -inf,        -inf,        -inf,        -inf,        -inf,\n",
              "                  -inf],\n",
              "          [-4.1302e-01,  3.1690e-01, -2.9456e-01, -2.1904e-01,        -inf,\n",
              "                  -inf,        -inf,        -inf,        -inf,        -inf,\n",
              "                  -inf],\n",
              "          [-3.5620e-01,  3.9888e-01, -1.7797e-01,  1.3231e-01,  3.3163e-02,\n",
              "                  -inf,        -inf,        -inf,        -inf,        -inf,\n",
              "                  -inf],\n",
              "          [-1.8435e-01,  2.0549e-01, -5.2869e-01, -3.2333e-01, -4.2247e-01,\n",
              "            9.1917e-02,        -inf,        -inf,        -inf,        -inf,\n",
              "                  -inf],\n",
              "          [ 3.5969e-01,  1.3044e-01, -2.6544e-01, -3.7248e-01,  1.5920e-01,\n",
              "            6.5500e-02,  3.7031e-01,        -inf,        -inf,        -inf,\n",
              "                  -inf],\n",
              "          [ 5.7697e-01, -1.7442e-01, -2.5451e-01,  9.3681e-02,  9.8368e-02,\n",
              "            1.3202e-01, -3.2167e-01,  6.8004e-01,        -inf,        -inf,\n",
              "                  -inf],\n",
              "          [-8.3649e-02, -2.3734e-01,  2.1781e-01, -7.9006e-04, -4.1447e-01,\n",
              "           -3.4460e-01,  1.7238e-02,  2.3724e-01, -4.2502e-01,        -inf,\n",
              "                  -inf],\n",
              "          [ 7.0564e-03,  5.5290e-01, -1.4147e-01,  6.8539e-02,  2.1465e-01,\n",
              "           -5.7693e-01,  2.0001e-01, -6.0704e-01, -2.5783e-02, -5.9759e-01,\n",
              "                  -inf],\n",
              "          [ 4.9124e-01,  4.2237e-01, -2.5626e-01,  1.2289e-01, -4.7780e-01,\n",
              "           -1.8266e-01, -5.5473e-01, -5.0380e-02,  3.5032e-01, -2.7437e-01,\n",
              "           -1.7318e-01]],\n",
              "\n",
              "         [[ 1.0334e+00,        -inf,        -inf,        -inf,        -inf,\n",
              "                  -inf,        -inf,        -inf,        -inf,        -inf,\n",
              "                  -inf],\n",
              "          [-2.7298e-01,  4.2748e-01,        -inf,        -inf,        -inf,\n",
              "                  -inf,        -inf,        -inf,        -inf,        -inf,\n",
              "                  -inf],\n",
              "          [ 2.6357e-01, -4.4195e-01, -2.1920e-01,        -inf,        -inf,\n",
              "                  -inf,        -inf,        -inf,        -inf,        -inf,\n",
              "                  -inf],\n",
              "          [-2.4533e-01,  1.8745e-01,  4.3094e-01, -5.7345e-01,        -inf,\n",
              "                  -inf,        -inf,        -inf,        -inf,        -inf,\n",
              "                  -inf],\n",
              "          [-8.3951e-01, -2.2486e-02, -3.3187e-01,  8.8789e-02,  2.9859e-01,\n",
              "                  -inf,        -inf,        -inf,        -inf,        -inf,\n",
              "                  -inf],\n",
              "          [ 1.2267e+00,  1.7799e-01,  7.8791e-02, -2.3460e-01, -1.8457e-01,\n",
              "            1.1753e-01,        -inf,        -inf,        -inf,        -inf,\n",
              "                  -inf],\n",
              "          [-5.0361e-01,  4.6553e-01,  1.3177e-01,  1.0622e-01, -6.0796e-02,\n",
              "            1.8286e-01,  6.5098e-02,        -inf,        -inf,        -inf,\n",
              "                  -inf],\n",
              "          [-2.9993e-01,  4.6411e-02, -2.0721e-01, -2.0388e-01, -7.0444e-01,\n",
              "            2.1437e-01,  1.7401e-01, -3.1651e-01,        -inf,        -inf,\n",
              "                  -inf],\n",
              "          [ 4.3718e-01, -1.0026e-01, -5.0030e-01,  1.0924e-01,  1.2389e-01,\n",
              "            2.9051e-01,  2.7101e-01,  1.7653e-01,  2.3511e-01,        -inf,\n",
              "                  -inf],\n",
              "          [-4.8549e-01, -3.1781e-01,  1.6332e-01,  5.7164e-02,  2.0119e-01,\n",
              "           -8.0703e-01,  2.5336e-01,  3.3484e-01,  1.3400e-01,  1.5853e-01,\n",
              "                  -inf],\n",
              "          [ 2.5370e-01, -2.1979e-01,  1.6757e-01,  1.5891e-01, -2.9895e-01,\n",
              "            1.8580e-01, -6.3070e-01, -4.1109e-01,  5.0057e-02,  1.4618e-01,\n",
              "           -2.5587e-01]],\n",
              "\n",
              "         [[-2.7480e-02,        -inf,        -inf,        -inf,        -inf,\n",
              "                  -inf,        -inf,        -inf,        -inf,        -inf,\n",
              "                  -inf],\n",
              "          [ 2.7542e-01,  5.2157e-02,        -inf,        -inf,        -inf,\n",
              "                  -inf,        -inf,        -inf,        -inf,        -inf,\n",
              "                  -inf],\n",
              "          [ 3.3275e-03, -2.8202e-02, -4.3906e-03,        -inf,        -inf,\n",
              "                  -inf,        -inf,        -inf,        -inf,        -inf,\n",
              "                  -inf],\n",
              "          [ 1.4485e-01, -1.4802e-01, -4.6958e-03, -1.9814e-01,        -inf,\n",
              "                  -inf,        -inf,        -inf,        -inf,        -inf,\n",
              "                  -inf],\n",
              "          [ 2.4301e-01, -4.4526e-01, -1.0858e-01,  3.5654e-02,  5.9301e-01,\n",
              "                  -inf,        -inf,        -inf,        -inf,        -inf,\n",
              "                  -inf],\n",
              "          [-1.9389e-01, -3.3452e-02,  2.4767e-01, -2.7595e-03, -2.3608e-01,\n",
              "            7.4302e-02,        -inf,        -inf,        -inf,        -inf,\n",
              "                  -inf],\n",
              "          [-8.5763e-01,  1.0397e-01,  4.8180e-01, -1.9358e-01,  1.6186e-01,\n",
              "           -2.7532e-01, -2.9210e-01,        -inf,        -inf,        -inf,\n",
              "                  -inf],\n",
              "          [ 2.0916e-01,  2.4604e-01,  2.5199e-01, -2.1651e-01, -9.3542e-02,\n",
              "           -3.7987e-01, -1.4281e-01, -1.4688e-01,        -inf,        -inf,\n",
              "                  -inf],\n",
              "          [ 9.0055e-02,  2.0013e-01, -2.5204e-01, -1.8669e-01,  1.8102e-01,\n",
              "           -3.5681e-01,  3.7323e-01,  4.2473e-01, -7.7679e-03,        -inf,\n",
              "                  -inf],\n",
              "          [-4.0182e-01,  4.5497e-01, -1.1836e-01,  1.7327e-01, -7.4799e-02,\n",
              "           -1.5290e-01, -1.3482e-01, -4.8569e-01, -3.2718e-01, -2.4695e-01,\n",
              "                  -inf],\n",
              "          [ 2.8931e-01,  2.5749e-01, -4.8199e-01, -2.3070e-02, -3.0938e-01,\n",
              "           -5.9111e-02, -1.3160e-01, -4.8381e-02,  3.9483e-01,  2.5315e-01,\n",
              "            1.9986e-01]],\n",
              "\n",
              "         [[-5.3599e-01,        -inf,        -inf,        -inf,        -inf,\n",
              "                  -inf,        -inf,        -inf,        -inf,        -inf,\n",
              "                  -inf],\n",
              "          [-6.2308e-02, -2.0229e-01,        -inf,        -inf,        -inf,\n",
              "                  -inf,        -inf,        -inf,        -inf,        -inf,\n",
              "                  -inf],\n",
              "          [ 5.9127e-02,  4.8421e-01,  1.5862e-01,        -inf,        -inf,\n",
              "                  -inf,        -inf,        -inf,        -inf,        -inf,\n",
              "                  -inf],\n",
              "          [ 1.0229e-01,  2.8181e-01,  1.4826e-01,  1.4800e-01,        -inf,\n",
              "                  -inf,        -inf,        -inf,        -inf,        -inf,\n",
              "                  -inf],\n",
              "          [-3.5876e-02,  4.2635e-01, -1.7651e-01, -5.7745e-01,  4.0115e-01,\n",
              "                  -inf,        -inf,        -inf,        -inf,        -inf,\n",
              "                  -inf],\n",
              "          [-7.5657e-01,  4.9162e-02,  6.5575e-02, -3.4605e-01, -7.7043e-02,\n",
              "            2.9768e-01,        -inf,        -inf,        -inf,        -inf,\n",
              "                  -inf],\n",
              "          [ 5.5560e-01,  2.4329e-01,  4.1579e-01, -9.0793e-02, -5.7795e-02,\n",
              "           -6.4130e-02, -8.9448e-02,        -inf,        -inf,        -inf,\n",
              "                  -inf],\n",
              "          [-3.2755e-02, -2.7698e-01,  1.5136e-01,  3.7276e-01, -1.4023e-01,\n",
              "           -2.1173e-01, -5.4086e-01, -6.8283e-01,        -inf,        -inf,\n",
              "                  -inf],\n",
              "          [ 4.0879e-01, -7.8184e-02,  1.1864e-01, -1.2701e-01,  3.8728e-01,\n",
              "           -3.0705e-01, -1.3157e-01,  1.7759e-01, -5.2247e-01,        -inf,\n",
              "                  -inf],\n",
              "          [-8.8838e-03, -7.1280e-02,  6.1225e-01,  2.0098e-01,  3.5035e-01,\n",
              "            2.7886e-01,  3.1544e-02, -6.2489e-01,  2.3597e-01, -2.2463e-01,\n",
              "                  -inf],\n",
              "          [-2.4571e-01,  1.2268e-01, -3.2364e-02,  1.3408e-01, -2.7375e-01,\n",
              "           -4.4426e-01, -2.7599e-01,  2.1931e-01,  3.9065e-02,  2.0463e-01,\n",
              "           -7.0606e-01]],\n",
              "\n",
              "         [[ 1.1251e-01,        -inf,        -inf,        -inf,        -inf,\n",
              "                  -inf,        -inf,        -inf,        -inf,        -inf,\n",
              "                  -inf],\n",
              "          [-8.2352e-03, -1.6672e-01,        -inf,        -inf,        -inf,\n",
              "                  -inf,        -inf,        -inf,        -inf,        -inf,\n",
              "                  -inf],\n",
              "          [-1.8258e-01, -3.9313e-01,  6.9139e-02,        -inf,        -inf,\n",
              "                  -inf,        -inf,        -inf,        -inf,        -inf,\n",
              "                  -inf],\n",
              "          [ 3.6450e-01, -1.4816e-01, -1.3963e-02,  1.5157e-01,        -inf,\n",
              "                  -inf,        -inf,        -inf,        -inf,        -inf,\n",
              "                  -inf],\n",
              "          [ 8.5088e-01, -4.4969e-01,  2.0040e-01,  1.0877e+00, -5.8369e-01,\n",
              "                  -inf,        -inf,        -inf,        -inf,        -inf,\n",
              "                  -inf],\n",
              "          [ 3.2463e-01, -2.3629e-01,  1.9423e-01, -2.5671e-01, -3.3961e-01,\n",
              "            4.0869e-01,        -inf,        -inf,        -inf,        -inf,\n",
              "                  -inf],\n",
              "          [-4.4647e-01, -3.5120e-01,  1.5624e-01,  3.4155e-01, -8.1877e-02,\n",
              "           -2.4395e-01,  1.0731e-01,        -inf,        -inf,        -inf,\n",
              "                  -inf],\n",
              "          [ 4.5104e-02, -1.3578e-01, -1.5499e-02,  1.2600e-01, -3.3193e-01,\n",
              "            1.0293e-02, -6.2048e-02,  3.7423e-01,        -inf,        -inf,\n",
              "                  -inf],\n",
              "          [ 7.0415e-01, -1.1274e-01,  7.4292e-02,  2.7003e-01,  2.1042e-01,\n",
              "            6.7758e-02, -2.3306e-01, -4.4982e-01, -2.6315e-01,        -inf,\n",
              "                  -inf],\n",
              "          [ 6.7684e-02,  5.4091e-02, -2.3733e-01,  1.1529e-01, -5.4997e-01,\n",
              "           -4.0389e-01, -2.8364e-01, -4.0516e-01,  3.4614e-02,  4.4328e-02,\n",
              "                  -inf],\n",
              "          [-5.2088e-01, -5.0684e-02,  3.5978e-01,  4.0612e-01, -3.0096e-01,\n",
              "            2.9201e-01,  2.0640e-01, -2.1491e-01,  4.6812e-01,  1.0958e-01,\n",
              "            4.9410e-02]],\n",
              "\n",
              "         [[ 3.2555e-02,        -inf,        -inf,        -inf,        -inf,\n",
              "                  -inf,        -inf,        -inf,        -inf,        -inf,\n",
              "                  -inf],\n",
              "          [-2.5971e-01, -7.7552e-01,        -inf,        -inf,        -inf,\n",
              "                  -inf,        -inf,        -inf,        -inf,        -inf,\n",
              "                  -inf],\n",
              "          [ 4.8182e-02,  5.7051e-01, -1.8523e-02,        -inf,        -inf,\n",
              "                  -inf,        -inf,        -inf,        -inf,        -inf,\n",
              "                  -inf],\n",
              "          [-2.4942e-01, -5.7895e-01, -7.6845e-02,  1.7046e-02,        -inf,\n",
              "                  -inf,        -inf,        -inf,        -inf,        -inf,\n",
              "                  -inf],\n",
              "          [-1.3163e-03, -4.9358e-01,  3.0957e-01, -1.0190e-01,  9.5855e-02,\n",
              "                  -inf,        -inf,        -inf,        -inf,        -inf,\n",
              "                  -inf],\n",
              "          [-4.6070e-01, -8.1160e-01, -3.4147e-01, -3.0844e-01,  1.4952e-01,\n",
              "            4.0530e-01,        -inf,        -inf,        -inf,        -inf,\n",
              "                  -inf],\n",
              "          [ 3.2194e-02, -1.8568e-01, -2.0342e-01, -1.9215e-01,  2.4131e-01,\n",
              "           -6.2756e-01,  1.5979e-01,        -inf,        -inf,        -inf,\n",
              "                  -inf],\n",
              "          [-6.6390e-01,  2.0231e-01, -5.2428e-01, -4.4414e-01,  5.7235e-02,\n",
              "           -4.2590e-01,  7.0589e-01,  3.2748e-01,        -inf,        -inf,\n",
              "                  -inf],\n",
              "          [-8.0199e-01, -5.0010e-01, -5.9410e-02,  5.8252e-01, -7.8590e-02,\n",
              "            4.3803e-01,  4.5629e-01,  3.8397e-01,  5.7974e-02,        -inf,\n",
              "                  -inf],\n",
              "          [-1.9996e-02, -4.0580e-01,  4.8782e-01,  3.7913e-02,  1.5472e-01,\n",
              "            3.3807e-01, -2.1401e-01,  4.2622e-02, -8.2220e-01,  3.9673e-02,\n",
              "                  -inf],\n",
              "          [ 3.3773e-01, -1.5853e-01,  2.5326e-01, -4.9871e-01,  7.4975e-02,\n",
              "           -9.9629e-02, -1.1957e-01, -1.5873e-02, -3.5045e-01, -1.4330e-01,\n",
              "           -4.4840e-02]],\n",
              "\n",
              "         [[ 3.7415e-01,        -inf,        -inf,        -inf,        -inf,\n",
              "                  -inf,        -inf,        -inf,        -inf,        -inf,\n",
              "                  -inf],\n",
              "          [-6.9619e-01, -5.9017e-01,        -inf,        -inf,        -inf,\n",
              "                  -inf,        -inf,        -inf,        -inf,        -inf,\n",
              "                  -inf],\n",
              "          [ 2.0940e-01, -1.6358e-01, -2.5104e-01,        -inf,        -inf,\n",
              "                  -inf,        -inf,        -inf,        -inf,        -inf,\n",
              "                  -inf],\n",
              "          [ 1.0345e+00,  5.5276e-01, -1.2645e-01, -4.5897e-01,        -inf,\n",
              "                  -inf,        -inf,        -inf,        -inf,        -inf,\n",
              "                  -inf],\n",
              "          [-1.7717e-01,  3.6329e-01,  8.7958e-01, -2.4280e-01,  8.2468e-01,\n",
              "                  -inf,        -inf,        -inf,        -inf,        -inf,\n",
              "                  -inf],\n",
              "          [-7.7289e-01,  2.0752e-03, -4.3906e-01, -1.7196e-01, -1.5754e-01,\n",
              "           -6.3663e-02,        -inf,        -inf,        -inf,        -inf,\n",
              "                  -inf],\n",
              "          [-3.4246e-02,  8.9904e-02, -2.2728e-01,  2.7841e-01, -2.5282e-01,\n",
              "            3.6563e-02,  4.5425e-01,        -inf,        -inf,        -inf,\n",
              "                  -inf],\n",
              "          [ 1.2292e-01, -2.8443e-01, -2.9415e-01,  9.5182e-01,  7.5164e-02,\n",
              "            3.0676e-02,  2.2165e-03,  5.1098e-01,        -inf,        -inf,\n",
              "                  -inf],\n",
              "          [-2.9435e-02, -5.4098e-02,  4.7479e-01, -2.8143e-01,  1.1738e-01,\n",
              "           -6.3993e-02,  3.4511e-02,  3.1553e-01, -1.2768e-01,        -inf,\n",
              "                  -inf],\n",
              "          [-1.2958e-01, -1.5242e-01, -4.7107e-01,  5.6354e-01, -1.3034e-01,\n",
              "           -5.7213e-01, -1.4890e-01,  4.3039e-01, -4.6185e-02, -3.5198e-01,\n",
              "                  -inf],\n",
              "          [-6.1052e-01,  2.1987e-02, -1.2800e-01, -6.3424e-01,  1.3658e-01,\n",
              "           -3.5736e-01, -3.6596e-01, -2.3688e-01,  1.9650e-02, -1.7184e-01,\n",
              "            1.7108e-01]],\n",
              "\n",
              "         [[-3.2410e-01,        -inf,        -inf,        -inf,        -inf,\n",
              "                  -inf,        -inf,        -inf,        -inf,        -inf,\n",
              "                  -inf],\n",
              "          [ 3.2857e-01,  1.8418e-01,        -inf,        -inf,        -inf,\n",
              "                  -inf,        -inf,        -inf,        -inf,        -inf,\n",
              "                  -inf],\n",
              "          [ 9.1039e-02,  8.1682e-01, -3.3107e-01,        -inf,        -inf,\n",
              "                  -inf,        -inf,        -inf,        -inf,        -inf,\n",
              "                  -inf],\n",
              "          [-4.8370e-02, -8.4696e-02, -3.1275e-01,  1.1941e-02,        -inf,\n",
              "                  -inf,        -inf,        -inf,        -inf,        -inf,\n",
              "                  -inf],\n",
              "          [ 6.6594e-01,  1.1476e-01,  2.5561e-01, -1.9718e-01,  5.9741e-03,\n",
              "                  -inf,        -inf,        -inf,        -inf,        -inf,\n",
              "                  -inf],\n",
              "          [ 1.3015e-02,  1.7410e-01, -4.5405e-01, -6.2520e-02, -4.0881e-02,\n",
              "           -1.0907e-01,        -inf,        -inf,        -inf,        -inf,\n",
              "                  -inf],\n",
              "          [-8.9550e-02, -1.9237e-01, -8.0847e-03, -8.4214e-01,  1.0917e-01,\n",
              "           -3.9107e-01,  1.7213e-01,        -inf,        -inf,        -inf,\n",
              "                  -inf],\n",
              "          [-2.6271e-01, -2.7839e-01, -5.3217e-01,  2.3311e-01, -3.6704e-01,\n",
              "            1.3926e-03,  4.7818e-01, -9.9975e-02,        -inf,        -inf,\n",
              "                  -inf],\n",
              "          [ 1.8553e-01,  8.2073e-02, -1.7147e-01,  8.2727e-02,  1.3716e-01,\n",
              "           -3.0982e-01,  4.3498e-01, -1.7194e-01, -2.9561e-03,        -inf,\n",
              "                  -inf],\n",
              "          [ 1.1221e-01, -2.8078e-01,  6.3420e-01,  3.8546e-02,  2.9319e-01,\n",
              "           -2.3352e-01,  5.1611e-01,  6.7351e-02, -3.7648e-01,  2.7448e-01,\n",
              "                  -inf],\n",
              "          [-3.0042e-01,  4.9282e-01, -1.3192e-01, -5.7492e-01, -2.1635e-01,\n",
              "           -1.8014e-01,  1.7814e-01, -1.7753e-01, -1.9145e-01, -6.2379e-01,\n",
              "            2.7253e-01]]]], grad_fn=<AddBackward0>)"
            ]
          },
          "metadata": {},
          "execution_count": 1242
        }
      ]
    },
    {
      "cell_type": "code",
      "source": [
        "(scaled + new_mask).shape"
      ],
      "metadata": {
        "colab": {
          "base_uri": "https://localhost:8080/"
        },
        "id": "ES_kNm0rimv1",
        "outputId": "9b108024-6021-4900-c2bb-3bcda21d490a"
      },
      "execution_count": 1243,
      "outputs": [
        {
          "output_type": "execute_result",
          "data": {
            "text/plain": [
              "torch.Size([1, 8, 11, 11])"
            ]
          },
          "metadata": {},
          "execution_count": 1243
        }
      ]
    },
    {
      "cell_type": "code",
      "source": [
        "(scaled + new_mask)[0][0]"
      ],
      "metadata": {
        "colab": {
          "base_uri": "https://localhost:8080/"
        },
        "id": "04y8f6V5ipLM",
        "outputId": "f2469c10-7f11-4bee-a4bc-10132a1066e0"
      },
      "execution_count": 1244,
      "outputs": [
        {
          "output_type": "execute_result",
          "data": {
            "text/plain": [
              "tensor([[ 0.2327,    -inf,    -inf,    -inf,    -inf,    -inf,    -inf,    -inf,\n",
              "            -inf,    -inf,    -inf],\n",
              "        [-0.1753,  0.0477,    -inf,    -inf,    -inf,    -inf,    -inf,    -inf,\n",
              "            -inf,    -inf,    -inf],\n",
              "        [-0.0888, -0.1796,  0.1989,    -inf,    -inf,    -inf,    -inf,    -inf,\n",
              "            -inf,    -inf,    -inf],\n",
              "        [-0.4130,  0.3169, -0.2946, -0.2190,    -inf,    -inf,    -inf,    -inf,\n",
              "            -inf,    -inf,    -inf],\n",
              "        [-0.3562,  0.3989, -0.1780,  0.1323,  0.0332,    -inf,    -inf,    -inf,\n",
              "            -inf,    -inf,    -inf],\n",
              "        [-0.1843,  0.2055, -0.5287, -0.3233, -0.4225,  0.0919,    -inf,    -inf,\n",
              "            -inf,    -inf,    -inf],\n",
              "        [ 0.3597,  0.1304, -0.2654, -0.3725,  0.1592,  0.0655,  0.3703,    -inf,\n",
              "            -inf,    -inf,    -inf],\n",
              "        [ 0.5770, -0.1744, -0.2545,  0.0937,  0.0984,  0.1320, -0.3217,  0.6800,\n",
              "            -inf,    -inf,    -inf],\n",
              "        [-0.0836, -0.2373,  0.2178, -0.0008, -0.4145, -0.3446,  0.0172,  0.2372,\n",
              "         -0.4250,    -inf,    -inf],\n",
              "        [ 0.0071,  0.5529, -0.1415,  0.0685,  0.2146, -0.5769,  0.2000, -0.6070,\n",
              "         -0.0258, -0.5976,    -inf],\n",
              "        [ 0.4912,  0.4224, -0.2563,  0.1229, -0.4778, -0.1827, -0.5547, -0.0504,\n",
              "          0.3503, -0.2744, -0.1732]], grad_fn=<SelectBackward0>)"
            ]
          },
          "metadata": {},
          "execution_count": 1244
        }
      ]
    }
  ]
}